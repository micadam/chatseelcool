{
 "cells": [
  {
   "cell_type": "code",
   "execution_count": 41,
   "metadata": {},
   "outputs": [],
   "source": [
    "import psycopg2\n",
    "\n",
    "PORT = 54320\n",
    "\n",
    "# connect to the postgresql db\n",
    "conn = psycopg2.connect(\n",
    "  host=\"localhost\",\n",
    "  port=PORT,\n",
    "  dbname=\"coolseel\",\n",
    "  user=\"coolseel\",\n",
    "  password=\"password\"\n",
    ")\n",
    "\n",
    "cur = conn.cursor()"
   ]
  },
  {
   "cell_type": "code",
   "execution_count": 39,
   "metadata": {},
   "outputs": [
    {
     "name": "stdout",
     "output_type": "stream",
     "text": [
      "Streamer, Stream Count, Segment Count, Message Count\n",
      "('northernlion', 2, 2, 62011)\n",
      "('boxbox', 1, 2, 1851)\n"
     ]
    }
   ],
   "source": [
    "# SELECT streamer.name, COUNT(stream) COUNT(segment), COUNT(message)\n",
    "# FROM streamer\n",
    "# LEFT JOIN stream ON streamer.id = stream.streamer_id\n",
    "# LEFT JOIN segment ON stream.id = segment.stream_id\n",
    "# LEFT JOIN message ON segment.id = message.segment_id\n",
    "# GROUP BY streamer.name\n",
    "# ORDER BY COUNT(stream) DESC\n",
    "\n",
    "cur.execute(\"\"\"\n",
    "SELECT \"Streamer\".name, COUNT(distinct \"Stream\".id), COUNT(distinct \"Segment\".id), COUNT(distinct \"Message\".id)\n",
    "FROM \"Streamer\"\n",
    "LEFT JOIN \"Stream\" ON \"Streamer\".id = \"Stream\".\"streamerId\"\n",
    "LEFT JOIN \"Segment\" ON \"Stream\".id = \"Segment\".\"streamId\"\n",
    "LEFT JOIN \"Message\" ON \"Segment\".id = \"Message\".\"segmentId\"\n",
    "WHERE \"Stream\".live = true\n",
    "GROUP BY \"Streamer\".name\n",
    "ORDER BY COUNT(\"Stream\".id) DESC\n",
    "\"\"\")\n",
    "rows = cur.fetchall()\n",
    "print(\"Streamer, Stream Count, Segment Count, Message Count\")\n",
    "for row in rows:\n",
    "  print(row)"
   ]
  },
  {
   "cell_type": "code",
   "execution_count": 32,
   "metadata": {},
   "outputs": [],
   "source": [
    "conn.rollback()"
   ]
  },
  {
   "cell_type": "code",
   "execution_count": 42,
   "metadata": {},
   "outputs": [
    {
     "ename": "UndefinedColumn",
     "evalue": "column Segment.end does not exist\nLINE 2: SELECT \"Segment\".id, \"Segment\".start, \"Segment\".end, \"Segmen...\n                                              ^\n",
     "output_type": "error",
     "traceback": [
      "\u001b[0;31m---------------------------------------------------------------------------\u001b[0m",
      "\u001b[0;31mUndefinedColumn\u001b[0m                           Traceback (most recent call last)",
      "\u001b[1;32m/home/adam/coolseelBot/code/nl-twitch-chat/coolseelBot/generate_db_summary.ipynb Cell 4\u001b[0m line \u001b[0;36m2\n\u001b[1;32m      <a href='vscode-notebook-cell://ssh-remote%2Brpi-remote/home/adam/coolseelBot/code/nl-twitch-chat/coolseelBot/generate_db_summary.ipynb#W3sdnNjb2RlLXJlbW90ZQ%3D%3D?line=0'>1</a>\u001b[0m \u001b[39m# Select all segements associated with streamer 1\u001b[39;00m\n\u001b[0;32m----> <a href='vscode-notebook-cell://ssh-remote%2Brpi-remote/home/adam/coolseelBot/code/nl-twitch-chat/coolseelBot/generate_db_summary.ipynb#W3sdnNjb2RlLXJlbW90ZQ%3D%3D?line=1'>2</a>\u001b[0m cur\u001b[39m.\u001b[39;49mexecute(\u001b[39m\"\"\"\u001b[39;49m\n\u001b[1;32m      <a href='vscode-notebook-cell://ssh-remote%2Brpi-remote/home/adam/coolseelBot/code/nl-twitch-chat/coolseelBot/generate_db_summary.ipynb#W3sdnNjb2RlLXJlbW90ZQ%3D%3D?line=2'>3</a>\u001b[0m \u001b[39mSELECT \u001b[39;49m\u001b[39m\"\u001b[39;49m\u001b[39mSegment\u001b[39;49m\u001b[39m\"\u001b[39;49m\u001b[39m.id, \u001b[39;49m\u001b[39m\"\u001b[39;49m\u001b[39mSegment\u001b[39;49m\u001b[39m\"\u001b[39;49m\u001b[39m.start, \u001b[39;49m\u001b[39m\"\u001b[39;49m\u001b[39mSegment\u001b[39;49m\u001b[39m\"\u001b[39;49m\u001b[39m.end, \u001b[39;49m\u001b[39m\"\u001b[39;49m\u001b[39mSegment\u001b[39;49m\u001b[39m\"\u001b[39;49m\u001b[39m.duration, \u001b[39;49m\u001b[39m\"\u001b[39;49m\u001b[39mSegment\u001b[39;49m\u001b[39m\"\u001b[39;49m\u001b[39m.url\u001b[39;49m\n\u001b[1;32m      <a href='vscode-notebook-cell://ssh-remote%2Brpi-remote/home/adam/coolseelBot/code/nl-twitch-chat/coolseelBot/generate_db_summary.ipynb#W3sdnNjb2RlLXJlbW90ZQ%3D%3D?line=3'>4</a>\u001b[0m \u001b[39mFROM \u001b[39;49m\u001b[39m\"\u001b[39;49m\u001b[39mSegment\u001b[39;49m\u001b[39m\"\u001b[39;49m\n\u001b[1;32m      <a href='vscode-notebook-cell://ssh-remote%2Brpi-remote/home/adam/coolseelBot/code/nl-twitch-chat/coolseelBot/generate_db_summary.ipynb#W3sdnNjb2RlLXJlbW90ZQ%3D%3D?line=4'>5</a>\u001b[0m \u001b[39mLEFT JOIN \u001b[39;49m\u001b[39m\"\u001b[39;49m\u001b[39mStream\u001b[39;49m\u001b[39m\"\u001b[39;49m\u001b[39m ON \u001b[39;49m\u001b[39m\"\u001b[39;49m\u001b[39mSegment\u001b[39;49m\u001b[39m\"\u001b[39;49m\u001b[39m.\u001b[39;49m\u001b[39m\"\u001b[39;49m\u001b[39mstreamId\u001b[39;49m\u001b[39m\"\u001b[39;49m\u001b[39m = \u001b[39;49m\u001b[39m\"\u001b[39;49m\u001b[39mStream\u001b[39;49m\u001b[39m\"\u001b[39;49m\u001b[39m.id\u001b[39;49m\n\u001b[1;32m      <a href='vscode-notebook-cell://ssh-remote%2Brpi-remote/home/adam/coolseelBot/code/nl-twitch-chat/coolseelBot/generate_db_summary.ipynb#W3sdnNjb2RlLXJlbW90ZQ%3D%3D?line=5'>6</a>\u001b[0m \u001b[39mWHERE \u001b[39;49m\u001b[39m\"\u001b[39;49m\u001b[39mStream\u001b[39;49m\u001b[39m\"\u001b[39;49m\u001b[39m.\u001b[39;49m\u001b[39m\"\u001b[39;49m\u001b[39mstreamerId\u001b[39;49m\u001b[39m\"\u001b[39;49m\u001b[39m = 1\u001b[39;49m\n\u001b[1;32m      <a href='vscode-notebook-cell://ssh-remote%2Brpi-remote/home/adam/coolseelBot/code/nl-twitch-chat/coolseelBot/generate_db_summary.ipynb#W3sdnNjb2RlLXJlbW90ZQ%3D%3D?line=6'>7</a>\u001b[0m \u001b[39m\"\"\"\u001b[39;49m)\n\u001b[1;32m      <a href='vscode-notebook-cell://ssh-remote%2Brpi-remote/home/adam/coolseelBot/code/nl-twitch-chat/coolseelBot/generate_db_summary.ipynb#W3sdnNjb2RlLXJlbW90ZQ%3D%3D?line=7'>8</a>\u001b[0m rows \u001b[39m=\u001b[39m cur\u001b[39m.\u001b[39mfetchall()\n\u001b[1;32m      <a href='vscode-notebook-cell://ssh-remote%2Brpi-remote/home/adam/coolseelBot/code/nl-twitch-chat/coolseelBot/generate_db_summary.ipynb#W3sdnNjb2RlLXJlbW90ZQ%3D%3D?line=8'>9</a>\u001b[0m \u001b[39mprint\u001b[39m(\u001b[39m\"\u001b[39m\u001b[39mSegment ID, Start, End, Duration, URL\u001b[39m\u001b[39m\"\u001b[39m)\n",
      "\u001b[0;31mUndefinedColumn\u001b[0m: column Segment.end does not exist\nLINE 2: SELECT \"Segment\".id, \"Segment\".start, \"Segment\".end, \"Segmen...\n                                              ^\n"
     ]
    }
   ],
   "source": [
    "# Select all segements associated with streamer 1\n",
    "cur.execute(\"\"\"\n",
    "SELECT \"Segment\".id, \"Segment\".start, \"Segment\".duration, \"Segment\".url\n",
    "FROM \"Segment\"\n",
    "LEFT JOIN \"Stream\" ON \"Segment\".\"streamId\" = \"Stream\".id\n",
    "WHERE \"Stream\".\"streamerId\" = 1\n",
    "\"\"\")\n",
    "rows = cur.fetchall()\n",
    "print(\"Segment ID, Start, End, Duration, URL\")\n",
    "for row in rows:\n",
    "  print(row)"
   ]
  },
  {
   "cell_type": "code",
   "execution_count": null,
   "metadata": {},
   "outputs": [],
   "source": []
  },
  {
   "cell_type": "code",
   "execution_count": 34,
   "metadata": {},
   "outputs": [],
   "source": [
    "# insert 3 fake streams with 100000 messages each for streamer 1\n",
    "for i in range(3):\n",
    "  cur.execute(\"\"\"\n",
    "  INSERT INTO \"Stream\" (\"streamerId\", \"live\", \"start\")\n",
    "  VALUES (1, true, NOW())\n",
    "  RETURNING id\n",
    "  \"\"\")\n",
    "  stream_id = cur.fetchone()[0]\n",
    "  cur.execute(\"\"\"\n",
    "  INSERT INTO \"Segment\" (\"streamId\", game, start)\n",
    "  VALUES (%s, %s, NOW())\n",
    "  RETURNING id\n",
    "  \"\"\", (stream_id, \"Test Game\"))\n",
    "  segment_id = cur.fetchone()[0]\n",
    "  for j in range(100000):\n",
    "    cur.execute(\"\"\"\n",
    "    INSERT INTO \"Message\" (\"segmentId\", \"secondsSinceStart\", \"text\", \"username\")\n",
    "    VALUES (%s, %s, %s, %s)\n",
    "    \"\"\", (segment_id, j, f\"This is a test message number {j}\", \"test_user\"))"
   ]
  },
  {
   "cell_type": "code",
   "execution_count": 37,
   "metadata": {},
   "outputs": [],
   "source": [
    "# delete all messages from \"test_user\"\n",
    "cur.execute(\"\"\"\n",
    "DELETE FROM \"Message\"\n",
    "WHERE \"username\" = 'test_user'\n",
    "\"\"\")\n",
    "# delete all segments with no messages\n",
    "cur.execute(\"\"\"\n",
    "DELETE FROM \"Segment\"\n",
    "WHERE NOT EXISTS (\n",
    "  SELECT 1\n",
    "  FROM \"Message\"\n",
    "  WHERE \"Message\".\"segmentId\" = \"Segment\".id\n",
    ")\n",
    "\"\"\")\n",
    "# delete all streams with no segments\n",
    "cur.execute(\"\"\"\n",
    "DELETE FROM \"Stream\"\n",
    "WHERE NOT EXISTS (\n",
    "  SELECT 1\n",
    "  FROM \"Segment\"\n",
    "  WHERE \"Segment\".\"streamId\" = \"Stream\".id\n",
    ")\n",
    "\"\"\")"
   ]
  },
  {
   "cell_type": "code",
   "execution_count": 38,
   "metadata": {},
   "outputs": [],
   "source": [
    "conn.commit()"
   ]
  },
  {
   "cell_type": "code",
   "execution_count": null,
   "metadata": {},
   "outputs": [],
   "source": []
  }
 ],
 "metadata": {
  "kernelspec": {
   "display_name": "Python 3",
   "language": "python",
   "name": "python3"
  },
  "language_info": {
   "codemirror_mode": {
    "name": "ipython",
    "version": 3
   },
   "file_extension": ".py",
   "mimetype": "text/x-python",
   "name": "python",
   "nbconvert_exporter": "python",
   "pygments_lexer": "ipython3",
   "version": "3.9.2"
  }
 },
 "nbformat": 4,
 "nbformat_minor": 2
}
