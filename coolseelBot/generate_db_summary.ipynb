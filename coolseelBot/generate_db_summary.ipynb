{
 "cells": [
  {
   "cell_type": "code",
   "execution_count": 1,
   "metadata": {},
   "outputs": [],
   "source": [
    "import psycopg2\n",
    "\n",
    "PORT = 54320\n",
    "\n",
    "# connect to the postgresql db\n",
    "conn = psycopg2.connect(\n",
    "  host=\"localhost\",\n",
    "  port=PORT,\n",
    "  dbname=\"coolseel\",\n",
    "  user=\"coolseel\",\n",
    "  password=\"password\"\n",
    ")\n",
    "\n",
    "cur = conn.cursor()"
   ]
  },
  {
   "cell_type": "code",
   "execution_count": 51,
   "metadata": {},
   "outputs": [
    {
     "name": "stdout",
     "output_type": "stream",
     "text": [
      "Streamer, Stream Count, Segment Count, Message Count\n",
      "('northernlion', 2, 6, 113734)\n",
      "('fanfan', 1, 1, 2608)\n",
      "('boxbox', 1, 2, 1851)\n"
     ]
    }
   ],
   "source": [
    "# SELECT streamer.name, COUNT(stream) COUNT(segment), COUNT(message)\n",
    "# FROM streamer\n",
    "# LEFT JOIN stream ON streamer.id = stream.streamer_id\n",
    "# LEFT JOIN segment ON stream.id = segment.stream_id\n",
    "# LEFT JOIN message ON segment.id = message.segment_id\n",
    "# GROUP BY streamer.name\n",
    "# ORDER BY COUNT(stream) DESC\n",
    "\n",
    "cur.execute(\"\"\"\n",
    "SELECT \"Streamer\".name, COUNT(distinct \"Stream\".id), COUNT(distinct \"Segment\".id), COUNT(distinct \"Message\".id)\n",
    "FROM \"Streamer\"\n",
    "LEFT JOIN \"Stream\" ON \"Streamer\".id = \"Stream\".\"streamerId\"\n",
    "LEFT JOIN \"Segment\" ON \"Stream\".id = \"Segment\".\"streamId\"\n",
    "LEFT JOIN \"Message\" ON \"Segment\".id = \"Message\".\"segmentId\"\n",
    "WHERE \"Stream\".live = true\n",
    "GROUP BY \"Streamer\".name\n",
    "ORDER BY COUNT(\"Stream\".id) DESC\n",
    "\"\"\")\n",
    "rows = cur.fetchall()\n",
    "print(\"Streamer, Stream Count, Segment Count, Message Count\")\n",
    "for row in rows:\n",
    "  print(row)"
   ]
  },
  {
   "cell_type": "code",
   "execution_count": 46,
   "metadata": {},
   "outputs": [],
   "source": [
    "conn.rollback()"
   ]
  },
  {
   "cell_type": "code",
   "execution_count": 52,
   "metadata": {},
   "outputs": [
    {
     "name": "stdout",
     "output_type": "stream",
     "text": [
      "Segment ID, Stream ID, Start, Game\n",
      "(149, 114, True, datetime.datetime(2023, 12, 15, 17, 17, 7, 151000), 'Against the Storm')\n",
      "(150, 114, True, datetime.datetime(2023, 12, 15, 20, 1, 38, 67000), 'Lethal Company')\n",
      "(151, 115, True, datetime.datetime(2023, 12, 14, 17, 14, 9, 394000), 'Super Auto Pets')\n",
      "(152, 115, True, datetime.datetime(2023, 12, 14, 17, 18, 49, 414000), 'House Flipper 2')\n",
      "(153, 115, True, datetime.datetime(2023, 12, 14, 19, 4, 29, 855000), 'Jackbox Party Packs')\n",
      "(154, 115, True, datetime.datetime(2023, 12, 14, 20, 37, 30, 175000), 'House Flipper 2')\n",
      "(155, 116, False, datetime.datetime(2023, 12, 16, 18, 47, 2, 248000), 'OFFLINE')\n",
      "(156, 117, False, datetime.datetime(2023, 12, 15, 9, 47, 9, 192000), 'OFFLINE')\n",
      "(157, 118, False, datetime.datetime(2023, 12, 17, 10, 17, 39, 524000), 'OFFLINE')\n",
      "(158, 119, False, datetime.datetime(2023, 12, 15, 22, 29, 58, 815000), 'OFFLINE')\n",
      "(159, 120, False, datetime.datetime(2023, 12, 15, 21, 59, 48, 678000), 'OFFLINE')\n"
     ]
    }
   ],
   "source": [
    "# Select all segements associated with streamer 1\n",
    "cur.execute(\"\"\"\n",
    "SELECT \"Segment\".id, \"Stream\".id, \"Stream\".live, \"Segment\".start, \"Segment\".game\n",
    "FROM \"Segment\"\n",
    "LEFT JOIN \"Stream\" ON \"Segment\".\"streamId\" = \"Stream\".id\n",
    "WHERE \"Stream\".\"streamerId\" = 1\n",
    "\"\"\")\n",
    "rows = cur.fetchall()\n",
    "print(\"Segment ID, Stream ID, Start, Game\")\n",
    "for row in rows:\n",
    "  print(row)"
   ]
  },
  {
   "cell_type": "code",
   "execution_count": 6,
   "metadata": {},
   "outputs": [
    {
     "name": "stdout",
     "output_type": "stream",
     "text": [
      "Stream ID, Streamer Name\n",
      "('43242889451', 'boxbox')\n",
      "('43247623627', 'fanfan')\n",
      "('2004847346', 'northernlion')\n",
      "('2003978864', 'northernlion')\n",
      "(None, 'northernlion')\n",
      "(None, 'northernlion')\n",
      "(None, 'northernlion')\n",
      "(None, 'northernlion')\n",
      "(None, 'northernlion')\n",
      "('PRESTREAM_post', 'northernlion')\n"
     ]
    }
   ],
   "source": [
    "cur.execute(\"\"\"\n",
    "SELECT \"Stream\".\"twitchId\", \"Streamer\".name\n",
    "FROM \"Stream\"\n",
    "LEFT JOIN \"Streamer\" ON \"Stream\".\"streamerId\" = \"Streamer\".id\n",
    "\"\"\")\n",
    "rows = cur.fetchall()\n",
    "print(\"Stream ID, Streamer Name\")\n",
    "for row in rows:\n",
    "  print(row)"
   ]
  },
  {
   "cell_type": "code",
   "execution_count": 34,
   "metadata": {},
   "outputs": [],
   "source": [
    "# insert 3 fake streams with 100000 messages each for streamer 1\n",
    "for i in range(3):\n",
    "  cur.execute(\"\"\"\n",
    "  INSERT INTO \"Stream\" (\"streamerId\", \"live\", \"start\")\n",
    "  VALUES (1, true, NOW())\n",
    "  RETURNING id\n",
    "  \"\"\")\n",
    "  stream_id = cur.fetchone()[0]\n",
    "  cur.execute(\"\"\"\n",
    "  INSERT INTO \"Segment\" (\"streamId\", game, start)\n",
    "  VALUES (%s, %s, NOW())\n",
    "  RETURNING id\n",
    "  \"\"\", (stream_id, \"Test Game\"))\n",
    "  segment_id = cur.fetchone()[0]\n",
    "  for j in range(100000):\n",
    "    cur.execute(\"\"\"\n",
    "    INSERT INTO \"Message\" (\"segmentId\", \"secondsSinceStart\", \"text\", \"username\")\n",
    "    VALUES (%s, %s, %s, %s)\n",
    "    \"\"\", (segment_id, j, f\"This is a test message number {j}\", \"test_user\"))"
   ]
  },
  {
   "cell_type": "code",
   "execution_count": 37,
   "metadata": {},
   "outputs": [],
   "source": [
    "# delete all messages from \"test_user\"\n",
    "cur.execute(\"\"\"\n",
    "DELETE FROM \"Message\"\n",
    "WHERE \"username\" = 'test_user'\n",
    "\"\"\")\n",
    "# delete all segments with no messages\n",
    "cur.execute(\"\"\"\n",
    "DELETE FROM \"Segment\"\n",
    "WHERE NOT EXISTS (\n",
    "  SELECT 1\n",
    "  FROM \"Message\"\n",
    "  WHERE \"Message\".\"segmentId\" = \"Segment\".id\n",
    ")\n",
    "\"\"\")\n",
    "# delete all streams with no segments\n",
    "cur.execute(\"\"\"\n",
    "DELETE FROM \"Stream\"\n",
    "WHERE NOT EXISTS (\n",
    "  SELECT 1\n",
    "  FROM \"Segment\"\n",
    "  WHERE \"Segment\".\"streamId\" = \"Stream\".id\n",
    ")\n",
    "\"\"\")"
   ]
  },
  {
   "cell_type": "code",
   "execution_count": 38,
   "metadata": {},
   "outputs": [],
   "source": [
    "conn.commit()"
   ]
  },
  {
   "cell_type": "code",
   "execution_count": 5,
   "metadata": {},
   "outputs": [],
   "source": [
    "conn.rollback()"
   ]
  },
  {
   "cell_type": "code",
   "execution_count": null,
   "metadata": {},
   "outputs": [],
   "source": []
  }
 ],
 "metadata": {
  "kernelspec": {
   "display_name": "Python 3",
   "language": "python",
   "name": "python3"
  },
  "language_info": {
   "codemirror_mode": {
    "name": "ipython",
    "version": 3
   },
   "file_extension": ".py",
   "mimetype": "text/x-python",
   "name": "python",
   "nbconvert_exporter": "python",
   "pygments_lexer": "ipython3",
   "version": "3.9.2"
  }
 },
 "nbformat": 4,
 "nbformat_minor": 2
}
