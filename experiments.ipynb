{
 "cells": [
  {
   "cell_type": "code",
   "execution_count": 34,
   "metadata": {},
   "outputs": [],
   "source": [
    "import os\n",
    "import time\n",
    "import uuid\n",
    "from collections import defaultdict\n",
    "from dataclasses import dataclass\n",
    "from datetime import datetime\n",
    "from typing import Dict, List\n",
    "import re\n",
    "\n",
    "import requests\n",
    "from tqdm.auto import tqdm"
   ]
  },
  {
   "cell_type": "code",
   "execution_count": 2,
   "metadata": {},
   "outputs": [],
   "source": [
    "CLIENT_ID = \"qeyx02kvx8uffv4std0did44iyoj35\"\n",
    "CLIENT_SECRET = \"s9jf674kb2ekkqqyv1nrs8uftnxuum\"\n",
    "STREAMER_ID = \"14371185\" # https://www.twitch.tv/northernlionb"
   ]
  },
  {
   "cell_type": "code",
   "execution_count": 17,
   "metadata": {},
   "outputs": [],
   "source": [
    "@dataclass\n",
    "class Comment:\n",
    "    commenter: str\n",
    "    createdAt: datetime\n",
    "    contentOffsetSeconds: int\n",
    "    message: str\n",
    "    video_id: str"
   ]
  },
  {
   "cell_type": "code",
   "execution_count": 4,
   "metadata": {},
   "outputs": [],
   "source": [
    "expiration_time = 0\n",
    "def get_access_token():\n",
    "    app_access_token_response = requests.post(\n",
    "        \"https://id.twitch.tv/oauth2/token\",\n",
    "        params={\n",
    "            \"client_id\": CLIENT_ID,\n",
    "            \"client_secret\": CLIENT_SECRET,\n",
    "            \"grant_type\": \"client_credentials\",\n",
    "        }\n",
    "    )\n",
    "\n",
    "    expires_in = app_access_token_response.json()[\"expires_in\"]\n",
    "    expiration_time_ = time.time() + expires_in\n",
    "    return app_access_token_response.json()[\"access_token\"], expiration_time_\n",
    "\n",
    "app_access_token, expiration_time = get_access_token()"
   ]
  },
  {
   "cell_type": "code",
   "execution_count": 5,
   "metadata": {},
   "outputs": [],
   "source": [
    "base_api_url = \"https://api.twitch.tv/helix\" \n",
    "def twitch_api_get(url, params=None):\n",
    "    global app_access_token, expiration_time\n",
    "    if time.time() > expiration_time:\n",
    "        print(\"Refreshing token\")\n",
    "        app_access_token, expiration_time = get_access_token()\n",
    "    full_url = os.path.join(base_api_url, url)\n",
    "    return requests.get(\n",
    "        full_url,\n",
    "        params=params,\n",
    "        headers={\n",
    "            \"Client-Id\": CLIENT_ID,\n",
    "            \"Authorization\": f\"Bearer {app_access_token}\",\n",
    "        }\n",
    "    )"
   ]
  },
  {
   "cell_type": "code",
   "execution_count": 36,
   "metadata": {},
   "outputs": [],
   "source": [
    "videos = twitch_api_get(\"videos\", params={\"user_id\": STREAMER_ID, \"type\": \"archive\"})"
   ]
  },
  {
   "cell_type": "code",
   "execution_count": null,
   "metadata": {},
   "outputs": [],
   "source": []
  },
  {
   "cell_type": "code",
   "execution_count": 43,
   "metadata": {},
   "outputs": [
    {
     "data": {
      "application/vnd.jupyter.widget-view+json": {
       "model_id": "3604f05ae5bc4f9f9d6b3d5737d22ba2",
       "version_major": 2,
       "version_minor": 0
      },
      "text/plain": [
       "  0%|          | 0/17 [00:00<?, ?it/s]"
      ]
     },
     "metadata": {},
     "output_type": "display_data"
    },
    {
     "data": {
      "application/vnd.jupyter.widget-view+json": {
       "model_id": "2a4f6c88e599459487e4e89481e87a9b",
       "version_major": 2,
       "version_minor": 0
      },
      "text/plain": [
       "2023-05-09T16:03:09Z:   0%|          | 0/18542 [00:00<?, ?s/s]"
      ]
     },
     "metadata": {},
     "output_type": "display_data"
    },
    {
     "name": "stdout",
     "output_type": "stream",
     "text": [
      "{'data': {'video': {'comments': {'edges': [{'cursor': 'eyJpZCI6ImZmY2ZkMzU1LWU4NGMtNDVlNS1hMzY0LTc1ZTAyNTc1Y2I3YSIsImhrIjoiYnJvYWRjYXN0OjQyMTc0MDAzOTc5Iiwic2siOiJBQUFNRDh2SkpjQVhYWkVyZlpWdXdBIn0', 'node': {'commenter': {'displayName': 'taliatate', 'login': 'taliatate'}, 'createdAt': '2023-05-09T19:43:46.764Z', 'contentOffsetSeconds': 13237, 'message': {'fragments': [{'text': 'oo oo '}, {'text': 'chjbPapa'}]}}}, {'cursor': 'eyJpZCI6ImZmY2ZkMzU1LWU4NGMtNDVlNS1hMzY0LTc1ZTAyNTc1Y2I3YSIsImhrIjoiYnJvYWRjYXN0OjQyMTc0MDAzOTc5Iiwic2siOiJBQUFNRDh2SkpjQVhYWkVyZlpWdXdBIn0', 'node': {'commenter': {'displayName': 'shinydruwu', 'login': 'shinydruwu'}, 'createdAt': '2023-05-09T19:43:46.815Z', 'contentOffsetSeconds': 13237, 'message': {'fragments': [{'text': 'ratJAM'}]}}}, {'cursor': 'eyJpZCI6ImZmY2ZkMzU1LWU4NGMtNDVlNS1hMzY0LTc1ZTAyNTc1Y2I3YSIsImhrIjoiYnJvYWRjYXN0OjQyMTc0MDAzOTc5Iiwic2siOiJBQUFNRDh2SkpjQVhYWkVyZlpWdXdBIn0', 'node': {'commenter': {'displayName': 'MinisterOfSpaceyStuff', 'login': 'ministerofspaceystuff'}, 'createdAt': '2023-05-09T19:43:47.317Z', 'contentOffsetSeconds': 13237, 'message': {'fragments': [{'text': 'Is the runnaway the only new one? Also, the spearman is gon'}]}}}, {'cursor': 'eyJpZCI6ImZmY2ZkMzU1LWU4NGMtNDVlNS1hMzY0LTc1ZTAyNTc1Y2I3YSIsImhrIjoiYnJvYWRjYXN0OjQyMTc0MDAzOTc5Iiwic2siOiJBQUFNRDh2SkpjQVhYWkVyZlpWdXdBIn0', 'node': {'commenter': {'displayName': 'Serowinding', 'login': 'serowinding'}, 'createdAt': '2023-05-09T19:43:48.135Z', 'contentOffsetSeconds': 13238, 'message': {'fragments': [{'text': 'Vestal, jester and flagellant pretty good.'}]}}}, {'cursor': 'eyJpZCI6ImZmY2ZkMzU1LWU4NGMtNDVlNS1hMzY0LTc1ZTAyNTc1Y2I3YSIsImhrIjoiYnJvYWRjYXN0OjQyMTc0MDAzOTc5Iiwic2siOiJBQUFNRDh2SkpjQVhYWkVyZlpWdXdBIn0', 'node': {'commenter': {'displayName': 'Andrejoss', 'login': 'andrejoss'}, 'createdAt': '2023-05-09T19:43:48.165Z', 'contentOffsetSeconds': 13238, 'message': {'fragments': [{'text': 'ratJAM'}]}}}, {'cursor': 'eyJpZCI6ImZmY2ZkMzU1LWU4NGMtNDVlNS1hMzY0LTc1ZTAyNTc1Y2I3YSIsImhrIjoiYnJvYWRjYXN0OjQyMTc0MDAzOTc5Iiwic2siOiJBQUFNRDh2SkpjQVhYWkVyZlpWdXdBIn0', 'node': {'commenter': {'displayName': 'Zickardi', 'login': 'zickardi'}, 'createdAt': '2023-05-09T19:43:48.283Z', 'contentOffsetSeconds': 13238, 'message': {'fragments': [{'text': 'ratJAM'}]}}}, {'cursor': 'eyJpZCI6ImZmY2ZkMzU1LWU4NGMtNDVlNS1hMzY0LTc1ZTAyNTc1Y2I3YSIsImhrIjoiYnJvYWRjYXN0OjQyMTc0MDAzOTc5Iiwic2siOiJBQUFNRDh2SkpjQVhYWkVyZlpWdXdBIn0', 'node': {'commenter': {'displayName': 'agarob', 'login': 'agarob'}, 'createdAt': '2023-05-09T19:43:48.45Z', 'contentOffsetSeconds': 13238, 'message': {'fragments': [{'text': 'ratJAM'}]}}}, {'cursor': 'eyJpZCI6ImZmY2ZkMzU1LWU4NGMtNDVlNS1hMzY0LTc1ZTAyNTc1Y2I3YSIsImhrIjoiYnJvYWRjYXN0OjQyMTc0MDAzOTc5Iiwic2siOiJBQUFNRDh2SkpjQVhYWkVyZlpWdXdBIn0', 'node': {'commenter': {'displayName': 'bae_go_pa', 'login': 'bae_go_pa'}, 'createdAt': '2023-05-09T19:43:49.254Z', 'contentOffsetSeconds': 13239, 'message': {'fragments': [{'text': 'ratJAM'}]}}}, {'cursor': 'eyJpZCI6ImZmY2ZkMzU1LWU4NGMtNDVlNS1hMzY0LTc1ZTAyNTc1Y2I3YSIsImhrIjoiYnJvYWRjYXN0OjQyMTc0MDAzOTc5Iiwic2siOiJBQUFNRDh2SkpjQVhYWkVyZlpWdXdBIn0', 'node': {'commenter': {'displayName': 'Alexthenotsogr8', 'login': 'alexthenotsogr8'}, 'createdAt': '2023-05-09T19:43:49.276Z', 'contentOffsetSeconds': 13239, 'message': {'fragments': [{'text': 'Stagecoach item?'}]}}}, {'cursor': 'eyJpZCI6ImZmY2ZkMzU1LWU4NGMtNDVlNS1hMzY0LTc1ZTAyNTc1Y2I3YSIsImhrIjoiYnJvYWRjYXN0OjQyMTc0MDAzOTc5Iiwic2siOiJBQUFNRDh2SkpjQVhYWkVyZlpWdXdBIn0', 'node': {'commenter': {'displayName': 'Descriptivist', 'login': 'descriptivist'}, 'createdAt': '2023-05-09T19:43:49.764Z', 'contentOffsetSeconds': 13240, 'message': {'fragments': [{'text': 'Inn Items goated'}]}}}, {'cursor': 'eyJpZCI6ImZmY2ZkMzU1LWU4NGMtNDVlNS1hMzY0LTc1ZTAyNTc1Y2I3YSIsImhrIjoiYnJvYWRjYXN0OjQyMTc0MDAzOTc5Iiwic2siOiJBQUFNRDh2SkpjQVhYWkVyZlpWdXdBIn0', 'node': {'commenter': {'displayName': 'REMposter_', 'login': 'remposter_'}, 'createdAt': '2023-05-09T19:43:49.967Z', 'contentOffsetSeconds': 13240, 'message': {'fragments': [{'text': 'I want the hummingbirds The dancing bears Sweetest dreams of you I look into the stars'}]}}}, {'cursor': 'eyJpZCI6ImZmY2ZkMzU1LWU4NGMtNDVlNS1hMzY0LTc1ZTAyNTc1Y2I3YSIsImhrIjoiYnJvYWRjYXN0OjQyMTc0MDAzOTc5Iiwic2siOiJBQUFNRDh2SkpjQVhYWkVyZlpWdXdBIn0', 'node': {'commenter': {'displayName': 'Gaz_Lloyd', 'login': 'gaz_lloyd'}, 'createdAt': '2023-05-09T19:43:51.084Z', 'contentOffsetSeconds': 13241, 'message': {'fragments': [{'text': 'flagellant '}, {'text': 'Kreygasm'}]}}}, {'cursor': 'eyJpZCI6ImZmY2ZkMzU1LWU4NGMtNDVlNS1hMzY0LTc1ZTAyNTc1Y2I3YSIsImhrIjoiYnJvYWRjYXN0OjQyMTc0MDAzOTc5Iiwic2siOiJBQUFNRDh2SkpjQVhYWkVyZlpWdXdBIn0', 'node': {'commenter': {'displayName': 'PlushEarth', 'login': 'plushearth'}, 'createdAt': '2023-05-09T19:43:51.953Z', 'contentOffsetSeconds': 13242, 'message': {'fragments': [{'text': 'ACT 3 POGCRAZY'}]}}}, {'cursor': 'eyJpZCI6ImZmY2ZkMzU1LWU4NGMtNDVlNS1hMzY0LTc1ZTAyNTc1Y2I3YSIsImhrIjoiYnJvYWRjYXN0OjQyMTc0MDAzOTc5Iiwic2siOiJBQUFNRDh2SkpjQVhYWkVyZlpWdXdBIn0', 'node': {'commenter': {'displayName': 'SomeOtherNeb', 'login': 'someotherneb'}, 'createdAt': '2023-05-09T19:43:51.987Z', 'contentOffsetSeconds': 13242, 'message': {'fragments': [{'text': 'LETSGO'}]}}}, {'cursor': 'eyJpZCI6ImZmY2ZkMzU1LWU4NGMtNDVlNS1hMzY0LTc1ZTAyNTc1Y2I3YSIsImhrIjoiYnJvYWRjYXN0OjQyMTc0MDAzOTc5Iiwic2siOiJBQUFNRDh2SkpjQVhYWkVyZlpWdXdBIn0', 'node': {'commenter': {'displayName': 'isdisgudnam', 'login': 'isdisgudnam'}, 'createdAt': '2023-05-09T19:43:52.422Z', 'contentOffsetSeconds': 13242, 'message': {'fragments': [{'text': 'ratJAM +2'}]}}}, {'cursor': 'eyJpZCI6ImZmY2ZkMzU1LWU4NGMtNDVlNS1hMzY0LTc1ZTAyNTc1Y2I3YSIsImhrIjoiYnJvYWRjYXN0OjQyMTc0MDAzOTc5Iiwic2siOiJBQUFNRDh2SkpjQVhYWkVyZlpWdXdBIn0', 'node': {'commenter': {'displayName': 'ghostmoptv', 'login': 'ghostmoptv'}, 'createdAt': '2023-05-09T19:43:53.034Z', 'contentOffsetSeconds': 13243, 'message': {'fragments': [{'text': 'POGCRAZY'}]}}}, {'cursor': 'eyJpZCI6ImZmY2ZkMzU1LWU4NGMtNDVlNS1hMzY0LTc1ZTAyNTc1Y2I3YSIsImhrIjoiYnJvYWRjYXN0OjQyMTc0MDAzOTc5Iiwic2siOiJBQUFNRDh2SkpjQVhYWkVyZlpWdXdBIn0', 'node': {'commenter': {'displayName': 'skalitely', 'login': 'skalitely'}, 'createdAt': '2023-05-09T19:43:53.628Z', 'contentOffsetSeconds': 13243, 'message': {'fragments': [{'text': 'chjbSit'}]}}}, {'cursor': 'eyJpZCI6ImZmY2ZkMzU1LWU4NGMtNDVlNS1hMzY0LTc1ZTAyNTc1Y2I3YSIsImhrIjoiYnJvYWRjYXN0OjQyMTc0MDAzOTc5Iiwic2siOiJBQUFNRDh2SkpjQVhYWkVyZlpWdXdBIn0', 'node': {'commenter': {'displayName': 'Kulateral', 'login': 'kulateral'}, 'createdAt': '2023-05-09T19:43:53.634Z', 'contentOffsetSeconds': 13243, 'message': {'fragments': [{'text': 'Has he already played Wildfrost? I need to see these backseaters firsthand'}]}}}, {'cursor': 'eyJpZCI6ImZmY2ZkMzU1LWU4NGMtNDVlNS1hMzY0LTc1ZTAyNTc1Y2I3YSIsImhrIjoiYnJvYWRjYXN0OjQyMTc0MDAzOTc5Iiwic2siOiJBQUFNRDh2SkpjQVhYWkVyZlpWdXdBIn0', 'node': {'commenter': {'displayName': 'DGenerator', 'login': 'dgenerator'}, 'createdAt': '2023-05-09T19:43:53.798Z', 'contentOffsetSeconds': 13244, 'message': {'fragments': [{'text': 'act 3 POGCRAZYftRyanGary'}]}}}, {'cursor': 'eyJpZCI6ImZmY2ZkMzU1LWU4NGMtNDVlNS1hMzY0LTc1ZTAyNTc1Y2I3YSIsImhrIjoiYnJvYWRjYXN0OjQyMTc0MDAzOTc5Iiwic2siOiJBQUFNRDh2SkpjQVhYWkVyZlpWdXdBIn0', 'node': {'commenter': {'displayName': 'PastaMystic', 'login': 'pastamystic'}, 'createdAt': '2023-05-09T19:43:53.844Z', 'contentOffsetSeconds': 13244, 'message': {'fragments': [{'text': 'ACT 3'}]}}}, {'cursor': 'eyJpZCI6ImZmY2ZkMzU1LWU4NGMtNDVlNS1hMzY0LTc1ZTAyNTc1Y2I3YSIsImhrIjoiYnJvYWRjYXN0OjQyMTc0MDAzOTc5Iiwic2siOiJBQUFNRDh2SkpjQVhYWkVyZlpWdXdBIn0', 'node': {'commenter': {'displayName': 'ham__samwich', 'login': 'ham__samwich'}, 'createdAt': '2023-05-09T19:43:54.003Z', 'contentOffsetSeconds': 13244, 'message': {'fragments': [{'text': 'flagellate'}]}}}, {'cursor': 'eyJpZCI6ImZmY2ZkMzU1LWU4NGMtNDVlNS1hMzY0LTc1ZTAyNTc1Y2I3YSIsImhrIjoiYnJvYWRjYXN0OjQyMTc0MDAzOTc5Iiwic2siOiJBQUFNRDh2SkpjQVhYWkVyZlpWdXdBIn0', 'node': {'commenter': {'displayName': 'JoyySpring', 'login': 'joyyspring'}, 'createdAt': '2023-05-09T19:43:54.041Z', 'contentOffsetSeconds': 13244, 'message': {'fragments': [{'text': 'chjbYippie'}]}}}, {'cursor': 'eyJpZCI6ImZmY2ZkMzU1LWU4NGMtNDVlNS1hMzY0LTc1ZTAyNTc1Y2I3YSIsImhrIjoiYnJvYWRjYXN0OjQyMTc0MDAzOTc5Iiwic2siOiJBQUFNRDh2SkpjQVhYWkVyZlpWdXdBIn0', 'node': {'commenter': {'displayName': 'thewheelofrhyme', 'login': 'thewheelofrhyme'}, 'createdAt': '2023-05-09T19:43:54.81Z', 'contentOffsetSeconds': 13245, 'message': {'fragments': [{'text': 'LETSGO ACT 3'}]}}}, {'cursor': 'eyJpZCI6ImZmY2ZkMzU1LWU4NGMtNDVlNS1hMzY0LTc1ZTAyNTc1Y2I3YSIsImhrIjoiYnJvYWRjYXN0OjQyMTc0MDAzOTc5Iiwic2siOiJBQUFNRDh2SkpjQVhYWkVyZlpWdXdBIn0', 'node': {'commenter': {'displayName': 'Shadowofadoubt', 'login': 'shadowofadoubt'}, 'createdAt': '2023-05-09T19:43:55.034Z', 'contentOffsetSeconds': 13245, 'message': {'fragments': [{'text': 'act 3 POGCRAZY'}]}}}, {'cursor': 'eyJpZCI6ImZmY2ZkMzU1LWU4NGMtNDVlNS1hMzY0LTc1ZTAyNTc1Y2I3YSIsImhrIjoiYnJvYWRjYXN0OjQyMTc0MDAzOTc5Iiwic2siOiJBQUFNRDh2SkpjQVhYWkVyZlpWdXdBIn0', 'node': {'commenter': {'displayName': 'Hunk_Of_Dunk', 'login': 'hunk_of_dunk'}, 'createdAt': '2023-05-09T19:43:55.882Z', 'contentOffsetSeconds': 13246, 'message': {'fragments': [{'text': \"What's the other unit that doesn't come back from the first tame? Crusader and who else? Dog?\"}]}}}, {'cursor': 'eyJpZCI6ImZmY2ZkMzU1LWU4NGMtNDVlNS1hMzY0LTc1ZTAyNTc1Y2I3YSIsImhrIjoiYnJvYWRjYXN0OjQyMTc0MDAzOTc5Iiwic2siOiJBQUFNRDh2SkpjQVhYWkVyZlpWdXdBIn0', 'node': {'commenter': {'displayName': 'Tuxo0', 'login': 'tuxo0'}, 'createdAt': '2023-05-09T19:43:56.561Z', 'contentOffsetSeconds': 13246, 'message': {'fragments': [{'text': 'moon2FAT'}]}}}, {'cursor': 'eyJpZCI6ImZmY2ZkMzU1LWU4NGMtNDVlNS1hMzY0LTc1ZTAyNTc1Y2I3YSIsImhrIjoiYnJvYWRjYXN0OjQyMTc0MDAzOTc5Iiwic2siOiJBQUFNRDh2SkpjQVhYWkVyZlpWdXdBIn0', 'node': {'commenter': {'displayName': 'ripbazou', 'login': 'ripbazou'}, 'createdAt': '2023-05-09T19:43:56.603Z', 'contentOffsetSeconds': 13246, 'message': {'fragments': [{'text': 'Chibleigh '}, {'text': ':)'}]}}}, {'cursor': 'eyJpZCI6ImZmY2ZkMzU1LWU4NGMtNDVlNS1hMzY0LTc1ZTAyNTc1Y2I3YSIsImhrIjoiYnJvYWRjYXN0OjQyMTc0MDAzOTc5Iiwic2siOiJBQUFNRDh2SkpjQVhYWkVyZlpWdXdBIn0', 'node': {'commenter': {'displayName': 'bigpipey', 'login': 'bigpipey'}, 'createdAt': '2023-05-09T19:43:56.808Z', 'contentOffsetSeconds': 13247, 'message': {'fragments': [{'text': 'chjbSit'}]}}}, {'cursor': 'eyJpZCI6ImZmY2ZkMzU1LWU4NGMtNDVlNS1hMzY0LTc1ZTAyNTc1Y2I3YSIsImhrIjoiYnJvYWRjYXN0OjQyMTc0MDAzOTc5Iiwic2siOiJBQUFNRDh2SkpjQVhYWkVyZlpWdXdBIn0', 'node': {'commenter': {'displayName': 'chiblee', 'login': 'chiblee'}, 'createdAt': '2023-05-09T19:43:56.918Z', 'contentOffsetSeconds': 13247, 'message': {'fragments': [{'text': 'had to get up early today '}, {'text': ':)'}]}}}, {'cursor': 'eyJpZCI6ImZmY2ZkMzU1LWU4NGMtNDVlNS1hMzY0LTc1ZTAyNTc1Y2I3YSIsImhrIjoiYnJvYWRjYXN0OjQyMTc0MDAzOTc5Iiwic2siOiJBQUFNRDh2SkpjQVhYWkVyZlpWdXdBIn0', 'node': {'commenter': {'displayName': 'Lockpickgamer', 'login': 'lockpickgamer'}, 'createdAt': '2023-05-09T19:43:57.079Z', 'contentOffsetSeconds': 13247, 'message': {'fragments': [{'text': 'ACT 3 POGCRAZY'}]}}}, {'cursor': 'eyJpZCI6ImZmY2ZkMzU1LWU4NGMtNDVlNS1hMzY0LTc1ZTAyNTc1Y2I3YSIsImhrIjoiYnJvYWRjYXN0OjQyMTc0MDAzOTc5Iiwic2siOiJBQUFNRDh2SkpjQVhYWkVyZlpWdXdBIn0', 'node': {'commenter': {'displayName': 'Yerna_HS', 'login': 'yerna_hs'}, 'createdAt': '2023-05-09T19:43:57.579Z', 'contentOffsetSeconds': 13247, 'message': {'fragments': [{'text': 'bounty hunter for some fisting action'}]}}}, {'cursor': 'eyJpZCI6ImZmY2ZkMzU1LWU4NGMtNDVlNS1hMzY0LTc1ZTAyNTc1Y2I3YSIsImhrIjoiYnJvYWRjYXN0OjQyMTc0MDAzOTc5Iiwic2siOiJBQUFNRDh2SkpjQVhYWkVyZlpWdXdBIn0', 'node': {'commenter': {'displayName': 'storskurk', 'login': 'storskurk'}, 'createdAt': '2023-05-09T19:43:57.789Z', 'contentOffsetSeconds': 13248, 'message': {'fragments': [{'text': 'STALE?'}]}}}, {'cursor': 'eyJpZCI6ImZmY2ZkMzU1LWU4NGMtNDVlNS1hMzY0LTc1ZTAyNTc1Y2I3YSIsImhrIjoiYnJvYWRjYXN0OjQyMTc0MDAzOTc5Iiwic2siOiJBQUFNRDh2SkpjQVhYWkVyZlpWdXdBIn0', 'node': {'commenter': {'displayName': 'newtwitchguy11', 'login': 'newtwitchguy11'}, 'createdAt': '2023-05-09T19:43:57.883Z', 'contentOffsetSeconds': 13248, 'message': {'fragments': [{'text': 'Beautiful!'}]}}}, {'cursor': 'eyJpZCI6ImZmY2ZkMzU1LWU4NGMtNDVlNS1hMzY0LTc1ZTAyNTc1Y2I3YSIsImhrIjoiYnJvYWRjYXN0OjQyMTc0MDAzOTc5Iiwic2siOiJBQUFNRDh2SkpjQVhYWkVyZlpWdXdBIn0', 'node': {'commenter': {'displayName': 'ghostmoptv', 'login': 'ghostmoptv'}, 'createdAt': '2023-05-09T19:43:57.965Z', 'contentOffsetSeconds': 13248, 'message': {'fragments': [{'text': 'chjbYippie'}]}}}, {'cursor': 'eyJpZCI6ImZmY2ZkMzU1LWU4NGMtNDVlNS1hMzY0LTc1ZTAyNTc1Y2I3YSIsImhrIjoiYnJvYWRjYXN0OjQyMTc0MDAzOTc5Iiwic2siOiJBQUFNRDh2SkpjQVhYWkVyZlpWdXdBIn0', 'node': {'commenter': {'displayName': 'iridiyumm', 'login': 'iridiyumm'}, 'createdAt': '2023-05-09T19:43:58.184Z', 'contentOffsetSeconds': 13248, 'message': {'fragments': [{'text': 'POGCRAZY'}]}}}, {'cursor': 'eyJpZCI6ImZmY2ZkMzU1LWU4NGMtNDVlNS1hMzY0LTc1ZTAyNTc1Y2I3YSIsImhrIjoiYnJvYWRjYXN0OjQyMTc0MDAzOTc5Iiwic2siOiJBQUFNRDh2SkpjQVhYWkVyZlpWdXdBIn0', 'node': {'commenter': {'displayName': 'ScytheTrain', 'login': 'scythetrain'}, 'createdAt': '2023-05-09T19:43:58.39Z', 'contentOffsetSeconds': 13248, 'message': {'fragments': [{'text': 'bread'}]}}}, {'cursor': 'eyJpZCI6ImZmY2ZkMzU1LWU4NGMtNDVlNS1hMzY0LTc1ZTAyNTc1Y2I3YSIsImhrIjoiYnJvYWRjYXN0OjQyMTc0MDAzOTc5Iiwic2siOiJBQUFNRDh2SkpjQVhYWkVyZlpWdXdBIn0', 'node': {'commenter': {'displayName': 'ChetRippo_', 'login': 'chetrippo_'}, 'createdAt': '2023-05-09T19:43:59.104Z', 'contentOffsetSeconds': 13249, 'message': {'fragments': [{'text': 'chib nation'}]}}}, {'cursor': 'eyJpZCI6ImZmY2ZkMzU1LWU4NGMtNDVlNS1hMzY0LTc1ZTAyNTc1Y2I3YSIsImhrIjoiYnJvYWRjYXN0OjQyMTc0MDAzOTc5Iiwic2siOiJBQUFNRDh2SkpjQVhYWkVyZlpWdXdBIn0', 'node': {'commenter': {'displayName': 'RanOutOfCharact', 'login': 'ranoutofcharact'}, 'createdAt': '2023-05-09T19:43:59.549Z', 'contentOffsetSeconds': 13249, 'message': {'fragments': [{'text': 'chiblee would you say that NL is a munch'}]}}}, {'cursor': 'eyJpZCI6ImZmY2ZkMzU1LWU4NGMtNDVlNS1hMzY0LTc1ZTAyNTc1Y2I3YSIsImhrIjoiYnJvYWRjYXN0OjQyMTc0MDAzOTc5Iiwic2siOiJBQUFNRDh2SkpjQVhYWkVyZlpWdXdBIn0', 'node': {'commenter': {'displayName': 'lAdrianSC_', 'login': 'ladriansc_'}, 'createdAt': '2023-05-09T19:44:00.364Z', 'contentOffsetSeconds': 13250, 'message': {'fragments': [{'text': 'Oh the Runaway. Every single person is my enemy'}]}}}, {'cursor': 'eyJpZCI6ImZmY2ZkMzU1LWU4NGMtNDVlNS1hMzY0LTc1ZTAyNTc1Y2I3YSIsImhrIjoiYnJvYWRjYXN0OjQyMTc0MDAzOTc5Iiwic2siOiJBQUFNRDh2SkpjQVhYWkVyZlpWdXdBIn0', 'node': {'commenter': {'displayName': 'Descriptivist', 'login': 'descriptivist'}, 'createdAt': '2023-05-09T19:44:00.505Z', 'contentOffsetSeconds': 13250, 'message': {'fragments': [{'text': 'LETSGO BREAD is HUGE FOR US'}]}}}, {'cursor': 'eyJpZCI6ImZmY2ZkMzU1LWU4NGMtNDVlNS1hMzY0LTc1ZTAyNTc1Y2I3YSIsImhrIjoiYnJvYWRjYXN0OjQyMTc0MDAzOTc5Iiwic2siOiJBQUFNRDh2SkpjQVhYWkVyZlpWdXdBIn0', 'node': {'commenter': {'displayName': 'Gaz_Lloyd', 'login': 'gaz_lloyd'}, 'createdAt': '2023-05-09T19:44:01.853Z', 'contentOffsetSeconds': 13252, 'message': {'fragments': [{'text': 'chjbSit'}, {'text': ' '}, {'text': 'chjbYippie'}]}}}, {'cursor': 'eyJpZCI6ImZmY2ZkMzU1LWU4NGMtNDVlNS1hMzY0LTc1ZTAyNTc1Y2I3YSIsImhrIjoiYnJvYWRjYXN0OjQyMTc0MDAzOTc5Iiwic2siOiJBQUFNRDh2SkpjQVhYWkVyZlpWdXdBIn0', 'node': {'commenter': {'displayName': 'Yijuwarp', 'login': 'yijuwarp'}, 'createdAt': '2023-05-09T19:44:02.338Z', 'contentOffsetSeconds': 13252, 'message': {'fragments': [{'text': 'get a stagecoat item'}]}}}, {'cursor': 'eyJpZCI6ImZmY2ZkMzU1LWU4NGMtNDVlNS1hMzY0LTc1ZTAyNTc1Y2I3YSIsImhrIjoiYnJvYWRjYXN0OjQyMTc0MDAzOTc5Iiwic2siOiJBQUFNRDh2SkpjQVhYWkVyZlpWdXdBIn0', 'node': {'commenter': {'displayName': 'zinger48', 'login': 'zinger48'}, 'createdAt': '2023-05-09T19:44:03.559Z', 'contentOffsetSeconds': 13253, 'message': {'fragments': [{'text': 'sooo true'}]}}}, {'cursor': 'eyJpZCI6ImZmY2ZkMzU1LWU4NGMtNDVlNS1hMzY0LTc1ZTAyNTc1Y2I3YSIsImhrIjoiYnJvYWRjYXN0OjQyMTc0MDAzOTc5Iiwic2siOiJBQUFNRDh2SkpjQVhYWkVyZlpWdXdBIn0', 'node': {'commenter': {'displayName': 'Andrejoss', 'login': 'andrejoss'}, 'createdAt': '2023-05-09T19:44:03.937Z', 'contentOffsetSeconds': 13254, 'message': {'fragments': [{'text': 'so true'}]}}}, {'cursor': 'eyJpZCI6ImZmY2ZkMzU1LWU4NGMtNDVlNS1hMzY0LTc1ZTAyNTc1Y2I3YSIsImhrIjoiYnJvYWRjYXN0OjQyMTc0MDAzOTc5Iiwic2siOiJBQUFNRDh2SkpjQVhYWkVyZlpWdXdBIn0', 'node': {'commenter': {'displayName': 'LozGoFishing', 'login': 'lozgofishing'}, 'createdAt': '2023-05-09T19:44:04.013Z', 'contentOffsetSeconds': 13254, 'message': {'fragments': [{'text': 'leper fans CHEERING rn'}]}}}, {'cursor': 'eyJpZCI6ImZmY2ZkMzU1LWU4NGMtNDVlNS1hMzY0LTc1ZTAyNTc1Y2I3YSIsImhrIjoiYnJvYWRjYXN0OjQyMTc0MDAzOTc5Iiwic2siOiJBQUFNRDh2SkpjQVhYWkVyZlpWdXdBIn0', 'node': {'commenter': {'displayName': 'DrowsySelkie', 'login': 'drowsyselkie'}, 'createdAt': '2023-05-09T19:44:04.122Z', 'contentOffsetSeconds': 13254, 'message': {'fragments': [{'text': 'Still no houndmaster? 0/10'}]}}}, {'cursor': 'eyJpZCI6ImZmY2ZkMzU1LWU4NGMtNDVlNS1hMzY0LTc1ZTAyNTc1Y2I3YSIsImhrIjoiYnJvYWRjYXN0OjQyMTc0MDAzOTc5Iiwic2siOiJBQUFNRDh2SkpjQVhYWkVyZlpWdXdBIn0', 'node': {'commenter': None, 'createdAt': '2023-05-09T19:44:05.53Z', 'contentOffsetSeconds': 13255, 'message': {'fragments': [{'text': 'if its a great game why is the bread stale'}]}}}, {'cursor': 'eyJpZCI6ImZmY2ZkMzU1LWU4NGMtNDVlNS1hMzY0LTc1ZTAyNTc1Y2I3YSIsImhrIjoiYnJvYWRjYXN0OjQyMTc0MDAzOTc5Iiwic2siOiJBQUFNRDh2SkpjQVhYWkVyZlpWdXdBIn0', 'node': {'commenter': {'displayName': 'red_toe', 'login': 'red_toe'}, 'createdAt': '2023-05-09T19:44:05.741Z', 'contentOffsetSeconds': 13256, 'message': {'fragments': [{'text': 'a crumb of toast'}]}}}, {'cursor': 'eyJpZCI6ImZmY2ZkMzU1LWU4NGMtNDVlNS1hMzY0LTc1ZTAyNTc1Y2I3YSIsImhrIjoiYnJvYWRjYXN0OjQyMTc0MDAzOTc5Iiwic2siOiJBQUFNRDh2SkpjQVhYWkVyZlpWdXdBIn0', 'node': {'commenter': {'displayName': 'Zickardi', 'login': 'zickardi'}, 'createdAt': '2023-05-09T19:44:06.149Z', 'contentOffsetSeconds': 13256, 'message': {'fragments': [{'text': 'ACT 3 POGCRAZY'}]}}}, {'cursor': 'eyJpZCI6ImZmY2ZkMzU1LWU4NGMtNDVlNS1hMzY0LTc1ZTAyNTc1Y2I3YSIsImhrIjoiYnJvYWRjYXN0OjQyMTc0MDAzOTc5Iiwic2siOiJBQUFNRDh2SkpjQVhYWkVyZlpWdXdBIn0', 'node': {'commenter': {'displayName': 'that_which_lurks', 'login': 'that_which_lurks'}, 'createdAt': '2023-05-09T19:44:06.185Z', 'contentOffsetSeconds': 13256, 'message': {'fragments': [{'text': '+2'}]}}}, {'cursor': 'eyJpZCI6ImZmY2ZkMzU1LWU4NGMtNDVlNS1hMzY0LTc1ZTAyNTc1Y2I3YSIsImhrIjoiYnJvYWRjYXN0OjQyMTc0MDAzOTc5Iiwic2siOiJBQUFNRDh2SkpjQVhYWkVyZlpWdXdBIn0', 'node': {'commenter': {'displayName': 'isdisgudnam', 'login': 'isdisgudnam'}, 'createdAt': '2023-05-09T19:44:07.74Z', 'contentOffsetSeconds': 13258, 'message': {'fragments': [{'text': 'so true'}]}}}, {'cursor': 'eyJpZCI6ImZmY2ZkMzU1LWU4NGMtNDVlNS1hMzY0LTc1ZTAyNTc1Y2I3YSIsImhrIjoiYnJvYWRjYXN0OjQyMTc0MDAzOTc5Iiwic2siOiJBQUFNRDh2SkpjQVhYWkVyZlpWdXdBIn0', 'node': {'commenter': {'displayName': 'SaltkeyAndAckfish', 'login': 'saltkeyandackfish'}, 'createdAt': '2023-05-09T19:44:07.791Z', 'contentOffsetSeconds': 13258, 'message': {'fragments': [{'text': 'ICANT'}]}}}, {'cursor': 'eyJpZCI6ImZmY2ZkMzU1LWU4NGMtNDVlNS1hMzY0LTc1ZTAyNTc1Y2I3YSIsImhrIjoiYnJvYWRjYXN0OjQyMTc0MDAzOTc5Iiwic2siOiJBQUFNRDh2SkpjQVhYWkVyZlpWdXdBIn0', 'node': {'commenter': {'displayName': 'komider', 'login': 'komider'}, 'createdAt': '2023-05-09T19:44:08.071Z', 'contentOffsetSeconds': 13258, 'message': {'fragments': [{'text': 'so fricking true'}]}}}, {'cursor': 'eyJpZCI6ImZmY2ZkMzU1LWU4NGMtNDVlNS1hMzY0LTc1ZTAyNTc1Y2I3YSIsImhrIjoiYnJvYWRjYXN0OjQyMTc0MDAzOTc5Iiwic2siOiJBQUFNRDh2SkpjQVhYWkVyZlpWdXdBIn0', 'node': {'commenter': {'displayName': 'medigato', 'login': 'medigato'}, 'createdAt': '2023-05-09T19:44:08.276Z', 'contentOffsetSeconds': 13258, 'message': {'fragments': [{'text': 'Me when i get a wrap'}]}}}, {'cursor': 'eyJpZCI6ImZmY2ZkMzU1LWU4NGMtNDVlNS1hMzY0LTc1ZTAyNTc1Y2I3YSIsImhrIjoiYnJvYWRjYXN0OjQyMTc0MDAzOTc5Iiwic2siOiJBQUFNRDh2SkpjQVhYWkVyZlpWdXdBIn0', 'node': {'commenter': {'displayName': 'Hippoopoo', 'login': 'hippoopoo'}, 'createdAt': '2023-05-09T19:44:10.604Z', 'contentOffsetSeconds': 13260, 'message': {'fragments': [{'text': 'chjbYippie'}]}}}, {'cursor': 'eyJpZCI6ImZmY2ZkMzU1LWU4NGMtNDVlNS1hMzY0LTc1ZTAyNTc1Y2I3YSIsImhrIjoiYnJvYWRjYXN0OjQyMTc0MDAzOTc5Iiwic2siOiJBQUFNRDh2SkpjQVhYWkVyZlpWdXdBIn0', 'node': {'commenter': {'displayName': 'Dracoflly', 'login': 'dracoflly'}, 'createdAt': '2023-05-09T19:44:11.13Z', 'contentOffsetSeconds': 13261, 'message': {'fragments': [{'text': '!docket'}]}}}, {'cursor': 'eyJpZCI6ImZmY2ZkMzU1LWU4NGMtNDVlNS1hMzY0LTc1ZTAyNTc1Y2I3YSIsImhrIjoiYnJvYWRjYXN0OjQyMTc0MDAzOTc5Iiwic2siOiJBQUFNRDh2SkpjQVhYWkVyZlpWdXdBIn0', 'node': {'commenter': {'displayName': 'Nightbot', 'login': 'nightbot'}, 'createdAt': '2023-05-09T19:44:11.271Z', 'contentOffsetSeconds': 13261, 'message': {'fragments': [{'text': \"TODAY'S DOCKET: The -dles > DD2 > Wildfrost\"}]}}}, {'cursor': 'eyJpZCI6ImZmY2ZkMzU1LWU4NGMtNDVlNS1hMzY0LTc1ZTAyNTc1Y2I3YSIsImhrIjoiYnJvYWRjYXN0OjQyMTc0MDAzOTc5Iiwic2siOiJBQUFNRDh2SkpjQVhYWkVyZlpWdXdBIn0', 'node': {'commenter': {'displayName': 'Jesseius', 'login': 'jesseius'}, 'createdAt': '2023-05-09T19:44:11.325Z', 'contentOffsetSeconds': 13261, 'message': {'fragments': [{'text': 'Run length seems pretty good for stream too'}]}}}, {'cursor': 'eyJpZCI6ImZmY2ZkMzU1LWU4NGMtNDVlNS1hMzY0LTc1ZTAyNTc1Y2I3YSIsImhrIjoiYnJvYWRjYXN0OjQyMTc0MDAzOTc5Iiwic2siOiJBQUFNRDh2SkpjQVhYWkVyZlpWdXdBIn0', 'node': {'commenter': {'displayName': 'izckl', 'login': 'izckl'}, 'createdAt': '2023-05-09T19:44:11.683Z', 'contentOffsetSeconds': 13261, 'message': {'fragments': [{'text': '@NL hey new studies show the detrimental effect of copium any comments?'}]}}}], 'pageInfo': {'hasNextPage': True}}}}, 'extensions': {'durationMilliseconds': 79, 'requestID': '01H0GJNE793E0N0G93E44YXVWY'}}\n",
      "{'cursor': 'eyJpZCI6ImZmY2ZkMzU1LWU4NGMtNDVlNS1hMzY0LTc1ZTAyNTc1Y2I3YSIsImhrIjoiYnJvYWRjYXN0OjQyMTc0MDAzOTc5Iiwic2siOiJBQUFNRDh2SkpjQVhYWkVyZlpWdXdBIn0', 'node': {'commenter': None, 'createdAt': '2023-05-09T19:44:05.53Z', 'contentOffsetSeconds': 13255, 'message': {'fragments': [{'text': 'if its a great game why is the bread stale'}]}}}\n"
     ]
    },
    {
     "ename": "OSError",
     "evalue": "Bad.",
     "output_type": "error",
     "traceback": [
      "\u001b[0;31m---------------------------------------------------------------------------\u001b[0m",
      "\u001b[0;31mOSError\u001b[0m                                   Traceback (most recent call last)",
      "Cell \u001b[0;32mIn[43], line 55\u001b[0m\n\u001b[1;32m     53\u001b[0m         \u001b[39mprint\u001b[39m(response\u001b[39m.\u001b[39mjson())\n\u001b[1;32m     54\u001b[0m         \u001b[39mprint\u001b[39m(comment)\n\u001b[0;32m---> 55\u001b[0m         \u001b[39mraise\u001b[39;00m \u001b[39mIOError\u001b[39;00m(\u001b[39m\"\u001b[39m\u001b[39mBad.\u001b[39m\u001b[39m\"\u001b[39m)\n\u001b[1;32m     56\u001b[0m     result[video_id]\u001b[39m.\u001b[39mappend(Comment(\n\u001b[1;32m     57\u001b[0m         commenter\u001b[39m=\u001b[39mcomment[\u001b[39m\"\u001b[39m\u001b[39mnode\u001b[39m\u001b[39m\"\u001b[39m][\u001b[39m\"\u001b[39m\u001b[39mcommenter\u001b[39m\u001b[39m\"\u001b[39m][\u001b[39m\"\u001b[39m\u001b[39mdisplayName\u001b[39m\u001b[39m\"\u001b[39m],\n\u001b[1;32m     58\u001b[0m         createdAt\u001b[39m=\u001b[39mdatetime\u001b[39m.\u001b[39mfromisoformat(comment[\u001b[39m\"\u001b[39m\u001b[39mnode\u001b[39m\u001b[39m\"\u001b[39m][\u001b[39m\"\u001b[39m\u001b[39mcreatedAt\u001b[39m\u001b[39m\"\u001b[39m]),\n\u001b[0;32m   (...)\u001b[0m\n\u001b[1;32m     61\u001b[0m         video_id\u001b[39m=\u001b[39mvideo_id,\n\u001b[1;32m     62\u001b[0m     ))\n\u001b[1;32m     63\u001b[0m \u001b[39mif\u001b[39;00m \u001b[39mlen\u001b[39m(comments[\u001b[39m\"\u001b[39m\u001b[39medges\u001b[39m\u001b[39m\"\u001b[39m]) \u001b[39m==\u001b[39m \u001b[39m0\u001b[39m:\n",
      "\u001b[0;31mOSError\u001b[0m: Bad."
     ]
    }
   ],
   "source": [
    "headers = {\n",
    "    \"Client-ID\": \"kd1unb4b3q4t58fwlpcbzcbnm76a8fp\",\n",
    "    \"Accept\": \"application/vnd.twitchtv.v5+json\",\n",
    "    'X-Device-Id': uuid.uuid4().hex,\n",
    "}\n",
    "DURATION_RE = re.compile(r\"(?:(\\d+)h)?(?:(\\d+)m)?(?:(\\d+)s)?\")\n",
    "\n",
    "result: Dict[str, List[Comment]] = defaultdict(list)\n",
    "for video in tqdm(videos.json()[\"data\"][3:]):\n",
    "    has_next_page = True\n",
    "    cursor = None\n",
    "    video_id = video[\"id\"]\n",
    "    duration_match = DURATION_RE.match(video[\"duration\"])\n",
    "    duration = sum(int(x or 0) * 60 ** i for i, x in enumerate(reversed(duration_match.groups())))\n",
    "    \n",
    "    with tqdm(total=duration, unit=\"s\", desc=video['created_at']) as video_bar:\n",
    "        while has_next_page:\n",
    "            query = f\"\"\"\n",
    "                query {{\n",
    "                    video(id: \"{video_id}\") {{\n",
    "                        comments{f'(after: \"{cursor}\")' if cursor else ''} {{\n",
    "                            edges {{\n",
    "                                cursor\n",
    "                                node {{\n",
    "                                    commenter {{\n",
    "                                        displayName\n",
    "                                        login\n",
    "                                    }}\n",
    "                                    createdAt\n",
    "                                    contentOffsetSeconds\n",
    "                                    message {{\n",
    "                                        fragments {{\n",
    "                                            text\n",
    "                                        }}\n",
    "                                    }}\n",
    "                                }}\n",
    "                            }}\n",
    "                            pageInfo {{\n",
    "                                hasNextPage\n",
    "                            }}\n",
    "                        }}\n",
    "                    }}\n",
    "                }}\n",
    "            \"\"\"\n",
    "            response = requests.post(\"https://gql.twitch.tv/gql\", json={\"query\": query}, headers=headers)\n",
    "            if response.status_code != 200 or \"errors\" in response.json():\n",
    "                print(response.json())\n",
    "                break\n",
    "            comments = response.json()[\"data\"][\"video\"][\"comments\"]\n",
    "            has_next_page = comments[\"pageInfo\"][\"hasNextPage\"]\n",
    "            for comment in comments[\"edges\"]:\n",
    "                result[video_id].append(Comment(\n",
    "                    commenter=comment[\"node\"][\"commenter\"][\"displayName\"] or \"UNKNOWN\",\n",
    "                    createdAt=datetime.fromisoformat(comment[\"node\"][\"createdAt\"]),\n",
    "                    contentOffsetSeconds=comment[\"node\"][\"contentOffsetSeconds\"],\n",
    "                    message=comment[\"node\"][\"message\"][\"fragments\"][0][\"text\"],\n",
    "                    video_id=video_id,\n",
    "                ))\n",
    "            if len(comments[\"edges\"]) == 0:\n",
    "                print(response.json())\n",
    "                raise IOError(\"Bad.\")\n",
    "            cursor = comments[\"edges\"][-1][\"cursor\"]\n",
    "            video_bar.update(comments[\"edges\"][-1][\"node\"][\"contentOffsetSeconds\"] - video_bar.n)\n",
    "        "
   ]
  },
  {
   "cell_type": "code",
   "execution_count": null,
   "metadata": {},
   "outputs": [
    {
     "data": {
      "text/plain": [
       "2709"
      ]
     },
     "execution_count": 11,
     "metadata": {},
     "output_type": "execute_result"
    }
   ],
   "source": [
    "import json\n",
    "\n",
    "with open(\"comments.json\", \"w\") as f:\n",
    "    json.dump(result, f, indent=2)"
   ]
  },
  {
   "cell_type": "code",
   "execution_count": 30,
   "metadata": {},
   "outputs": [],
   "source": [
    "video_bar.close()"
   ]
  },
  {
   "cell_type": "code",
   "execution_count": null,
   "metadata": {},
   "outputs": [],
   "source": []
  }
 ],
 "metadata": {
  "kernelspec": {
   "display_name": "Python 3",
   "language": "python",
   "name": "python3"
  },
  "language_info": {
   "codemirror_mode": {
    "name": "ipython",
    "version": 3
   },
   "file_extension": ".py",
   "mimetype": "text/x-python",
   "name": "python",
   "nbconvert_exporter": "python",
   "pygments_lexer": "ipython3",
   "version": "3.11.2"
  },
  "orig_nbformat": 4
 },
 "nbformat": 4,
 "nbformat_minor": 2
}
