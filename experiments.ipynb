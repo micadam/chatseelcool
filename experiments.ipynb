{
 "cells": [
  {
   "cell_type": "code",
   "execution_count": 21,
   "metadata": {},
   "outputs": [],
   "source": [
    "import json\n",
    "import os\n",
    "import re\n",
    "import time\n",
    "import uuid\n",
    "from collections import Counter, defaultdict\n",
    "from dataclasses import dataclass\n",
    "from datetime import datetime\n",
    "from typing import Dict, List\n",
    "\n",
    "import matplotlib.pyplot as plt\n",
    "import seaborn as sns\n",
    "import requests\n",
    "from tqdm.notebook import tqdm"
   ]
  },
  {
   "cell_type": "code",
   "execution_count": 22,
   "metadata": {},
   "outputs": [],
   "source": [
    "STREAMER_IDS = {\n",
    "    \"northernlion\": \"14371185\",\n",
    "    \"singsing\": \"21390470\",\n",
    "    \"rinbanana\": \"434464251\"\n",
    "}\n",
    "STREAMER = \"northernlion\""
   ]
  },
  {
   "cell_type": "code",
   "execution_count": 23,
   "metadata": {},
   "outputs": [],
   "source": [
    "CLIENT_ID = \"qeyx02kvx8uffv4std0did44iyoj35\"\n",
    "CLIENT_SECRET = \"s9jf674kb2ekkqqyv1nrs8uftnxuum\"\n",
    "STREAMER_ID = STREAMER_IDS[STREAMER] # https://www.twitch.tv/northernlion"
   ]
  },
  {
   "cell_type": "code",
   "execution_count": 24,
   "metadata": {},
   "outputs": [],
   "source": [
    "@dataclass\n",
    "class Comment:\n",
    "    commenter: str\n",
    "    createdAt: datetime\n",
    "    contentOffsetSeconds: int\n",
    "    message: str\n",
    "    video_id: str\n",
    "    game: str"
   ]
  },
  {
   "cell_type": "code",
   "execution_count": 25,
   "metadata": {},
   "outputs": [],
   "source": [
    "def get_access_token():\n",
    "    app_access_token_response = requests.post(\n",
    "        \"https://id.twitch.tv/oauth2/token\",\n",
    "        params={\n",
    "            \"client_id\": CLIENT_ID,\n",
    "            \"client_secret\": CLIENT_SECRET,\n",
    "            \"grant_type\": \"client_credentials\",\n",
    "        }\n",
    "    )\n",
    "\n",
    "    expires_in = app_access_token_response.json()[\"expires_in\"]\n",
    "    expiration_time_ = time.time() + expires_in\n",
    "    return app_access_token_response.json()[\"access_token\"], expiration_time_\n",
    "\n",
    "app_access_token, expiration_time = get_access_token()"
   ]
  },
  {
   "cell_type": "code",
   "execution_count": 26,
   "metadata": {},
   "outputs": [],
   "source": [
    "base_api_url = \"https://api.twitch.tv/helix\" \n",
    "def twitch_api_get(url, params=None):\n",
    "    global app_access_token, expiration_time\n",
    "    if time.time() > expiration_time:\n",
    "        print(\"Refreshing token\")\n",
    "        app_access_token, expiration_time = get_access_token()\n",
    "    full_url = os.path.join(base_api_url, url)\n",
    "    return requests.get(\n",
    "        full_url,\n",
    "        params=params,\n",
    "        headers={\n",
    "            \"Client-Id\": CLIENT_ID,\n",
    "            \"Authorization\": f\"Bearer {app_access_token}\",\n",
    "        }\n",
    "    )"
   ]
  },
  {
   "cell_type": "code",
   "execution_count": 27,
   "metadata": {},
   "outputs": [],
   "source": [
    "videos = twitch_api_get(\"videos\", params={\"user_id\": STREAMER_ID, \"type\": \"archive\"})"
   ]
  },
  {
   "cell_type": "code",
   "execution_count": 28,
   "metadata": {},
   "outputs": [],
   "source": [
    "# util functions\n",
    "\n",
    "def get_datetime(date_string):\n",
    "    return datetime.strptime(date_string, \"%Y-%m-%dT%H:%M:%S.%fZ\"\n",
    "                             if \".\" in date_string\n",
    "                             else \"%Y-%m-%dT%H:%M:%SZ\")\n",
    "\n",
    "def get_vod_link_from_comment(comment: Comment, offset=0) -> str:\n",
    "    return f\"https://twitch.tv/videos/{comment.video_id}?t={comment.contentOffsetSeconds + offset}s\"\n",
    "\n",
    "headers = {\n",
    "    \"Client-ID\": \"kd1unb4b3q4t58fwlpcbzcbnm76a8fp\",\n",
    "    \"Accept\": \"application/vnd.twitchtv.v5+json\",\n",
    "    'X-Device-Id': uuid.uuid4().hex,\n",
    "}\n",
    "\n",
    "def gql(query: str):\n",
    "    response = requests.post(\"https://gql.twitch.tv/gql\", json={\"query\": query}, headers=headers)\n",
    "    if response.status_code != 200 or \"errors\" in response.json():\n",
    "        print(response.json())\n",
    "        print(response.request.body)\n",
    "        raise RuntimeError(\"GQL request failed\")\n",
    "    return response"
   ]
  },
  {
   "cell_type": "code",
   "execution_count": 29,
   "metadata": {},
   "outputs": [],
   "source": [
    "def get_video_chapters(video_id: str) -> list:\n",
    "    has_next_page = True\n",
    "    cursor = None\n",
    "    chapters = []\n",
    "    while has_next_page:\n",
    "        query = f\"\"\"\n",
    "            query {{\n",
    "                video(id: \"{video_id}\") {{\n",
    "                    moments(momentRequestType: VIDEO_CHAPTER_MARKERS {f', after: \"{cursor}\"' if cursor else ''}) {{\n",
    "                        edges {{\n",
    "                            cursor\n",
    "                            node {{\n",
    "                                description\n",
    "                                positionMilliseconds\n",
    "                            }}\n",
    "                        }}\n",
    "                        pageInfo {{\n",
    "                            hasNextPage\n",
    "                        }}\n",
    "                    }}\n",
    "                }}\n",
    "            }}\n",
    "        \"\"\"\n",
    "        response = gql(query).json()['data']\n",
    "        print(response)\n",
    "        cursor = response['video']['moments']['edges'][-1]['cursor'] if len(response['video']['moments']['edges']) > 0 else None\n",
    "        has_next_page = response['video']['moments']['pageInfo']['hasNextPage']\n",
    "        chapters.extend(e['node'] for e in response['video']['moments']['edges'])\n",
    "    return chapters"
   ]
  },
  {
   "cell_type": "code",
   "execution_count": 30,
   "metadata": {},
   "outputs": [
    {
     "data": {
      "application/vnd.jupyter.widget-view+json": {
       "model_id": "2fda1978b20d4d2ebe30c256ba385257",
       "version_major": 2,
       "version_minor": 0
      },
      "text/plain": [
       "  0%|          | 0/20 [00:00<?, ?it/s]"
      ]
     },
     "metadata": {},
     "output_type": "display_data"
    },
    {
     "name": "stdout",
     "output_type": "stream",
     "text": [
      "{'video': {'moments': {'edges': [], 'pageInfo': {'hasNextPage': False}}}}\n"
     ]
    },
    {
     "data": {
      "application/vnd.jupyter.widget-view+json": {
       "model_id": "8b163e959cbe4567ba96a13964a40840",
       "version_major": 2,
       "version_minor": 0
      },
      "text/plain": [
       "2023-09-13T16:31:03Z:   0%|          | 0/161 [00:00<?, ?s/s]"
      ]
     },
     "metadata": {},
     "output_type": "display_data"
    },
    {
     "name": "stdout",
     "output_type": "stream",
     "text": [
      "{'video': {'moments': {'edges': [{'cursor': '', 'node': {'description': 'Super Auto Pets', 'positionMilliseconds': 0}}, {'cursor': '', 'node': {'description': 'im a big boy | !prime !docket', 'positionMilliseconds': 12389000}}, {'cursor': '', 'node': {'description': 'The Texas Chain Saw Massacre', 'positionMilliseconds': 12904000}}], 'pageInfo': {'hasNextPage': False}}}}\n"
     ]
    },
    {
     "data": {
      "application/vnd.jupyter.widget-view+json": {
       "model_id": "bb6970c8be4040e889a552f2038c15fa",
       "version_major": 2,
       "version_minor": 0
      },
      "text/plain": [
       "2023-09-12T16:15:21Z:   0%|          | 0/17585 [00:00<?, ?s/s]"
      ]
     },
     "metadata": {},
     "output_type": "display_data"
    },
    {
     "name": "stdout",
     "output_type": "stream",
     "text": [
      "{'video': {'moments': {'edges': [{'cursor': '', 'node': {'description': 'Super Auto Pets', 'positionMilliseconds': 0}}, {'cursor': '', 'node': {'description': 'victim mentality | !prime !docket', 'positionMilliseconds': 6953000}}], 'pageInfo': {'hasNextPage': False}}}}\n"
     ]
    },
    {
     "data": {
      "application/vnd.jupyter.widget-view+json": {
       "model_id": "60630f7931da41cfb46b4ed15a7f2777",
       "version_major": 2,
       "version_minor": 0
      },
      "text/plain": [
       "2023-09-11T17:04:09Z:   0%|          | 0/17890 [00:00<?, ?s/s]"
      ]
     },
     "metadata": {},
     "output_type": "display_data"
    },
    {
     "name": "stdout",
     "output_type": "stream",
     "text": [
      "{'video': {'moments': {'edges': [], 'pageInfo': {'hasNextPage': False}}}}\n"
     ]
    },
    {
     "data": {
      "application/vnd.jupyter.widget-view+json": {
       "model_id": "a5dab68f448340b78ac741862241e000",
       "version_major": 2,
       "version_minor": 0
      },
      "text/plain": [
       "2023-09-07T18:28:54Z:   0%|          | 0/9640 [00:00<?, ?s/s]"
      ]
     },
     "metadata": {},
     "output_type": "display_data"
    },
    {
     "name": "stdout",
     "output_type": "stream",
     "text": [
      "{'video': {'moments': {'edges': [], 'pageInfo': {'hasNextPage': False}}}}\n"
     ]
    },
    {
     "data": {
      "application/vnd.jupyter.widget-view+json": {
       "model_id": "9af9f4f225f0492291ad419157565fc6",
       "version_major": 2,
       "version_minor": 0
      },
      "text/plain": [
       "2023-09-07T16:10:09Z:   0%|          | 0/3227 [00:00<?, ?s/s]"
      ]
     },
     "metadata": {},
     "output_type": "display_data"
    },
    {
     "name": "stdout",
     "output_type": "stream",
     "text": [
      "{'video': {'moments': {'edges': [{'cursor': '', 'node': {'description': 'Super Auto Pets', 'positionMilliseconds': 0}}, {'cursor': '', 'node': {'description': 'FULL LOBBY? | !prime !docket', 'positionMilliseconds': 11141000}}], 'pageInfo': {'hasNextPage': False}}}}\n"
     ]
    },
    {
     "data": {
      "application/vnd.jupyter.widget-view+json": {
       "model_id": "089504c3f1c64e0bab4d46f61123fe65",
       "version_major": 2,
       "version_minor": 0
      },
      "text/plain": [
       "2023-09-06T16:15:20Z:   0%|          | 0/17436 [00:00<?, ?s/s]"
      ]
     },
     "metadata": {},
     "output_type": "display_data"
    },
    {
     "name": "stdout",
     "output_type": "stream",
     "text": [
      "{'video': {'moments': {'edges': [{'cursor': '', 'node': {'description': 'The Texas Chain Saw Massacre', 'positionMilliseconds': 0}}, {'cursor': '', 'node': {'description': 'Just Chatting', 'positionMilliseconds': 9316000}}], 'pageInfo': {'hasNextPage': False}}}}\n"
     ]
    },
    {
     "data": {
      "application/vnd.jupyter.widget-view+json": {
       "model_id": "5f6b310c993c4afdaf407ca0cda9aac9",
       "version_major": 2,
       "version_minor": 0
      },
      "text/plain": [
       "2023-09-05T17:02:44Z:   0%|          | 0/14496 [00:00<?, ?s/s]"
      ]
     },
     "metadata": {},
     "output_type": "display_data"
    },
    {
     "name": "stdout",
     "output_type": "stream",
     "text": [
      "{'video': {'moments': {'edges': [{'cursor': '', 'node': {'description': 'Armored Core VI: Fires of Rubicon', 'positionMilliseconds': 0}}, {'cursor': '', 'node': {'description': 'The Texas Chain Saw Massacre', 'positionMilliseconds': 10535000}}], 'pageInfo': {'hasNextPage': False}}}}\n"
     ]
    },
    {
     "data": {
      "application/vnd.jupyter.widget-view+json": {
       "model_id": "5c300c17341f4eebb3c9c854d847d77c",
       "version_major": 2,
       "version_minor": 0
      },
      "text/plain": [
       "2023-09-04T16:08:50Z:   0%|          | 0/17775 [00:00<?, ?s/s]"
      ]
     },
     "metadata": {},
     "output_type": "display_data"
    },
    {
     "name": "stdout",
     "output_type": "stream",
     "text": [
      "{'video': {'moments': {'edges': [{'cursor': '', 'node': {'description': 'Armored Core VI: Fires of Rubicon', 'positionMilliseconds': 0}}, {'cursor': '', 'node': {'description': 'Jackbox Party Packs', 'positionMilliseconds': 9763000}}], 'pageInfo': {'hasNextPage': False}}}}\n"
     ]
    },
    {
     "data": {
      "application/vnd.jupyter.widget-view+json": {
       "model_id": "11c3d9de36de4220abb570051d962422",
       "version_major": 2,
       "version_minor": 0
      },
      "text/plain": [
       "2023-09-01T16:22:19Z:   0%|          | 0/17217 [00:00<?, ?s/s]"
      ]
     },
     "metadata": {},
     "output_type": "display_data"
    },
    {
     "name": "stdout",
     "output_type": "stream",
     "text": [
      "{'video': {'moments': {'edges': [{'cursor': '', 'node': {'description': 'Armored Core VI: Fires of Rubicon', 'positionMilliseconds': 0}}, {'cursor': '', 'node': {'description': 'The Texas Chain Saw Massacre', 'positionMilliseconds': 10563000}}], 'pageInfo': {'hasNextPage': False}}}}\n"
     ]
    },
    {
     "data": {
      "application/vnd.jupyter.widget-view+json": {
       "model_id": "a7a2c00ea0e14e37a5c0e03956607da2",
       "version_major": 2,
       "version_minor": 0
      },
      "text/plain": [
       "2023-08-31T16:05:19Z:   0%|          | 0/18344 [00:00<?, ?s/s]"
      ]
     },
     "metadata": {},
     "output_type": "display_data"
    },
    {
     "name": "stdout",
     "output_type": "stream",
     "text": [
      "{'video': {'moments': {'edges': [{'cursor': '', 'node': {'description': 'The Texas Chain Saw Massacre', 'positionMilliseconds': 0}}, {'cursor': '', 'node': {'description': 'London 2012: The Official Video Game', 'positionMilliseconds': 10592000}}], 'pageInfo': {'hasNextPage': False}}}}\n"
     ]
    },
    {
     "data": {
      "application/vnd.jupyter.widget-view+json": {
       "model_id": "d6406314fa744d28a69e81ce573cdd9c",
       "version_major": 2,
       "version_minor": 0
      },
      "text/plain": [
       "2023-08-30T16:06:01Z:   0%|          | 0/18471 [00:00<?, ?s/s]"
      ]
     },
     "metadata": {},
     "output_type": "display_data"
    },
    {
     "name": "stdout",
     "output_type": "stream",
     "text": [
      "{'video': {'moments': {'edges': [], 'pageInfo': {'hasNextPage': False}}}}\n"
     ]
    },
    {
     "data": {
      "application/vnd.jupyter.widget-view+json": {
       "model_id": "593d53f7f3ca485dbbecf3a9156f1fcd",
       "version_major": 2,
       "version_minor": 0
      },
      "text/plain": [
       "2023-08-29T17:58:34Z:   0%|          | 0/11712 [00:00<?, ?s/s]"
      ]
     },
     "metadata": {},
     "output_type": "display_data"
    },
    {
     "name": "stdout",
     "output_type": "stream",
     "text": [
      "{'video': {'moments': {'edges': [{'cursor': '', 'node': {'description': 'The Texas Chain Saw Massacre', 'positionMilliseconds': 0}}, {'cursor': '', 'node': {'description': 'Sporcle', 'positionMilliseconds': 11366000}}], 'pageInfo': {'hasNextPage': False}}}}\n"
     ]
    },
    {
     "data": {
      "application/vnd.jupyter.widget-view+json": {
       "model_id": "fa3001c058564dccb44ec0b3856c8631",
       "version_major": 2,
       "version_minor": 0
      },
      "text/plain": [
       "2023-08-28T16:16:08Z:   0%|          | 0/17559 [00:00<?, ?s/s]"
      ]
     },
     "metadata": {},
     "output_type": "display_data"
    },
    {
     "name": "stdout",
     "output_type": "stream",
     "text": [
      "{'video': {'moments': {'edges': [{'cursor': '', 'node': {'description': 'The Texas Chain Saw Massacre', 'positionMilliseconds': 0}}, {'cursor': '', 'node': {'description': 'F1 23', 'positionMilliseconds': 4210000}}, {'cursor': '', 'node': {'description': 'jackbox fridays | !F123 !prime !docket', 'positionMilliseconds': 11578000}}], 'pageInfo': {'hasNextPage': False}}}}\n"
     ]
    },
    {
     "data": {
      "application/vnd.jupyter.widget-view+json": {
       "model_id": "0040eddffdad4db9b899f7356005914d",
       "version_major": 2,
       "version_minor": 0
      },
      "text/plain": [
       "2023-08-25T16:17:43Z:   0%|          | 0/17665 [00:00<?, ?s/s]"
      ]
     },
     "metadata": {},
     "output_type": "display_data"
    },
    {
     "name": "stdout",
     "output_type": "stream",
     "text": [
      "{'video': {'moments': {'edges': [{'cursor': '', 'node': {'description': 'Just Chatting', 'positionMilliseconds': 0}}, {'cursor': '', 'node': {'description': 'hit me | !snap !docket !prime 🐢', 'positionMilliseconds': 5866000}}, {'cursor': '', 'node': {'description': '#sponsored Marvel Snap', 'positionMilliseconds': 8548000}}, {'cursor': '', 'node': {'description': \"he's snapping and sapping | !prime !docket\", 'positionMilliseconds': 13109000}}], 'pageInfo': {'hasNextPage': False}}}}\n"
     ]
    },
    {
     "data": {
      "application/vnd.jupyter.widget-view+json": {
       "model_id": "ccf2738e0c6a4524af4a25f58a6259c3",
       "version_major": 2,
       "version_minor": 0
      },
      "text/plain": [
       "2023-08-24T16:20:32Z:   0%|          | 0/17014 [00:00<?, ?s/s]"
      ]
     },
     "metadata": {},
     "output_type": "display_data"
    },
    {
     "name": "stdout",
     "output_type": "stream",
     "text": [
      "{'video': {'moments': {'edges': [{'cursor': '', 'node': {'description': 'Just Chatting', 'positionMilliseconds': 0}}, {'cursor': '', 'node': {'description': 'the only self-aware gambler | !snap !docket !prime 🐢', 'positionMilliseconds': 5761000}}, {'cursor': '', 'node': {'description': 'fred durst: i got a chainsaw | !snap !docket !prime 🐢', 'positionMilliseconds': 10134000}}], 'pageInfo': {'hasNextPage': False}}}}\n"
     ]
    },
    {
     "data": {
      "application/vnd.jupyter.widget-view+json": {
       "model_id": "154c5209c6df46239ad25af8410ee0c2",
       "version_major": 2,
       "version_minor": 0
      },
      "text/plain": [
       "2023-08-23T16:15:44Z:   0%|          | 0/17186 [00:00<?, ?s/s]"
      ]
     },
     "metadata": {},
     "output_type": "display_data"
    },
    {
     "name": "stdout",
     "output_type": "stream",
     "text": [
      "{'video': {'moments': {'edges': [{'cursor': '', 'node': {'description': 'The Texas Chain Saw Massacre', 'positionMilliseconds': 0}}, {'cursor': '', 'node': {'description': 'Super Auto Pets', 'positionMilliseconds': 11581000}}, {'cursor': '', 'node': {'description': 'CELEBRATING THE STEAM RELEASE OF MARVEL SNAP (#ad) | !snap !docket !prime 🐢', 'positionMilliseconds': 13629000}}], 'pageInfo': {'hasNextPage': False}}}}\n"
     ]
    },
    {
     "data": {
      "application/vnd.jupyter.widget-view+json": {
       "model_id": "ea644005cd0a40648d1b320db677c169",
       "version_major": 2,
       "version_minor": 0
      },
      "text/plain": [
       "2023-08-22T16:14:20Z:   0%|          | 0/21879 [00:00<?, ?s/s]"
      ]
     },
     "metadata": {},
     "output_type": "display_data"
    },
    {
     "name": "stdout",
     "output_type": "stream",
     "text": [
      "{'video': {'moments': {'edges': [{'cursor': '', 'node': {'description': 'The Texas Chain Saw Massacre', 'positionMilliseconds': 0}}, {'cursor': '', 'node': {'description': 'Just Chatting', 'positionMilliseconds': 14672000}}], 'pageInfo': {'hasNextPage': False}}}}\n"
     ]
    },
    {
     "data": {
      "application/vnd.jupyter.widget-view+json": {
       "model_id": "87b8c1a3a33f4c35a0b65dc73fee7182",
       "version_major": 2,
       "version_minor": 0
      },
      "text/plain": [
       "2023-08-21T16:06:26Z:   0%|          | 0/18537 [00:00<?, ?s/s]"
      ]
     },
     "metadata": {},
     "output_type": "display_data"
    },
    {
     "name": "stdout",
     "output_type": "stream",
     "text": [
      "{'video': {'moments': {'edges': [{'cursor': '', 'node': {'description': 'Just Chatting', 'positionMilliseconds': 0}}, {'cursor': '', 'node': {'description': \"escaping to the one place that hasn't been corrupted by capitalism: Space (#ad) | !jumplight !docket !prime 🐢\", 'positionMilliseconds': 2907000}}, {'cursor': '', 'node': {'description': 'the password is... | !jumplight !docket !prime 🐢', 'positionMilliseconds': 7197000}}, {'cursor': '', 'node': {'description': 'Jackbox Party Packs', 'positionMilliseconds': 11543000}}], 'pageInfo': {'hasNextPage': False}}}}\n"
     ]
    },
    {
     "data": {
      "application/vnd.jupyter.widget-view+json": {
       "model_id": "ef03eb20c2ab445eba857fbd3f78177a",
       "version_major": 2,
       "version_minor": 0
      },
      "text/plain": [
       "2023-08-18T16:15:46Z:   0%|          | 0/17413 [00:00<?, ?s/s]"
      ]
     },
     "metadata": {},
     "output_type": "display_data"
    },
    {
     "name": "stdout",
     "output_type": "stream",
     "text": [
      "{'video': {'moments': {'edges': [{'cursor': '', 'node': {'description': 'Just Chatting', 'positionMilliseconds': 0}}, {'cursor': '', 'node': {'description': 'what do we tell the god of death | !docket !prime 🐢', 'positionMilliseconds': 5913000}}, {'cursor': '', 'node': {'description': 'Super Auto Pets', 'positionMilliseconds': 14242000}}], 'pageInfo': {'hasNextPage': False}}}}\n"
     ]
    },
    {
     "data": {
      "application/vnd.jupyter.widget-view+json": {
       "model_id": "def381a71d2940e29651a5a0f5c967ba",
       "version_major": 2,
       "version_minor": 0
      },
      "text/plain": [
       "2023-08-17T16:14:21Z:   0%|          | 0/17454 [00:00<?, ?s/s]"
      ]
     },
     "metadata": {},
     "output_type": "display_data"
    }
   ],
   "source": [
    "DURATION_RE = re.compile(r\"(?:(\\d+)h)?(?:(\\d+)m)?(?:(\\d+)s)?\")\n",
    "\n",
    "result: Dict[str, List[Comment]] = defaultdict(list)\n",
    "chapters: Dict[str, List] = defaultdict(list)\n",
    "data_dir = f\"data-{STREAMER}\"\n",
    "os.makedirs(data_dir, exist_ok=True)\n",
    "for video in tqdm(videos.json()[\"data\"]):\n",
    "    res = []\n",
    "    has_next_page = True\n",
    "    cursor = None\n",
    "    video_id = video[\"id\"]\n",
    "    chapters[video_id] = get_video_chapters(video_id)\n",
    "    duration_match = DURATION_RE.match(video[\"duration\"])\n",
    "    duration = sum(int(x or 0) * 60 ** i for i, x in enumerate(reversed(duration_match.groups())))\n",
    "    \n",
    "    with tqdm(total=duration, unit=\"s\", desc=video['created_at']) as video_bar:\n",
    "        if os.path.isfile(f\"{data_dir}/{video['created_at']}.json\"):\n",
    "            with open(os.path.join(data_dir, f\"{video['created_at']}.json\")) as f:\n",
    "                objs = json.load(f)\n",
    "                result[video[\"created_at\"]] = [\n",
    "                    Comment(comment[\"commenter\"],\n",
    "                            datetime.fromisoformat(comment[\"createdAt\"]),\n",
    "                            comment[\"contentOffsetSeconds\"],\n",
    "                            comment[\"message\"],\n",
    "                            comment[\"video_id\"],\n",
    "                            comment[\"game\"] if \"game\" in comment else None\n",
    "                    )\n",
    "                    for comment in objs\n",
    "                ]\n",
    "                video_bar.update(video_bar.total)\n",
    "                continue\n",
    "        while has_next_page:\n",
    "            query = f\"\"\"\n",
    "                query {{\n",
    "                    video(id: \"{video_id}\") {{\n",
    "                        comments{f'(after: \"{cursor}\")' if cursor else ''} {{\n",
    "                            edges {{\n",
    "                                cursor\n",
    "                                node {{\n",
    "                                    commenter {{\n",
    "                                        displayName\n",
    "                                        login\n",
    "                                    }}\n",
    "                                    createdAt\n",
    "                                    contentOffsetSeconds\n",
    "                                    message {{\n",
    "                                        fragments {{\n",
    "                                            text\n",
    "                                        }}\n",
    "                                    }}\n",
    "                                }}\n",
    "                            }}\n",
    "                            pageInfo {{\n",
    "                                hasNextPage\n",
    "                            }}\n",
    "                        }}\n",
    "                    }}\n",
    "                }}\n",
    "            \"\"\"\n",
    "            response = gql(query)\n",
    "            comments = response.json()[\"data\"][\"video\"][\"comments\"]\n",
    "            has_next_page = comments[\"pageInfo\"][\"hasNextPage\"]\n",
    "            if len(comments[\"edges\"]) == 0:\n",
    "                print(response.json())\n",
    "                raise IOError(\"Bad.\")\n",
    "            for comment in comments[\"edges\"]:\n",
    "                if len(comment[\"node\"][\"message\"][\"fragments\"]) == 0:\n",
    "                    print(comment)\n",
    "                    continue\n",
    "                res.append(Comment(\n",
    "                    commenter=comment[\"node\"][\"commenter\"][\"displayName\"] if comment[\"node\"][\"commenter\"] else \"UNKNOWN\",\n",
    "                    createdAt=get_datetime(comment[\"node\"][\"createdAt\"]),\n",
    "                    contentOffsetSeconds=comment[\"node\"][\"contentOffsetSeconds\"],\n",
    "                    message=comment[\"node\"][\"message\"][\"fragments\"][0][\"text\"],\n",
    "                    video_id=video_id,\n",
    "                    game=max((c for c in chapters[video_id] if c[\"positionMilliseconds\"] // 1000 <= comment[\"node\"][\"contentOffsetSeconds\"]),\n",
    "                             key=lambda c: c[\"positionMilliseconds\"], default={\"description\": \"UNKNOWN\"})[\"description\"]\n",
    "                ))\n",
    "            cursor = comments[\"edges\"][-1][\"cursor\"]\n",
    "            video_bar.update(comments[\"edges\"][-1][\"node\"][\"contentOffsetSeconds\"] - video_bar.n)\n",
    "        result[video[\"created_at\"]] = res\n",
    "        with open(f\"{data_dir}/{video['created_at']}.json\", \"w\") as f:\n",
    "            json.dump(res, f, indent=2, default=lambda o: o.isoformat() if isinstance(o, datetime) else o.__dict__)\n",
    "\n",
    "        "
   ]
  },
  {
   "cell_type": "code",
   "execution_count": 31,
   "metadata": {},
   "outputs": [
    {
     "data": {
      "text/plain": [
       "[(Comment(commenter='coolseel', createdAt=datetime.datetime(2023, 9, 12, 16, 18, 3, 376000), contentOffsetSeconds=161, message=\"I'm happy with my 170 kJ in 30 mins PB but I'll get there eventually Jupijej\", video_id='1923683200', game='Super Auto Pets'),\n",
       "  'https://twitch.tv/videos/1923683200?t=151s'),\n",
       " (Comment(commenter='coolseel', createdAt=datetime.datetime(2023, 9, 12, 16, 26, 16, 81000), contentOffsetSeconds=654, message='no', video_id='1923683200', game='Super Auto Pets'),\n",
       "  'https://twitch.tv/videos/1923683200?t=644s'),\n",
       " (Comment(commenter='coolseel', createdAt=datetime.datetime(2023, 9, 12, 16, 35, 42, 844000), contentOffsetSeconds=1221, message='slovenia NONTARGET', video_id='1923683200', game='Super Auto Pets'),\n",
       "  'https://twitch.tv/videos/1923683200?t=1211s'),\n",
       " (Comment(commenter='coolseel', createdAt=datetime.datetime(2023, 9, 12, 16, 37, 16, 77000), contentOffsetSeconds=1314, message='top 1% btw', video_id='1923683200', game='Super Auto Pets'),\n",
       "  'https://twitch.tv/videos/1923683200?t=1304s'),\n",
       " (Comment(commenter='coolseel', createdAt=datetime.datetime(2023, 9, 12, 16, 43, 3, 86000), contentOffsetSeconds=1661, message=\"what's your take on Bradley rose?\", video_id='1923683200', game='Super Auto Pets'),\n",
       "  'https://twitch.tv/videos/1923683200?t=1651s'),\n",
       " (Comment(commenter='coolseel', createdAt=datetime.datetime(2023, 9, 12, 16, 44, 0, 308000), contentOffsetSeconds=1718, message='bradley rose?', video_id='1923683200', game='Super Auto Pets'),\n",
       "  'https://twitch.tv/videos/1923683200?t=1708s'),\n",
       " (Comment(commenter='coolseel', createdAt=datetime.datetime(2023, 9, 12, 16, 45, 47, 9000), contentOffsetSeconds=1825, message='is that the one with WE HAPPY FEW?', video_id='1923683200', game='Super Auto Pets'),\n",
       "  'https://twitch.tv/videos/1923683200?t=1815s'),\n",
       " (Comment(commenter='coolseel', createdAt=datetime.datetime(2023, 9, 12, 16, 58, 56, 213000), contentOffsetSeconds=2614, message='-5', video_id='1923683200', game='Super Auto Pets'),\n",
       "  'https://twitch.tv/videos/1923683200?t=2604s'),\n",
       " (Comment(commenter='coolseel', createdAt=datetime.datetime(2023, 9, 12, 17, 15, 22, 639000), contentOffsetSeconds=3600, message='2 Sadge', video_id='1923683200', game='Super Auto Pets'),\n",
       "  'https://twitch.tv/videos/1923683200?t=3590s'),\n",
       " (Comment(commenter='coolseel', createdAt=datetime.datetime(2023, 9, 12, 17, 31, 36, 310000), contentOffsetSeconds=4574, message='meet the fockers', video_id='1923683200', game='Super Auto Pets'),\n",
       "  'https://twitch.tv/videos/1923683200?t=4564s'),\n",
       " (Comment(commenter='coolseel', createdAt=datetime.datetime(2023, 9, 12, 17, 36, 24, 743000), contentOffsetSeconds=4863, message='1 LETSGO', video_id='1923683200', game='Super Auto Pets'),\n",
       "  'https://twitch.tv/videos/1923683200?t=4853s'),\n",
       " (Comment(commenter='coolseel', createdAt=datetime.datetime(2023, 9, 12, 17, 46, 16, 24000), contentOffsetSeconds=5454, message='kikiki tukituki', video_id='1923683200', game='Super Auto Pets'),\n",
       "  'https://twitch.tv/videos/1923683200?t=5444s'),\n",
       " (Comment(commenter='coolseel', createdAt=datetime.datetime(2023, 9, 12, 18, 57, 2, 673000), contentOffsetSeconds=9700, message='forced 50% Aware', video_id='1923683200', game='Super Auto Pets'),\n",
       "  'https://twitch.tv/videos/1923683200?t=9690s'),\n",
       " (Comment(commenter='coolseel', createdAt=datetime.datetime(2023, 9, 12, 19, 13, 17, 644000), contentOffsetSeconds=10675, message='1679 monkaS', video_id='1923683200', game='Super Auto Pets'),\n",
       "  'https://twitch.tv/videos/1923683200?t=10665s'),\n",
       " (Comment(commenter='coolseel', createdAt=datetime.datetime(2023, 9, 12, 19, 14, 26, 170000), contentOffsetSeconds=10744, message='Sure', video_id='1923683200', game='Super Auto Pets'),\n",
       "  'https://twitch.tv/videos/1923683200?t=10734s'),\n",
       " (Comment(commenter='coolseel', createdAt=datetime.datetime(2023, 9, 12, 19, 14, 51, 295000), contentOffsetSeconds=10769, message='+2 actually', video_id='1923683200', game='Super Auto Pets'),\n",
       "  'https://twitch.tv/videos/1923683200?t=10759s'),\n",
       " (Comment(commenter='coolseel', createdAt=datetime.datetime(2023, 9, 12, 19, 15, 16, 605000), contentOffsetSeconds=10794, message='i am become death', video_id='1923683200', game='Super Auto Pets'),\n",
       "  'https://twitch.tv/videos/1923683200?t=10784s'),\n",
       " (Comment(commenter='coolseel', createdAt=datetime.datetime(2023, 9, 12, 19, 20, 36, 238000), contentOffsetSeconds=11114, message=\"are you going to watch the devil's plan on netflix it's like physical 100 but for brains\", video_id='1923683200', game='Super Auto Pets'),\n",
       "  'https://twitch.tv/videos/1923683200?t=11104s'),\n",
       " (Comment(commenter='coolseel', createdAt=datetime.datetime(2023, 9, 12, 19, 28, 22, 397000), contentOffsetSeconds=11580, message='LETSGO', video_id='1923683200', game='Super Auto Pets'),\n",
       "  'https://twitch.tv/videos/1923683200?t=11570s'),\n",
       " (Comment(commenter='coolseel', createdAt=datetime.datetime(2023, 9, 12, 19, 29, 43, 930000), contentOffsetSeconds=11662, message='dab', video_id='1923683200', game='Super Auto Pets'),\n",
       "  'https://twitch.tv/videos/1923683200?t=11652s'),\n",
       " (Comment(commenter='coolseel', createdAt=datetime.datetime(2023, 9, 12, 19, 31, 34, 303000), contentOffsetSeconds=11772, message='mario 64 Prayge', video_id='1923683200', game='Super Auto Pets'),\n",
       "  'https://twitch.tv/videos/1923683200?t=11762s'),\n",
       " (Comment(commenter='coolseel', createdAt=datetime.datetime(2023, 9, 12, 20, 2, 56, 62000), contentOffsetSeconds=13654, message='Charmander', video_id='1923683200', game='The Texas Chain Saw Massacre'),\n",
       "  'https://twitch.tv/videos/1923683200?t=13644s'),\n",
       " (Comment(commenter='coolseel', createdAt=datetime.datetime(2023, 9, 11, 17, 5, 39, 306000), contentOffsetSeconds=90, message='oopsy woopsy', video_id='1922925252', game='Super Auto Pets'),\n",
       "  'https://twitch.tv/videos/1922925252?t=80s'),\n",
       " (Comment(commenter='coolseel', createdAt=datetime.datetime(2023, 9, 11, 17, 47, 56, 117000), contentOffsetSeconds=2627, message='🐒🐒🐒', video_id='1922925252', game='Super Auto Pets'),\n",
       "  'https://twitch.tv/videos/1922925252?t=2617s'),\n",
       " (Comment(commenter='coolseel', createdAt=datetime.datetime(2023, 9, 11, 18, 6, 10, 948000), contentOffsetSeconds=3722, message='-2 for sure', video_id='1922925252', game='Super Auto Pets'),\n",
       "  'https://twitch.tv/videos/1922925252?t=3712s'),\n",
       " (Comment(commenter='coolseel', createdAt=datetime.datetime(2023, 9, 11, 18, 24, 51, 808000), contentOffsetSeconds=4843, message='ice cream yum yum so good', video_id='1922925252', game='Super Auto Pets'),\n",
       "  'https://twitch.tv/videos/1922925252?t=4833s'),\n",
       " (Comment(commenter='coolseel', createdAt=datetime.datetime(2023, 9, 11, 18, 55, 54, 588000), contentOffsetSeconds=6705, message='jacky? PauseChamp', video_id='1922925252', game='Super Auto Pets'),\n",
       "  'https://twitch.tv/videos/1922925252?t=6695s'),\n",
       " (Comment(commenter='coolseel', createdAt=datetime.datetime(2023, 9, 11, 19, 36, 0, 298000), contentOffsetSeconds=9111, message='I\\'m 5\\'6\"', video_id='1922925252', game='victim mentality | !prime !docket'),\n",
       "  'https://twitch.tv/videos/1922925252?t=9101s'),\n",
       " (Comment(commenter='coolseel', createdAt=datetime.datetime(2023, 9, 11, 19, 44, 47, 280000), contentOffsetSeconds=9638, message='Cereal', video_id='1922925252', game='victim mentality | !prime !docket'),\n",
       "  'https://twitch.tv/videos/1922925252?t=9628s'),\n",
       " (Comment(commenter='coolseel', createdAt=datetime.datetime(2023, 9, 11, 20, 55, 54, 179000), contentOffsetSeconds=13905, message='@macros86', video_id='1922925252', game='victim mentality | !prime !docket'),\n",
       "  'https://twitch.tv/videos/1922925252?t=13895s'),\n",
       " (Comment(commenter='coolseel', createdAt=datetime.datetime(2023, 9, 7, 18, 39, 28, 162000), contentOffsetSeconds=632, message='UK here works fine', video_id='1919596270', game='UNKNOWN'),\n",
       "  'https://twitch.tv/videos/1919596270?t=622s'),\n",
       " (Comment(commenter='coolseel', createdAt=datetime.datetime(2023, 9, 7, 19, 25, 51, 858000), contentOffsetSeconds=3416, message='not the smurfers just the smurf account', video_id='1919596270', game='UNKNOWN'),\n",
       "  'https://twitch.tv/videos/1919596270?t=3406s'),\n",
       " (Comment(commenter='coolseel', createdAt=datetime.datetime(2023, 9, 7, 19, 26, 18, 898000), contentOffsetSeconds=3443, message=\"they didn't penalize the mains\", video_id='1919596270', game='UNKNOWN'),\n",
       "  'https://twitch.tv/videos/1919596270?t=3433s'),\n",
       " (Comment(commenter='coolseel', createdAt=datetime.datetime(2023, 9, 7, 20, 51, 15, 90000), contentOffsetSeconds=8539, message=\"there's a 20 min 30 second to mars ride with the BURY ME BURY ME song\", video_id='1919596270', game='UNKNOWN'),\n",
       "  'https://twitch.tv/videos/1919596270?t=8529s'),\n",
       " (Comment(commenter='coolseel', createdAt=datetime.datetime(2023, 9, 7, 16, 41, 24, 721000), contentOffsetSeconds=1876, message=\"I think you'd know SOS\", video_id='1919493273', game='UNKNOWN'),\n",
       "  'https://twitch.tv/videos/1919493273?t=1866s'),\n",
       " (Comment(commenter='coolseel', createdAt=datetime.datetime(2023, 9, 5, 18, 4, 34, 148000), contentOffsetSeconds=3708, message='the UK is def not like that', video_id='1917873807', game='The Texas Chain Saw Massacre'),\n",
       "  'https://twitch.tv/videos/1917873807?t=3698s'),\n",
       " (Comment(commenter='coolseel', createdAt=datetime.datetime(2023, 9, 5, 18, 4, 45, 138000), contentOffsetSeconds=3719, message='one guy', video_id='1917873807', game='The Texas Chain Saw Massacre'),\n",
       "  'https://twitch.tv/videos/1917873807?t=3709s'),\n",
       " (Comment(commenter='coolseel', createdAt=datetime.datetime(2023, 9, 5, 19, 46, 23, 264000), contentOffsetSeconds=9817, message='2007 is between 2005-2015', video_id='1917873807', game='Just Chatting'),\n",
       "  'https://twitch.tv/videos/1917873807?t=9807s'),\n",
       " (Comment(commenter='coolseel', createdAt=datetime.datetime(2023, 9, 5, 19, 49, 18, 146000), contentOffsetSeconds=9992, message='ICANT', video_id='1917873807', game='Just Chatting'),\n",
       "  'https://twitch.tv/videos/1917873807?t=9982s'),\n",
       " (Comment(commenter='coolseel', createdAt=datetime.datetime(2023, 9, 4, 16, 16, 29, 329000), contentOffsetSeconds=458, message='!docket', video_id='1916994515', game='Armored Core VI: Fires of Rubicon'),\n",
       "  'https://twitch.tv/videos/1916994515?t=448s'),\n",
       " (Comment(commenter='coolseel', createdAt=datetime.datetime(2023, 9, 4, 16, 18, 4, 692000), contentOffsetSeconds=553, message='no jacky on friday NOOO', video_id='1916994515', game='Armored Core VI: Fires of Rubicon'),\n",
       "  'https://twitch.tv/videos/1916994515?t=543s'),\n",
       " (Comment(commenter='coolseel', createdAt=datetime.datetime(2023, 9, 4, 18, 12, 18, 856000), contentOffsetSeconds=7408, message='Maybe Alex instead of Bradley', video_id='1916994515', game='Armored Core VI: Fires of Rubicon'),\n",
       "  'https://twitch.tv/videos/1916994515?t=7398s'),\n",
       " (Comment(commenter='coolseel', createdAt=datetime.datetime(2023, 9, 1, 20, 5, 34, 595000), contentOffsetSeconds=13394, message='OhMyDog', video_id='1914334408', game='Jackbox Party Packs'),\n",
       "  'https://twitch.tv/videos/1914334408?t=13384s'),\n",
       " (Comment(commenter='coolseel', createdAt=datetime.datetime(2023, 9, 1, 20, 50, 55, 30000), contentOffsetSeconds=16115, message=\"coolseel is gifting 5 Tier 1 Subs to Northernlion's community! They've gifted a total of 41 in the channel! \", video_id='1914334408', game='Jackbox Party Packs'),\n",
       "  'https://twitch.tv/videos/1914334408?t=16105s'),\n",
       " (Comment(commenter='coolseel', createdAt=datetime.datetime(2023, 9, 1, 20, 50, 55, 358000), contentOffsetSeconds=16115, message='coolseel gifted a Tier 1 sub to Cautionchild! ', video_id='1914334408', game='Jackbox Party Packs'),\n",
       "  'https://twitch.tv/videos/1914334408?t=16105s'),\n",
       " (Comment(commenter='coolseel', createdAt=datetime.datetime(2023, 9, 1, 20, 50, 55, 370000), contentOffsetSeconds=16115, message='coolseel gifted a Tier 1 sub to geaabuasfesta! ', video_id='1914334408', game='Jackbox Party Packs'),\n",
       "  'https://twitch.tv/videos/1914334408?t=16105s'),\n",
       " (Comment(commenter='coolseel', createdAt=datetime.datetime(2023, 9, 1, 20, 50, 55, 381000), contentOffsetSeconds=16115, message='coolseel gifted a Tier 1 sub to Kubix911! ', video_id='1914334408', game='Jackbox Party Packs'),\n",
       "  'https://twitch.tv/videos/1914334408?t=16105s'),\n",
       " (Comment(commenter='coolseel', createdAt=datetime.datetime(2023, 9, 1, 20, 50, 55, 383000), contentOffsetSeconds=16115, message='coolseel gifted a Tier 1 sub to Samsaru_! ', video_id='1914334408', game='Jackbox Party Packs'),\n",
       "  'https://twitch.tv/videos/1914334408?t=16105s'),\n",
       " (Comment(commenter='coolseel', createdAt=datetime.datetime(2023, 9, 1, 20, 50, 55, 384000), contentOffsetSeconds=16115, message='coolseel gifted a Tier 1 sub to dommetoretto_! ', video_id='1914334408', game='Jackbox Party Packs'),\n",
       "  'https://twitch.tv/videos/1914334408?t=16105s'),\n",
       " (Comment(commenter='coolseel', createdAt=datetime.datetime(2023, 9, 1, 21, 0, 23, 484000), contentOffsetSeconds=16683, message='where is Poland?????', video_id='1914334408', game='Jackbox Party Packs'),\n",
       "  'https://twitch.tv/videos/1914334408?t=16673s'),\n",
       " (Comment(commenter='coolseel', createdAt=datetime.datetime(2023, 8, 31, 16, 58, 17, 693000), contentOffsetSeconds=3177, message='coolseel gifted a Tier 1 sub to warwolfen! They have given 36 Gift Subs in the channel! ', video_id='1913459963', game='Armored Core VI: Fires of Rubicon'),\n",
       "  'https://twitch.tv/videos/1913459963?t=3167s'),\n",
       " (Comment(commenter='coolseel', createdAt=datetime.datetime(2023, 8, 30, 18, 14, 49, 320000), contentOffsetSeconds=7726, message='hozier is goated', video_id='1912609272', game='The Texas Chain Saw Massacre'),\n",
       "  'https://twitch.tv/videos/1912609272?t=7716s'),\n",
       " (Comment(commenter='coolseel', createdAt=datetime.datetime(2023, 8, 30, 18, 15, 36, 213000), contentOffsetSeconds=7773, message='any thoughts on bradley rose peloton rides?', video_id='1912609272', game='The Texas Chain Saw Massacre'),\n",
       "  'https://twitch.tv/videos/1912609272?t=7763s'),\n",
       " (Comment(commenter='coolseel', createdAt=datetime.datetime(2023, 8, 30, 20, 4, 18, 890000), contentOffsetSeconds=14296, message='NONTARGET', video_id='1912609272', game='London 2012: The Official Video Game'),\n",
       "  'https://twitch.tv/videos/1912609272?t=14286s'),\n",
       " (Comment(commenter='coolseel', createdAt=datetime.datetime(2023, 8, 29, 18, 3, 29, 138000), contentOffsetSeconds=294, message=\"I started peloton recently and it's been good NODDERS\", video_id='1911814981', game='UNKNOWN'),\n",
       "  'https://twitch.tv/videos/1911814981?t=284s'),\n",
       " (Comment(commenter='coolseel', createdAt=datetime.datetime(2023, 8, 29, 19, 13, 59, 377000), contentOffsetSeconds=4524, message='why are they calling you 621 I thought you were 101', video_id='1911814981', game='UNKNOWN'),\n",
       "  'https://twitch.tv/videos/1911814981?t=4514s'),\n",
       " (Comment(commenter='coolseel', createdAt=datetime.datetime(2023, 8, 29, 20, 43, 8, 636000), contentOffsetSeconds=9873, message='\"ikea of shelves\" so ikea?', video_id='1911814981', game='UNKNOWN'),\n",
       "  'https://twitch.tv/videos/1911814981?t=9863s'),\n",
       " (Comment(commenter='coolseel', createdAt=datetime.datetime(2023, 8, 29, 20, 54, 54, 757000), contentOffsetSeconds=10580, message='lightning bolts are about 2-3cm wide', video_id='1911814981', game='UNKNOWN'),\n",
       "  'https://twitch.tv/videos/1911814981?t=10570s'),\n",
       " (Comment(commenter='coolseel', createdAt=datetime.datetime(2023, 8, 29, 20, 57, 41, 717000), contentOffsetSeconds=10747, message='this game looks really pretty to watch', video_id='1911814981', game='UNKNOWN'),\n",
       "  'https://twitch.tv/videos/1911814981?t=10737s'),\n",
       " (Comment(commenter='coolseel', createdAt=datetime.datetime(2023, 8, 29, 21, 2, 8, 226000), contentOffsetSeconds=11013, message='pitiful ', video_id='1911814981', game='UNKNOWN'),\n",
       "  'https://twitch.tv/videos/1911814981?t=11003s'),\n",
       " (Comment(commenter='coolseel', createdAt=datetime.datetime(2023, 8, 28, 19, 42, 45, 232000), contentOffsetSeconds=12396, message='Gayge', video_id='1910889411', game='Sporcle'),\n",
       "  'https://twitch.tv/videos/1910889411?t=12386s'),\n",
       " (Comment(commenter='coolseel', createdAt=datetime.datetime(2023, 8, 25, 16, 29, 45, 914000), contentOffsetSeconds=721, message='bluetooth always has a delay', video_id='1908223538', game='The Texas Chain Saw Massacre'),\n",
       "  'https://twitch.tv/videos/1908223538?t=711s'),\n",
       " (Comment(commenter='coolseel', createdAt=datetime.datetime(2023, 8, 24, 18, 16, 29, 166000), contentOffsetSeconds=6955, message=\"coolseel is gifting 5 Tier 1 Subs to Northernlion's community! They've gifted a total of 35 in the channel! \", video_id='1907353979', game='hit me | !snap !docket !prime 🐢'),\n",
       "  'https://twitch.tv/videos/1907353979?t=6945s'),\n",
       " (Comment(commenter='coolseel', createdAt=datetime.datetime(2023, 8, 24, 18, 16, 29, 761000), contentOffsetSeconds=6956, message='coolseel gifted a Tier 1 sub to NeonDactyl! ', video_id='1907353979', game='hit me | !snap !docket !prime 🐢'),\n",
       "  'https://twitch.tv/videos/1907353979?t=6946s'),\n",
       " (Comment(commenter='coolseel', createdAt=datetime.datetime(2023, 8, 24, 18, 16, 29, 767000), contentOffsetSeconds=6956, message='coolseel gifted a Tier 1 sub to jo_guado! ', video_id='1907353979', game='hit me | !snap !docket !prime 🐢'),\n",
       "  'https://twitch.tv/videos/1907353979?t=6946s'),\n",
       " (Comment(commenter='coolseel', createdAt=datetime.datetime(2023, 8, 24, 18, 16, 29, 777000), contentOffsetSeconds=6956, message='coolseel gifted a Tier 1 sub to theAethelwulf! ', video_id='1907353979', game='hit me | !snap !docket !prime 🐢'),\n",
       "  'https://twitch.tv/videos/1907353979?t=6946s'),\n",
       " (Comment(commenter='coolseel', createdAt=datetime.datetime(2023, 8, 24, 18, 16, 29, 790000), contentOffsetSeconds=6956, message='coolseel gifted a Tier 1 sub to zanewayne2121! ', video_id='1907353979', game='hit me | !snap !docket !prime 🐢'),\n",
       "  'https://twitch.tv/videos/1907353979?t=6946s'),\n",
       " (Comment(commenter='coolseel', createdAt=datetime.datetime(2023, 8, 24, 18, 16, 29, 803000), contentOffsetSeconds=6956, message='coolseel gifted a Tier 1 sub to Sunguardian! ', video_id='1907353979', game='hit me | !snap !docket !prime 🐢'),\n",
       "  'https://twitch.tv/videos/1907353979?t=6946s'),\n",
       " (Comment(commenter='coolseel', createdAt=datetime.datetime(2023, 8, 24, 18, 47, 40, 83000), contentOffsetSeconds=8826, message=\"he didn't draw hela\", video_id='1907353979', game='#sponsored Marvel Snap'),\n",
       "  'https://twitch.tv/videos/1907353979?t=8816s'),\n",
       " (Comment(commenter='coolseel', createdAt=datetime.datetime(2023, 8, 24, 18, 59, 11, 961000), contentOffsetSeconds=9518, message='no', video_id='1907353979', game='#sponsored Marvel Snap'),\n",
       "  'https://twitch.tv/videos/1907353979?t=9508s'),\n",
       " (Comment(commenter='coolseel', createdAt=datetime.datetime(2023, 8, 24, 20, 38, 2, 629000), contentOffsetSeconds=15448, message='+2 but wtf', video_id='1907353979', game=\"he's snapping and sapping | !prime !docket\"),\n",
       "  'https://twitch.tv/videos/1907353979?t=15438s'),\n",
       " (Comment(commenter='coolseel', createdAt=datetime.datetime(2023, 8, 23, 16, 48, 43, 414000), contentOffsetSeconds=1978, message='aristocats is good', video_id='1906493143', game='Just Chatting'),\n",
       "  'https://twitch.tv/videos/1906493143?t=1968s'),\n",
       " (Comment(commenter='coolseel', createdAt=datetime.datetime(2023, 8, 23, 16, 51, 13, 206000), contentOffsetSeconds=2128, message='robin williams is right?', video_id='1906493143', game='Just Chatting'),\n",
       "  'https://twitch.tv/videos/1906493143?t=2118s'),\n",
       " (Comment(commenter='coolseel', createdAt=datetime.datetime(2023, 8, 22, 21, 3, 43, 160000), contentOffsetSeconds=17362, message='you can both get it', video_id='1905632170', game='CELEBRATING THE STEAM RELEASE OF MARVEL SNAP (#ad) | !snap !docket !prime 🐢'),\n",
       "  'https://twitch.tv/videos/1905632170?t=17352s'),\n",
       " (Comment(commenter='coolseel', createdAt=datetime.datetime(2023, 8, 22, 21, 4, 16, 382000), contentOffsetSeconds=17395, message=\"it's a bot\", video_id='1905632170', game='CELEBRATING THE STEAM RELEASE OF MARVEL SNAP (#ad) | !snap !docket !prime 🐢'),\n",
       "  'https://twitch.tv/videos/1905632170?t=17385s'),\n",
       " (Comment(commenter='coolseel', createdAt=datetime.datetime(2023, 8, 22, 21, 4, 36, 914000), contentOffsetSeconds=17416, message='Sure', video_id='1905632170', game='CELEBRATING THE STEAM RELEASE OF MARVEL SNAP (#ad) | !snap !docket !prime 🐢'),\n",
       "  'https://twitch.tv/videos/1905632170?t=17406s'),\n",
       " (Comment(commenter='coolseel', createdAt=datetime.datetime(2023, 8, 22, 21, 5, 17, 528000), contentOffsetSeconds=17456, message='you can tell who reveals first by whose name is glowing', video_id='1905632170', game='CELEBRATING THE STEAM RELEASE OF MARVEL SNAP (#ad) | !snap !docket !prime 🐢'),\n",
       "  'https://twitch.tv/videos/1905632170?t=17446s'),\n",
       " (Comment(commenter='coolseel', createdAt=datetime.datetime(2023, 8, 22, 21, 6, 17, 727000), contentOffsetSeconds=17517, message='never punished', video_id='1905632170', game='CELEBRATING THE STEAM RELEASE OF MARVEL SNAP (#ad) | !snap !docket !prime 🐢'),\n",
       "  'https://twitch.tv/videos/1905632170?t=17507s'),\n",
       " (Comment(commenter='coolseel', createdAt=datetime.datetime(2023, 8, 22, 21, 15, 47, 579000), contentOffsetSeconds=18086, message='not in move decks', video_id='1905632170', game='CELEBRATING THE STEAM RELEASE OF MARVEL SNAP (#ad) | !snap !docket !prime 🐢'),\n",
       "  'https://twitch.tv/videos/1905632170?t=18076s'),\n",
       " (Comment(commenter='coolseel', createdAt=datetime.datetime(2023, 8, 22, 21, 16, 43, 469000), contentOffsetSeconds=18142, message='upgrade greys first', video_id='1905632170', game='CELEBRATING THE STEAM RELEASE OF MARVEL SNAP (#ad) | !snap !docket !prime 🐢'),\n",
       "  'https://twitch.tv/videos/1905632170?t=18132s'),\n",
       " (Comment(commenter='coolseel', createdAt=datetime.datetime(2023, 8, 22, 21, 19, 47, 926000), contentOffsetSeconds=18327, message='bad card', video_id='1905632170', game='CELEBRATING THE STEAM RELEASE OF MARVEL SNAP (#ad) | !snap !docket !prime 🐢'),\n",
       "  'https://twitch.tv/videos/1905632170?t=18317s'),\n",
       " (Comment(commenter='coolseel', createdAt=datetime.datetime(2023, 8, 22, 21, 30, 11, 536000), contentOffsetSeconds=18950, message=\"he doesn't have\", video_id='1905632170', game='CELEBRATING THE STEAM RELEASE OF MARVEL SNAP (#ad) | !snap !docket !prime 🐢'),\n",
       "  'https://twitch.tv/videos/1905632170?t=18940s'),\n",
       " (Comment(commenter='coolseel', createdAt=datetime.datetime(2023, 8, 22, 22, 2, 44, 227000), contentOffsetSeconds=20903, message='holy moly I just got a custom nightcrawler skin', video_id='1905632170', game='CELEBRATING THE STEAM RELEASE OF MARVEL SNAP (#ad) | !snap !docket !prime 🐢'),\n",
       "  'https://twitch.tv/videos/1905632170?t=20893s')]"
      ]
     },
     "execution_count": 31,
     "metadata": {},
     "output_type": "execute_result"
    }
   ],
   "source": [
    "# Comments by coolseel\n",
    "\n",
    "c = Counter()\n",
    "[(c, get_vod_link_from_comment(c, -10)) for cs in result.values() for c in cs if c.commenter == \"coolseel\"]"
   ]
  },
  {
   "cell_type": "code",
   "execution_count": null,
   "metadata": {},
   "outputs": [],
   "source": []
  },
  {
   "cell_type": "code",
   "execution_count": null,
   "metadata": {},
   "outputs": [],
   "source": []
  },
  {
   "cell_type": "code",
   "execution_count": null,
   "metadata": {},
   "outputs": [
    {
     "name": "stdout",
     "output_type": "stream",
     "text": [
      "Counter({712: 9, 24: 8, 35: 7, 45: 7, 552: 7, 597: 7, 854: 7, 49: 6, 52: 6, 54: 6, 59: 6, 65: 6, 246: 6, 547: 6, 749: 6, 812: 6, 816: 6, 827: 6, 857: 6, 40: 5, 43: 5, 64: 5, 66: 5, 67: 5, 131: 5, 499: 5, 526: 5, 562: 5, 580: 5, 584: 5, 751: 5, 818: 5, 820: 5, 25: 4, 26: 4, 32: 4, 37: 4, 38: 4, 48: 4, 56: 4, 60: 4, 63: 4, 70: 4, 146: 4, 225: 4, 244: 4, 247: 4, 529: 4, 534: 4, 538: 4, 541: 4, 550: 4, 581: 4, 585: 4, 739: 4, 831: 4, 4: 3, 28: 3, 31: 3, 41: 3, 44: 3, 53: 3, 71: 3, 76: 3, 79: 3, 152: 3, 243: 3, 248: 3, 257: 3, 277: 3, 310: 3, 314: 3, 435: 3, 535: 3, 548: 3, 579: 3, 586: 3, 594: 3, 600: 3, 601: 3, 602: 3, 603: 3, 709: 3, 740: 3, 741: 3, 742: 3, 788: 3, 809: 3, 814: 3, 815: 3, 817: 3, 819: 3, 826: 3, 829: 3, 839: 3, 843: 3, 848: 3, 853: 3, 855: 3, 866: 3, 872: 3, 2: 2, 14: 2, 23: 2, 27: 2, 29: 2, 33: 2, 36: 2, 39: 2, 50: 2, 61: 2, 62: 2, 77: 2, 83: 2, 109: 2, 122: 2, 128: 2, 130: 2, 136: 2, 137: 2, 138: 2, 139: 2, 147: 2, 149: 2, 153: 2, 156: 2, 253: 2, 254: 2, 317: 2, 333: 2, 431: 2, 437: 2, 439: 2, 496: 2, 500: 2, 503: 2, 539: 2, 542: 2, 549: 2, 551: 2, 558: 2, 567: 2, 568: 2, 570: 2, 575: 2, 576: 2, 582: 2, 591: 2, 595: 2, 598: 2, 599: 2, 604: 2, 611: 2, 615: 2, 619: 2, 634: 2, 700: 2, 714: 2, 717: 2, 725: 2, 731: 2, 732: 2, 750: 2, 752: 2, 766: 2, 771: 2, 779: 2, 810: 2, 822: 2, 828: 2, 835: 2, 836: 2, 842: 2, 858: 2, 859: 2, 863: 2, 871: 2, 873: 2, 874: 2, 876: 2, 884: 2, 894: 2, 897: 2, 925: 2, 0: 1, 3: 1, 10: 1, 12: 1, 30: 1, 34: 1, 51: 1, 55: 1, 57: 1, 58: 1, 73: 1, 93: 1, 97: 1, 106: 1, 108: 1, 115: 1, 117: 1, 119: 1, 121: 1, 125: 1, 132: 1, 141: 1, 143: 1, 148: 1, 150: 1, 155: 1, 164: 1, 173: 1, 178: 1, 201: 1, 203: 1, 215: 1, 223: 1, 228: 1, 233: 1, 235: 1, 245: 1, 252: 1, 255: 1, 259: 1, 260: 1, 261: 1, 264: 1, 265: 1, 266: 1, 269: 1, 271: 1, 273: 1, 274: 1, 275: 1, 276: 1, 278: 1, 288: 1, 311: 1, 312: 1, 316: 1, 318: 1, 319: 1, 323: 1, 328: 1, 379: 1, 386: 1, 411: 1, 428: 1, 432: 1, 433: 1, 436: 1, 438: 1, 440: 1, 443: 1, 444: 1, 446: 1, 447: 1, 449: 1, 452: 1, 455: 1, 459: 1, 477: 1, 478: 1, 481: 1, 490: 1, 494: 1, 502: 1, 506: 1, 516: 1, 536: 1, 537: 1, 540: 1, 546: 1, 554: 1, 556: 1, 559: 1, 563: 1, 565: 1, 566: 1, 569: 1, 572: 1, 573: 1, 574: 1, 583: 1, 589: 1, 590: 1, 592: 1, 593: 1, 596: 1, 605: 1, 606: 1, 607: 1, 610: 1, 613: 1, 614: 1, 616: 1, 626: 1, 633: 1, 643: 1, 647: 1, 650: 1, 704: 1, 705: 1, 710: 1, 711: 1, 713: 1, 716: 1, 730: 1, 733: 1, 738: 1, 744: 1, 746: 1, 747: 1, 748: 1, 782: 1, 787: 1, 790: 1, 806: 1, 807: 1, 808: 1, 811: 1, 813: 1, 834: 1, 840: 1, 844: 1, 845: 1, 849: 1, 852: 1, 856: 1, 860: 1, 865: 1, 867: 1, 878: 1, 887: 1, 889: 1, 892: 1, 893: 1, 903: 1, 906: 1, 907: 1, 915: 1, 920: 1, 926: 1, 937: 1, 939: 1, 940: 1, 945: 1, 952: 1, 957: 1, 965: 1, 967: 1, 969: 1, 986: 1, 996: 1, 997: 1, 999: 1, 1001: 1, 1003: 1, 1005: 1})\n",
      "Counter({451: 20, 526: 20, 569: 20, 955: 18, 550: 16, 229: 15, 568: 15, 114: 14, 360: 14, 800: 14, 34: 13, 493: 13, 508: 13, 509: 13, 527: 13, 254: 12, 383: 12, 529: 12, 552: 12, 116: 11, 235: 11, 262: 11, 344: 11, 490: 11, 524: 11, 525: 11, 528: 11, 543: 11, 571: 11, 668: 11, 54: 10, 217: 10, 260: 10, 459: 10, 461: 10, 522: 10, 545: 10, 564: 10, 643: 10, 645: 10, 803: 10, 844: 10, 916: 10, 30: 9, 37: 9, 43: 9, 66: 9, 189: 9, 232: 9, 239: 9, 259: 9, 308: 9, 322: 9, 361: 9, 374: 9, 402: 9, 507: 9, 511: 9, 530: 9, 572: 9, 593: 9, 657: 9, 797: 9, 811: 9, 814: 9, 818: 9, 31: 8, 118: 8, 124: 8, 162: 8, 192: 8, 218: 8, 219: 8, 225: 8, 251: 8, 319: 8, 340: 8, 347: 8, 371: 8, 419: 8, 450: 8, 479: 8, 492: 8, 500: 8, 510: 8, 523: 8, 534: 8, 566: 8, 570: 8, 576: 8, 594: 8, 595: 8, 623: 8, 649: 8, 653: 8, 659: 8, 714: 8, 798: 8, 819: 8, 28: 7, 29: 7, 35: 7, 44: 7, 46: 7, 74: 7, 84: 7, 103: 7, 112: 7, 113: 7, 115: 7, 125: 7, 142: 7, 161: 7, 168: 7, 182: 7, 190: 7, 204: 7, 206: 7, 222: 7, 244: 7, 245: 7, 246: 7, 258: 7, 296: 7, 304: 7, 338: 7, 384: 7, 403: 7, 452: 7, 465: 7, 494: 7, 497: 7, 504: 7, 535: 7, 538: 7, 540: 7, 546: 7, 553: 7, 558: 7, 560: 7, 574: 7, 585: 7, 588: 7, 622: 7, 635: 7, 644: 7, 646: 7, 647: 7, 655: 7, 656: 7, 698: 7, 813: 7, 897: 7, 913: 7, 919: 7, 940: 7, 949: 7, 13: 6, 27: 6, 32: 6, 36: 6, 48: 6, 55: 6, 60: 6, 65: 6, 70: 6, 86: 6, 88: 6, 97: 6, 105: 6, 110: 6, 126: 6, 130: 6, 132: 6, 140: 6, 147: 6, 183: 6, 184: 6, 196: 6, 230: 6, 240: 6, 241: 6, 242: 6, 247: 6, 264: 6, 268: 6, 274: 6, 301: 6, 303: 6, 318: 6, 324: 6, 358: 6, 359: 6, 379: 6, 382: 6, 385: 6, 392: 6, 405: 6, 426: 6, 441: 6, 443: 6, 453: 6, 480: 6, 486: 6, 488: 6, 489: 6, 506: 6, 514: 6, 539: 6, 547: 6, 548: 6, 551: 6, 557: 6, 561: 6, 567: 6, 577: 6, 587: 6, 599: 6, 606: 6, 621: 6, 636: 6, 648: 6, 651: 6, 663: 6, 665: 6, 696: 6, 710: 6, 776: 6, 804: 6, 815: 6, 833: 6, 846: 6, 869: 6, 937: 6, 938: 6, 943: 6, 945: 6, 25: 5, 26: 5, 33: 5, 62: 5, 69: 5, 72: 5, 77: 5, 89: 5, 96: 5, 102: 5, 107: 5, 117: 5, 128: 5, 129: 5, 135: 5, 136: 5, 145: 5, 146: 5, 152: 5, 174: 5, 178: 5, 210: 5, 227: 5, 228: 5, 253: 5, 255: 5, 269: 5, 302: 5, 310: 5, 315: 5, 323: 5, 339: 5, 349: 5, 357: 5, 364: 5, 386: 5, 388: 5, 412: 5, 418: 5, 431: 5, 437: 5, 442: 5, 447: 5, 455: 5, 458: 5, 466: 5, 468: 5, 474: 5, 476: 5, 482: 5, 495: 5, 496: 5, 502: 5, 531: 5, 537: 5, 573: 5, 578: 5, 589: 5, 591: 5, 596: 5, 597: 5, 633: 5, 671: 5, 702: 5, 707: 5, 774: 5, 775: 5, 777: 5, 778: 5, 779: 5, 785: 5, 793: 5, 801: 5, 826: 5, 827: 5, 841: 5, 870: 5, 879: 5, 881: 5, 885: 5, 891: 5, 899: 5, 900: 5, 912: 5, 914: 5, 917: 5, 944: 5, 948: 5, 951: 5, 1: 4, 10: 4, 12: 4, 17: 4, 21: 4, 24: 4, 39: 4, 42: 4, 50: 4, 63: 4, 64: 4, 68: 4, 80: 4, 81: 4, 87: 4, 106: 4, 119: 4, 122: 4, 131: 4, 139: 4, 148: 4, 154: 4, 156: 4, 158: 4, 163: 4, 165: 4, 173: 4, 181: 4, 186: 4, 197: 4, 207: 4, 208: 4, 212: 4, 215: 4, 216: 4, 220: 4, 221: 4, 224: 4, 231: 4, 234: 4, 243: 4, 248: 4, 263: 4, 266: 4, 267: 4, 270: 4, 273: 4, 277: 4, 291: 4, 305: 4, 311: 4, 321: 4, 341: 4, 345: 4, 352: 4, 378: 4, 381: 4, 394: 4, 400: 4, 404: 4, 407: 4, 413: 4, 420: 4, 423: 4, 427: 4, 440: 4, 444: 4, 446: 4, 456: 4, 457: 4, 463: 4, 464: 4, 469: 4, 471: 4, 475: 4, 481: 4, 483: 4, 485: 4, 487: 4, 498: 4, 501: 4, 515: 4, 521: 4, 532: 4, 533: 4, 541: 4, 542: 4, 544: 4, 556: 4, 559: 4, 565: 4, 584: 4, 604: 4, 607: 4, 620: 4, 628: 4, 641: 4, 672: 4, 673: 4, 677: 4, 689: 4, 705: 4, 706: 4, 709: 4, 712: 4, 731: 4, 740: 4, 745: 4, 749: 4, 752: 4, 768: 4, 773: 4, 790: 4, 816: 4, 820: 4, 830: 4, 831: 4, 843: 4, 848: 4, 871: 4, 876: 4, 889: 4, 910: 4, 923: 4, 925: 4, 926: 4, 929: 4, 930: 4, 946: 4, 950: 4, 19: 3, 40: 3, 47: 3, 49: 3, 52: 3, 71: 3, 75: 3, 79: 3, 85: 3, 95: 3, 100: 3, 109: 3, 121: 3, 123: 3, 133: 3, 137: 3, 141: 3, 143: 3, 144: 3, 157: 3, 159: 3, 169: 3, 175: 3, 179: 3, 180: 3, 195: 3, 203: 3, 209: 3, 211: 3, 214: 3, 223: 3, 233: 3, 238: 3, 250: 3, 256: 3, 275: 3, 279: 3, 290: 3, 294: 3, 295: 3, 298: 3, 306: 3, 312: 3, 316: 3, 332: 3, 348: 3, 353: 3, 362: 3, 363: 3, 367: 3, 373: 3, 376: 3, 387: 3, 395: 3, 398: 3, 401: 3, 417: 3, 421: 3, 424: 3, 449: 3, 454: 3, 467: 3, 472: 3, 473: 3, 484: 3, 505: 3, 516: 3, 517: 3, 549: 3, 554: 3, 579: 3, 580: 3, 581: 3, 586: 3, 601: 3, 602: 3, 611: 3, 624: 3, 625: 3, 626: 3, 627: 3, 629: 3, 634: 3, 640: 3, 650: 3, 652: 3, 654: 3, 667: 3, 678: 3, 679: 3, 685: 3, 692: 3, 699: 3, 700: 3, 703: 3, 713: 3, 715: 3, 719: 3, 720: 3, 721: 3, 729: 3, 738: 3, 746: 3, 753: 3, 759: 3, 762: 3, 763: 3, 765: 3, 769: 3, 770: 3, 771: 3, 780: 3, 784: 3, 786: 3, 788: 3, 802: 3, 805: 3, 807: 3, 823: 3, 825: 3, 829: 3, 851: 3, 884: 3, 886: 3, 887: 3, 888: 3, 892: 3, 894: 3, 903: 3, 915: 3, 920: 3, 924: 3, 941: 3, 942: 3, 947: 3, 2: 2, 3: 2, 8: 2, 9: 2, 11: 2, 15: 2, 20: 2, 22: 2, 23: 2, 38: 2, 41: 2, 45: 2, 51: 2, 58: 2, 67: 2, 73: 2, 76: 2, 82: 2, 91: 2, 92: 2, 101: 2, 111: 2, 134: 2, 138: 2, 150: 2, 151: 2, 153: 2, 160: 2, 172: 2, 176: 2, 185: 2, 187: 2, 191: 2, 193: 2, 194: 2, 199: 2, 202: 2, 213: 2, 226: 2, 249: 2, 252: 2, 261: 2, 271: 2, 281: 2, 288: 2, 299: 2, 300: 2, 307: 2, 313: 2, 317: 2, 320: 2, 330: 2, 331: 2, 342: 2, 350: 2, 354: 2, 356: 2, 368: 2, 375: 2, 391: 2, 393: 2, 397: 2, 408: 2, 410: 2, 411: 2, 414: 2, 428: 2, 429: 2, 430: 2, 432: 2, 434: 2, 436: 2, 438: 2, 445: 2, 448: 2, 462: 2, 470: 2, 478: 2, 499: 2, 503: 2, 512: 2, 536: 2, 555: 2, 562: 2, 575: 2, 590: 2, 598: 2, 613: 2, 616: 2, 630: 2, 631: 2, 642: 2, 660: 2, 661: 2, 664: 2, 666: 2, 675: 2, 683: 2, 684: 2, 686: 2, 687: 2, 688: 2, 694: 2, 701: 2, 711: 2, 717: 2, 733: 2, 735: 2, 736: 2, 741: 2, 742: 2, 743: 2, 747: 2, 751: 2, 761: 2, 764: 2, 767: 2, 781: 2, 787: 2, 789: 2, 795: 2, 806: 2, 808: 2, 810: 2, 812: 2, 817: 2, 821: 2, 822: 2, 824: 2, 828: 2, 832: 2, 834: 2, 835: 2, 845: 2, 847: 2, 850: 2, 853: 2, 855: 2, 859: 2, 861: 2, 862: 2, 868: 2, 882: 2, 893: 2, 898: 2, 902: 2, 904: 2, 907: 2, 908: 2, 911: 2, 921: 2, 952: 2, 953: 2, 956: 2, 0: 1, 5: 1, 6: 1, 16: 1, 18: 1, 53: 1, 56: 1, 57: 1, 61: 1, 78: 1, 83: 1, 90: 1, 93: 1, 94: 1, 98: 1, 104: 1, 108: 1, 120: 1, 127: 1, 149: 1, 155: 1, 164: 1, 166: 1, 167: 1, 171: 1, 188: 1, 198: 1, 200: 1, 201: 1, 205: 1, 236: 1, 237: 1, 272: 1, 276: 1, 280: 1, 283: 1, 284: 1, 285: 1, 287: 1, 289: 1, 292: 1, 293: 1, 309: 1, 328: 1, 333: 1, 351: 1, 355: 1, 365: 1, 366: 1, 372: 1, 377: 1, 389: 1, 390: 1, 396: 1, 399: 1, 406: 1, 409: 1, 422: 1, 425: 1, 433: 1, 439: 1, 477: 1, 491: 1, 519: 1, 520: 1, 563: 1, 583: 1, 592: 1, 600: 1, 603: 1, 605: 1, 609: 1, 610: 1, 612: 1, 614: 1, 632: 1, 637: 1, 639: 1, 658: 1, 662: 1, 669: 1, 670: 1, 674: 1, 680: 1, 682: 1, 693: 1, 704: 1, 716: 1, 718: 1, 723: 1, 726: 1, 727: 1, 728: 1, 734: 1, 737: 1, 739: 1, 748: 1, 750: 1, 755: 1, 782: 1, 783: 1, 791: 1, 792: 1, 794: 1, 796: 1, 799: 1, 809: 1, 836: 1, 838: 1, 842: 1, 849: 1, 852: 1, 854: 1, 856: 1, 857: 1, 858: 1, 863: 1, 864: 1, 866: 1, 867: 1, 872: 1, 873: 1, 877: 1, 878: 1, 880: 1, 883: 1, 890: 1, 896: 1, 901: 1, 909: 1, 922: 1, 927: 1, 934: 1, 935: 1, 936: 1, 939: 1, 954: 1})\n",
      "Counter({36: 13, 130: 13, 53: 12, 39: 11, 128: 10, 361: 10, 27: 9, 34: 9, 42: 9, 124: 9, 159: 9, 169: 9, 360: 9, 41: 8, 79: 8, 112: 8, 113: 8, 168: 8, 364: 8, 44: 7, 46: 7, 49: 7, 73: 7, 90: 7, 122: 7, 135: 7, 137: 7, 138: 7, 146: 7, 161: 7, 162: 7, 166: 7, 365: 7, 366: 7, 387: 7, 37: 6, 59: 6, 107: 6, 129: 6, 143: 6, 147: 6, 149: 6, 207: 6, 352: 6, 368: 6, 381: 6, 390: 6, 445: 6, 26: 5, 38: 5, 45: 5, 56: 5, 65: 5, 69: 5, 85: 5, 92: 5, 93: 5, 97: 5, 109: 5, 117: 5, 121: 5, 125: 5, 127: 5, 163: 5, 167: 5, 204: 5, 324: 5, 355: 5, 357: 5, 358: 5, 391: 5, 399: 5, 404: 5, 406: 5, 427: 5, 489: 5, 1: 4, 43: 4, 70: 4, 77: 4, 82: 4, 94: 4, 99: 4, 102: 4, 105: 4, 106: 4, 108: 4, 123: 4, 131: 4, 134: 4, 136: 4, 139: 4, 142: 4, 144: 4, 145: 4, 153: 4, 164: 4, 238: 4, 239: 4, 252: 4, 320: 4, 321: 4, 344: 4, 362: 4, 363: 4, 372: 4, 380: 4, 383: 4, 386: 4, 409: 4, 432: 4, 450: 4, 472: 4, 477: 4, 3: 3, 6: 3, 19: 3, 20: 3, 24: 3, 28: 3, 29: 3, 35: 3, 40: 3, 47: 3, 48: 3, 50: 3, 52: 3, 64: 3, 66: 3, 67: 3, 68: 3, 72: 3, 80: 3, 81: 3, 86: 3, 89: 3, 95: 3, 98: 3, 101: 3, 103: 3, 104: 3, 115: 3, 126: 3, 141: 3, 151: 3, 160: 3, 173: 3, 189: 3, 191: 3, 205: 3, 209: 3, 211: 3, 222: 3, 248: 3, 254: 3, 255: 3, 260: 3, 274: 3, 289: 3, 291: 3, 303: 3, 305: 3, 306: 3, 307: 3, 313: 3, 315: 3, 336: 3, 339: 3, 340: 3, 341: 3, 342: 3, 343: 3, 349: 3, 350: 3, 351: 3, 354: 3, 356: 3, 369: 3, 377: 3, 388: 3, 401: 3, 414: 3, 423: 3, 428: 3, 437: 3, 444: 3, 455: 3, 464: 3, 8: 2, 18: 2, 23: 2, 25: 2, 31: 2, 54: 2, 57: 2, 58: 2, 61: 2, 63: 2, 75: 2, 76: 2, 83: 2, 100: 2, 110: 2, 114: 2, 116: 2, 118: 2, 132: 2, 140: 2, 148: 2, 150: 2, 152: 2, 154: 2, 158: 2, 165: 2, 170: 2, 175: 2, 176: 2, 190: 2, 192: 2, 208: 2, 212: 2, 215: 2, 220: 2, 224: 2, 225: 2, 228: 2, 232: 2, 237: 2, 247: 2, 256: 2, 259: 2, 263: 2, 266: 2, 277: 2, 281: 2, 284: 2, 297: 2, 300: 2, 309: 2, 311: 2, 312: 2, 316: 2, 317: 2, 325: 2, 333: 2, 335: 2, 345: 2, 353: 2, 367: 2, 370: 2, 374: 2, 379: 2, 382: 2, 392: 2, 394: 2, 407: 2, 408: 2, 411: 2, 419: 2, 420: 2, 422: 2, 429: 2, 430: 2, 438: 2, 440: 2, 443: 2, 447: 2, 452: 2, 456: 2, 459: 2, 460: 2, 461: 2, 462: 2, 463: 2, 470: 2, 474: 2, 481: 2, 483: 2, 486: 2, 488: 2, 2: 1, 9: 1, 12: 1, 14: 1, 22: 1, 51: 1, 55: 1, 60: 1, 62: 1, 71: 1, 74: 1, 88: 1, 96: 1, 119: 1, 133: 1, 157: 1, 172: 1, 177: 1, 180: 1, 184: 1, 193: 1, 200: 1, 203: 1, 206: 1, 219: 1, 221: 1, 223: 1, 230: 1, 236: 1, 242: 1, 264: 1, 265: 1, 267: 1, 270: 1, 271: 1, 272: 1, 275: 1, 276: 1, 278: 1, 279: 1, 280: 1, 286: 1, 287: 1, 288: 1, 290: 1, 294: 1, 298: 1, 301: 1, 302: 1, 304: 1, 308: 1, 310: 1, 314: 1, 326: 1, 327: 1, 328: 1, 329: 1, 334: 1, 337: 1, 338: 1, 347: 1, 348: 1, 359: 1, 373: 1, 375: 1, 384: 1, 389: 1, 400: 1, 403: 1, 412: 1, 413: 1, 415: 1, 424: 1, 426: 1, 439: 1, 441: 1, 442: 1, 448: 1, 449: 1, 451: 1, 454: 1, 457: 1, 458: 1, 466: 1, 473: 1, 479: 1, 480: 1, 482: 1, 484: 1})\n",
      "Counter({904: 18, 372: 14, 470: 12, 1069: 12, 323: 10, 462: 9, 773: 9, 1064: 9, 292: 8, 460: 8, 561: 8, 562: 8, 905: 8, 275: 7, 317: 7, 337: 7, 350: 7, 380: 7, 862: 7, 1058: 7, 1068: 7, 1077: 7, 67: 6, 101: 6, 171: 6, 197: 6, 238: 6, 321: 6, 336: 6, 338: 6, 353: 6, 358: 6, 360: 6, 361: 6, 379: 6, 381: 6, 427: 6, 429: 6, 631: 6, 790: 6, 838: 6, 854: 6, 857: 6, 994: 6, 1004: 6, 1067: 6, 10: 5, 73: 5, 75: 5, 97: 5, 107: 5, 110: 5, 149: 5, 151: 5, 191: 5, 233: 5, 239: 5, 266: 5, 274: 5, 279: 5, 309: 5, 328: 5, 351: 5, 357: 5, 400: 5, 403: 5, 426: 5, 706: 5, 707: 5, 711: 5, 716: 5, 772: 5, 777: 5, 782: 5, 850: 5, 910: 5, 924: 5, 951: 5, 953: 5, 954: 5, 1003: 5, 1030: 5, 1053: 5, 1063: 5, 1066: 5, 16: 4, 18: 4, 33: 4, 56: 4, 108: 4, 173: 4, 201: 4, 242: 4, 244: 4, 247: 4, 273: 4, 312: 4, 313: 4, 332: 4, 333: 4, 343: 4, 355: 4, 374: 4, 377: 4, 386: 4, 387: 4, 397: 4, 398: 4, 399: 4, 407: 4, 463: 4, 464: 4, 476: 4, 523: 4, 565: 4, 632: 4, 640: 4, 659: 4, 694: 4, 712: 4, 713: 4, 717: 4, 724: 4, 725: 4, 731: 4, 744: 4, 770: 4, 837: 4, 843: 4, 844: 4, 852: 4, 855: 4, 856: 4, 867: 4, 887: 4, 888: 4, 891: 4, 902: 4, 909: 4, 913: 4, 928: 4, 929: 4, 936: 4, 945: 4, 996: 4, 1024: 4, 1033: 4, 1044: 4, 1046: 4, 1049: 4, 1054: 4, 1056: 4, 1060: 4, 1061: 4, 1071: 4, 1: 3, 17: 3, 19: 3, 23: 3, 36: 3, 52: 3, 61: 3, 62: 3, 63: 3, 66: 3, 70: 3, 71: 3, 72: 3, 74: 3, 78: 3, 79: 3, 92: 3, 100: 3, 116: 3, 142: 3, 145: 3, 148: 3, 155: 3, 159: 3, 175: 3, 179: 3, 190: 3, 195: 3, 202: 3, 217: 3, 230: 3, 236: 3, 237: 3, 243: 3, 245: 3, 251: 3, 257: 3, 259: 3, 265: 3, 280: 3, 286: 3, 295: 3, 298: 3, 299: 3, 305: 3, 318: 3, 322: 3, 326: 3, 334: 3, 340: 3, 342: 3, 359: 3, 365: 3, 373: 3, 376: 3, 378: 3, 383: 3, 405: 3, 412: 3, 461: 3, 466: 3, 468: 3, 471: 3, 473: 3, 475: 3, 478: 3, 495: 3, 563: 3, 568: 3, 573: 3, 629: 3, 630: 3, 655: 3, 656: 3, 670: 3, 689: 3, 693: 3, 708: 3, 710: 3, 715: 3, 719: 3, 721: 3, 722: 3, 728: 3, 730: 3, 734: 3, 735: 3, 736: 3, 738: 3, 741: 3, 750: 3, 771: 3, 774: 3, 775: 3, 781: 3, 783: 3, 785: 3, 816: 3, 819: 3, 826: 3, 832: 3, 842: 3, 848: 3, 858: 3, 861: 3, 866: 3, 868: 3, 876: 3, 878: 3, 898: 3, 900: 3, 907: 3, 908: 3, 915: 3, 916: 3, 931: 3, 932: 3, 950: 3, 962: 3, 997: 3, 1002: 3, 1007: 3, 1013: 3, 1025: 3, 1031: 3, 1036: 3, 1055: 3, 1057: 3, 1065: 3, 1072: 3, 1078: 3, 1079: 3, 2: 2, 9: 2, 11: 2, 13: 2, 14: 2, 15: 2, 24: 2, 40: 2, 41: 2, 42: 2, 44: 2, 50: 2, 53: 2, 57: 2, 59: 2, 60: 2, 80: 2, 91: 2, 98: 2, 109: 2, 136: 2, 138: 2, 140: 2, 141: 2, 143: 2, 150: 2, 154: 2, 156: 2, 158: 2, 166: 2, 172: 2, 174: 2, 183: 2, 192: 2, 194: 2, 204: 2, 208: 2, 209: 2, 211: 2, 219: 2, 226: 2, 227: 2, 229: 2, 234: 2, 255: 2, 262: 2, 263: 2, 267: 2, 269: 2, 276: 2, 278: 2, 282: 2, 283: 2, 284: 2, 290: 2, 293: 2, 297: 2, 304: 2, 308: 2, 315: 2, 324: 2, 325: 2, 339: 2, 341: 2, 348: 2, 363: 2, 382: 2, 384: 2, 391: 2, 394: 2, 401: 2, 402: 2, 411: 2, 417: 2, 419: 2, 420: 2, 428: 2, 442: 2, 457: 2, 459: 2, 465: 2, 467: 2, 469: 2, 472: 2, 474: 2, 477: 2, 503: 2, 504: 2, 505: 2, 584: 2, 592: 2, 597: 2, 599: 2, 602: 2, 634: 2, 638: 2, 647: 2, 650: 2, 652: 2, 653: 2, 657: 2, 672: 2, 686: 2, 687: 2, 688: 2, 690: 2, 704: 2, 709: 2, 718: 2, 720: 2, 729: 2, 733: 2, 737: 2, 740: 2, 742: 2, 745: 2, 746: 2, 749: 2, 751: 2, 752: 2, 769: 2, 778: 2, 784: 2, 797: 2, 807: 2, 810: 2, 817: 2, 818: 2, 825: 2, 836: 2, 841: 2, 851: 2, 853: 2, 871: 2, 873: 2, 875: 2, 880: 2, 886: 2, 889: 2, 894: 2, 899: 2, 901: 2, 903: 2, 906: 2, 920: 2, 922: 2, 923: 2, 926: 2, 927: 2, 930: 2, 937: 2, 938: 2, 940: 2, 942: 2, 943: 2, 946: 2, 948: 2, 952: 2, 955: 2, 957: 2, 966: 2, 969: 2, 972: 2, 973: 2, 995: 2, 1010: 2, 1011: 2, 1022: 2, 1029: 2, 1032: 2, 1042: 2, 1043: 2, 1062: 2, 1070: 2, 3: 1, 6: 1, 7: 1, 12: 1, 26: 1, 27: 1, 29: 1, 32: 1, 34: 1, 35: 1, 37: 1, 39: 1, 45: 1, 46: 1, 47: 1, 48: 1, 49: 1, 55: 1, 58: 1, 68: 1, 69: 1, 83: 1, 84: 1, 90: 1, 93: 1, 94: 1, 96: 1, 99: 1, 102: 1, 106: 1, 112: 1, 113: 1, 115: 1, 118: 1, 146: 1, 147: 1, 152: 1, 157: 1, 160: 1, 163: 1, 164: 1, 177: 1, 178: 1, 181: 1, 182: 1, 185: 1, 186: 1, 187: 1, 188: 1, 193: 1, 196: 1, 198: 1, 200: 1, 205: 1, 210: 1, 212: 1, 216: 1, 220: 1, 223: 1, 232: 1, 240: 1, 241: 1, 246: 1, 252: 1, 254: 1, 256: 1, 264: 1, 268: 1, 272: 1, 277: 1, 281: 1, 285: 1, 288: 1, 289: 1, 296: 1, 300: 1, 301: 1, 303: 1, 306: 1, 310: 1, 311: 1, 320: 1, 329: 1, 344: 1, 345: 1, 347: 1, 356: 1, 362: 1, 368: 1, 370: 1, 371: 1, 375: 1, 389: 1, 392: 1, 393: 1, 395: 1, 396: 1, 404: 1, 409: 1, 410: 1, 413: 1, 416: 1, 418: 1, 422: 1, 424: 1, 425: 1, 443: 1, 451: 1, 452: 1, 454: 1, 458: 1, 483: 1, 485: 1, 489: 1, 490: 1, 494: 1, 496: 1, 502: 1, 509: 1, 510: 1, 521: 1, 524: 1, 534: 1, 536: 1, 538: 1, 539: 1, 548: 1, 552: 1, 556: 1, 564: 1, 566: 1, 570: 1, 571: 1, 574: 1, 575: 1, 576: 1, 578: 1, 579: 1, 590: 1, 591: 1, 596: 1, 598: 1, 603: 1, 605: 1, 616: 1, 624: 1, 627: 1, 635: 1, 637: 1, 641: 1, 642: 1, 644: 1, 648: 1, 651: 1, 654: 1, 660: 1, 662: 1, 663: 1, 667: 1, 668: 1, 684: 1, 685: 1, 692: 1, 695: 1, 705: 1, 714: 1, 723: 1, 726: 1, 732: 1, 739: 1, 748: 1, 753: 1, 754: 1, 757: 1, 762: 1, 764: 1, 765: 1, 776: 1, 780: 1, 789: 1, 793: 1, 795: 1, 799: 1, 800: 1, 808: 1, 809: 1, 812: 1, 813: 1, 814: 1, 823: 1, 824: 1, 830: 1, 833: 1, 834: 1, 835: 1, 840: 1, 845: 1, 860: 1, 863: 1, 864: 1, 865: 1, 869: 1, 870: 1, 874: 1, 879: 1, 881: 1, 882: 1, 883: 1, 893: 1, 895: 1, 896: 1, 911: 1, 912: 1, 914: 1, 917: 1, 919: 1, 921: 1, 925: 1, 933: 1, 935: 1, 941: 1, 944: 1, 949: 1, 956: 1, 959: 1, 961: 1, 970: 1, 971: 1, 974: 1, 976: 1, 979: 1, 980: 1, 981: 1, 986: 1, 998: 1, 1006: 1, 1008: 1, 1012: 1, 1015: 1, 1016: 1, 1019: 1, 1023: 1, 1027: 1, 1034: 1, 1035: 1, 1038: 1, 1039: 1, 1040: 1, 1045: 1, 1052: 1, 1059: 1, 1074: 1, 1075: 1, 1076: 1})\n",
      "Counter({852: 14, 295: 12, 462: 10, 1330: 10, 244: 9, 285: 9, 620: 9, 764: 9, 774: 9, 15: 8, 18: 8, 204: 8, 877: 8, 949: 8, 1327: 8, 190: 7, 509: 7, 529: 7, 568: 7, 584: 7, 586: 7, 604: 7, 610: 7, 695: 7, 766: 7, 790: 7, 831: 7, 876: 7, 956: 7, 1325: 7, 250: 6, 292: 6, 331: 6, 459: 6, 478: 6, 479: 6, 481: 6, 496: 6, 528: 6, 532: 6, 541: 6, 564: 6, 589: 6, 608: 6, 614: 6, 765: 6, 767: 6, 847: 6, 859: 6, 922: 6, 950: 6, 1210: 6, 1265: 6, 1328: 6, 1331: 6, 7: 5, 40: 5, 91: 5, 120: 5, 129: 5, 131: 5, 195: 5, 230: 5, 249: 5, 328: 5, 334: 5, 335: 5, 441: 5, 457: 5, 463: 5, 464: 5, 466: 5, 471: 5, 482: 5, 504: 5, 518: 5, 530: 5, 534: 5, 538: 5, 549: 5, 554: 5, 556: 5, 574: 5, 578: 5, 587: 5, 590: 5, 609: 5, 613: 5, 624: 5, 758: 5, 773: 5, 830: 5, 832: 5, 838: 5, 839: 5, 851: 5, 853: 5, 854: 5, 856: 5, 903: 5, 964: 5, 1214: 5, 1322: 5, 1323: 5, 1366: 5, 2: 4, 8: 4, 12: 4, 17: 4, 49: 4, 51: 4, 121: 4, 138: 4, 142: 4, 155: 4, 228: 4, 283: 4, 290: 4, 293: 4, 317: 4, 325: 4, 330: 4, 357: 4, 361: 4, 421: 4, 430: 4, 447: 4, 448: 4, 460: 4, 476: 4, 495: 4, 497: 4, 503: 4, 505: 4, 524: 4, 531: 4, 544: 4, 546: 4, 548: 4, 557: 4, 559: 4, 563: 4, 566: 4, 571: 4, 576: 4, 585: 4, 588: 4, 607: 4, 611: 4, 622: 4, 638: 4, 667: 4, 714: 4, 768: 4, 770: 4, 771: 4, 775: 4, 777: 4, 780: 4, 783: 4, 784: 4, 789: 4, 791: 4, 819: 4, 833: 4, 910: 4, 916: 4, 918: 4, 954: 4, 963: 4, 1005: 4, 1012: 4, 1048: 4, 1114: 4, 1139: 4, 1147: 4, 1190: 4, 1199: 4, 1200: 4, 1291: 4, 1324: 4, 1: 3, 6: 3, 9: 3, 19: 3, 24: 3, 25: 3, 26: 3, 31: 3, 32: 3, 33: 3, 34: 3, 41: 3, 53: 3, 79: 3, 92: 3, 122: 3, 124: 3, 128: 3, 132: 3, 140: 3, 143: 3, 148: 3, 151: 3, 176: 3, 182: 3, 188: 3, 196: 3, 203: 3, 209: 3, 231: 3, 252: 3, 255: 3, 257: 3, 279: 3, 280: 3, 294: 3, 296: 3, 297: 3, 298: 3, 329: 3, 333: 3, 337: 3, 339: 3, 344: 3, 348: 3, 350: 3, 384: 3, 385: 3, 392: 3, 394: 3, 395: 3, 398: 3, 402: 3, 407: 3, 415: 3, 417: 3, 436: 3, 449: 3, 456: 3, 458: 3, 468: 3, 470: 3, 474: 3, 475: 3, 485: 3, 486: 3, 489: 3, 493: 3, 508: 3, 521: 3, 537: 3, 558: 3, 561: 3, 565: 3, 573: 3, 583: 3, 593: 3, 603: 3, 606: 3, 629: 3, 639: 3, 640: 3, 673: 3, 757: 3, 763: 3, 776: 3, 787: 3, 792: 3, 793: 3, 802: 3, 834: 3, 836: 3, 846: 3, 857: 3, 873: 3, 875: 3, 878: 3, 909: 3, 923: 3, 930: 3, 931: 3, 941: 3, 947: 3, 948: 3, 957: 3, 969: 3, 984: 3, 987: 3, 1101: 3, 1103: 3, 1113: 3, 1131: 3, 1155: 3, 1158: 3, 1188: 3, 1196: 3, 1198: 3, 1205: 3, 1209: 3, 1211: 3, 1212: 3, 1233: 3, 1249: 3, 1292: 3, 1317: 3, 1321: 3, 1329: 3, 1333: 3, 1339: 3, 10: 2, 22: 2, 23: 2, 28: 2, 29: 2, 30: 2, 35: 2, 37: 2, 38: 2, 45: 2, 47: 2, 48: 2, 50: 2, 61: 2, 62: 2, 68: 2, 70: 2, 90: 2, 93: 2, 98: 2, 102: 2, 112: 2, 115: 2, 119: 2, 125: 2, 126: 2, 130: 2, 133: 2, 134: 2, 136: 2, 147: 2, 156: 2, 175: 2, 183: 2, 192: 2, 214: 2, 216: 2, 223: 2, 240: 2, 243: 2, 245: 2, 246: 2, 247: 2, 253: 2, 261: 2, 263: 2, 267: 2, 269: 2, 275: 2, 276: 2, 281: 2, 287: 2, 291: 2, 306: 2, 310: 2, 311: 2, 312: 2, 313: 2, 326: 2, 338: 2, 340: 2, 341: 2, 343: 2, 346: 2, 347: 2, 353: 2, 354: 2, 359: 2, 373: 2, 387: 2, 389: 2, 390: 2, 396: 2, 401: 2, 423: 2, 426: 2, 429: 2, 433: 2, 434: 2, 439: 2, 440: 2, 442: 2, 446: 2, 461: 2, 467: 2, 488: 2, 492: 2, 498: 2, 499: 2, 500: 2, 507: 2, 520: 2, 522: 2, 525: 2, 526: 2, 527: 2, 539: 2, 542: 2, 550: 2, 552: 2, 555: 2, 560: 2, 562: 2, 569: 2, 570: 2, 581: 2, 591: 2, 592: 2, 595: 2, 596: 2, 597: 2, 605: 2, 612: 2, 615: 2, 616: 2, 619: 2, 626: 2, 627: 2, 641: 2, 642: 2, 644: 2, 652: 2, 662: 2, 663: 2, 668: 2, 674: 2, 675: 2, 676: 2, 678: 2, 689: 2, 690: 2, 712: 2, 713: 2, 753: 2, 756: 2, 769: 2, 778: 2, 786: 2, 788: 2, 794: 2, 795: 2, 799: 2, 805: 2, 810: 2, 811: 2, 816: 2, 835: 2, 837: 2, 844: 2, 849: 2, 850: 2, 855: 2, 858: 2, 865: 2, 867: 2, 868: 2, 880: 2, 888: 2, 890: 2, 902: 2, 905: 2, 911: 2, 915: 2, 921: 2, 929: 2, 939: 2, 943: 2, 955: 2, 962: 2, 966: 2, 967: 2, 981: 2, 982: 2, 1003: 2, 1009: 2, 1017: 2, 1066: 2, 1073: 2, 1074: 2, 1076: 2, 1077: 2, 1080: 2, 1084: 2, 1095: 2, 1104: 2, 1121: 2, 1122: 2, 1124: 2, 1130: 2, 1132: 2, 1150: 2, 1171: 2, 1174: 2, 1177: 2, 1179: 2, 1184: 2, 1185: 2, 1189: 2, 1193: 2, 1201: 2, 1207: 2, 1234: 2, 1245: 2, 1247: 2, 1257: 2, 1266: 2, 1271: 2, 1299: 2, 1304: 2, 1305: 2, 1315: 2, 1334: 2, 1335: 2, 1344: 2, 1349: 2, 1361: 2, 1364: 2, 0: 1, 3: 1, 4: 1, 5: 1, 11: 1, 13: 1, 14: 1, 16: 1, 20: 1, 36: 1, 39: 1, 42: 1, 43: 1, 54: 1, 57: 1, 58: 1, 59: 1, 60: 1, 64: 1, 65: 1, 66: 1, 71: 1, 72: 1, 76: 1, 78: 1, 80: 1, 81: 1, 83: 1, 94: 1, 96: 1, 100: 1, 103: 1, 106: 1, 107: 1, 116: 1, 117: 1, 123: 1, 135: 1, 139: 1, 146: 1, 150: 1, 153: 1, 167: 1, 174: 1, 180: 1, 181: 1, 184: 1, 185: 1, 186: 1, 191: 1, 193: 1, 200: 1, 202: 1, 205: 1, 206: 1, 208: 1, 211: 1, 212: 1, 213: 1, 217: 1, 224: 1, 225: 1, 227: 1, 229: 1, 232: 1, 233: 1, 234: 1, 248: 1, 251: 1, 254: 1, 256: 1, 258: 1, 259: 1, 260: 1, 262: 1, 266: 1, 270: 1, 274: 1, 278: 1, 282: 1, 300: 1, 308: 1, 309: 1, 315: 1, 321: 1, 324: 1, 327: 1, 336: 1, 342: 1, 352: 1, 355: 1, 356: 1, 362: 1, 374: 1, 386: 1, 391: 1, 393: 1, 397: 1, 411: 1, 413: 1, 414: 1, 418: 1, 419: 1, 420: 1, 422: 1, 428: 1, 431: 1, 432: 1, 435: 1, 437: 1, 443: 1, 445: 1, 454: 1, 465: 1, 469: 1, 472: 1, 477: 1, 480: 1, 484: 1, 487: 1, 490: 1, 494: 1, 501: 1, 502: 1, 513: 1, 517: 1, 523: 1, 533: 1, 535: 1, 536: 1, 540: 1, 543: 1, 547: 1, 553: 1, 567: 1, 572: 1, 575: 1, 577: 1, 579: 1, 580: 1, 582: 1, 594: 1, 601: 1, 602: 1, 617: 1, 618: 1, 621: 1, 623: 1, 628: 1, 630: 1, 631: 1, 632: 1, 633: 1, 634: 1, 635: 1, 643: 1, 648: 1, 650: 1, 651: 1, 655: 1, 660: 1, 664: 1, 666: 1, 670: 1, 672: 1, 677: 1, 679: 1, 693: 1, 698: 1, 709: 1, 715: 1, 716: 1, 717: 1, 718: 1, 751: 1, 752: 1, 754: 1, 755: 1, 762: 1, 772: 1, 781: 1, 782: 1, 785: 1, 800: 1, 803: 1, 809: 1, 814: 1, 817: 1, 829: 1, 841: 1, 842: 1, 843: 1, 861: 1, 862: 1, 866: 1, 870: 1, 874: 1, 879: 1, 881: 1, 882: 1, 883: 1, 884: 1, 886: 1, 887: 1, 891: 1, 893: 1, 904: 1, 908: 1, 912: 1, 914: 1, 919: 1, 928: 1, 932: 1, 933: 1, 935: 1, 940: 1, 946: 1, 953: 1, 959: 1, 960: 1, 980: 1, 985: 1, 996: 1, 1002: 1, 1004: 1, 1010: 1, 1013: 1, 1014: 1, 1022: 1, 1023: 1, 1026: 1, 1030: 1, 1036: 1, 1038: 1, 1039: 1, 1040: 1, 1042: 1, 1047: 1, 1052: 1, 1053: 1, 1054: 1, 1060: 1, 1063: 1, 1064: 1, 1065: 1, 1067: 1, 1072: 1, 1078: 1, 1079: 1, 1083: 1, 1085: 1, 1087: 1, 1091: 1, 1092: 1, 1096: 1, 1099: 1, 1107: 1, 1109: 1, 1112: 1, 1117: 1, 1118: 1, 1120: 1, 1126: 1, 1129: 1, 1134: 1, 1138: 1, 1140: 1, 1142: 1, 1146: 1, 1148: 1, 1149: 1, 1152: 1, 1153: 1, 1154: 1, 1156: 1, 1159: 1, 1168: 1, 1180: 1, 1181: 1, 1186: 1, 1187: 1, 1202: 1, 1203: 1, 1204: 1, 1206: 1, 1208: 1, 1213: 1, 1215: 1, 1216: 1, 1223: 1, 1224: 1, 1226: 1, 1229: 1, 1231: 1, 1232: 1, 1238: 1, 1241: 1, 1246: 1, 1254: 1, 1256: 1, 1261: 1, 1263: 1, 1267: 1, 1269: 1, 1270: 1, 1272: 1, 1273: 1, 1274: 1, 1277: 1, 1281: 1, 1282: 1, 1284: 1, 1286: 1, 1290: 1, 1293: 1, 1294: 1, 1295: 1, 1300: 1, 1303: 1, 1308: 1, 1313: 1, 1316: 1, 1326: 1, 1336: 1, 1337: 1, 1340: 1, 1341: 1, 1342: 1, 1343: 1, 1345: 1, 1346: 1, 1350: 1, 1352: 1, 1359: 1, 1362: 1, 1365: 1})\n",
      "Counter({552: 16, 80: 10, 987: 10, 275: 9, 485: 9, 1144: 9, 59: 8, 551: 8, 565: 8, 986: 8, 1014: 8, 1064: 8, 24: 7, 26: 7, 95: 7, 282: 7, 376: 7, 404: 7, 546: 7, 821: 7, 1023: 7, 1087: 7, 1: 6, 14: 6, 21: 6, 72: 6, 223: 6, 235: 6, 267: 6, 320: 6, 399: 6, 405: 6, 568: 6, 628: 6, 697: 6, 836: 6, 965: 6, 966: 6, 970: 6, 973: 6, 979: 6, 982: 6, 1015: 6, 1028: 6, 1040: 6, 1046: 6, 1100: 6, 1124: 6, 1132: 6, 1136: 6, 1139: 6, 1141: 6, 1142: 6, 1146: 6, 1151: 6, 1218: 6, 4: 5, 22: 5, 38: 5, 51: 5, 68: 5, 144: 5, 171: 5, 196: 5, 220: 5, 227: 5, 232: 5, 233: 5, 261: 5, 271: 5, 296: 5, 302: 5, 355: 5, 357: 5, 377: 5, 381: 5, 386: 5, 509: 5, 511: 5, 545: 5, 550: 5, 559: 5, 563: 5, 570: 5, 580: 5, 665: 5, 696: 5, 719: 5, 771: 5, 820: 5, 828: 5, 967: 5, 971: 5, 974: 5, 984: 5, 1026: 5, 1032: 5, 1034: 5, 1044: 5, 1086: 5, 1088: 5, 1095: 5, 1097: 5, 1117: 5, 1121: 5, 1123: 5, 1145: 5, 1219: 5, 8: 4, 15: 4, 16: 4, 19: 4, 23: 4, 25: 4, 34: 4, 40: 4, 42: 4, 44: 4, 47: 4, 60: 4, 62: 4, 63: 4, 67: 4, 97: 4, 100: 4, 120: 4, 139: 4, 142: 4, 146: 4, 148: 4, 157: 4, 169: 4, 231: 4, 234: 4, 237: 4, 250: 4, 260: 4, 262: 4, 279: 4, 298: 4, 356: 4, 364: 4, 374: 4, 378: 4, 380: 4, 392: 4, 395: 4, 398: 4, 406: 4, 477: 4, 486: 4, 498: 4, 499: 4, 504: 4, 510: 4, 512: 4, 530: 4, 533: 4, 538: 4, 549: 4, 564: 4, 566: 4, 594: 4, 629: 4, 673: 4, 677: 4, 684: 4, 694: 4, 699: 4, 700: 4, 701: 4, 745: 4, 781: 4, 827: 4, 833: 4, 910: 4, 914: 4, 915: 4, 918: 4, 921: 4, 924: 4, 942: 4, 958: 4, 960: 4, 972: 4, 977: 4, 985: 4, 989: 4, 990: 4, 992: 4, 1021: 4, 1025: 4, 1027: 4, 1045: 4, 1048: 4, 1062: 4, 1067: 4, 1079: 4, 1093: 4, 1096: 4, 1105: 4, 1106: 4, 1108: 4, 1110: 4, 1111: 4, 1120: 4, 1125: 4, 1126: 4, 1127: 4, 1140: 4, 1155: 4, 1157: 4, 1165: 4, 1169: 4, 1171: 4, 1186: 4, 5: 3, 33: 3, 43: 3, 61: 3, 75: 3, 76: 3, 85: 3, 93: 3, 155: 3, 156: 3, 163: 3, 165: 3, 167: 3, 168: 3, 173: 3, 178: 3, 181: 3, 186: 3, 188: 3, 199: 3, 224: 3, 228: 3, 246: 3, 264: 3, 269: 3, 280: 3, 287: 3, 300: 3, 303: 3, 305: 3, 306: 3, 308: 3, 310: 3, 318: 3, 322: 3, 362: 3, 382: 3, 384: 3, 385: 3, 393: 3, 394: 3, 403: 3, 412: 3, 434: 3, 437: 3, 460: 3, 463: 3, 480: 3, 505: 3, 515: 3, 544: 3, 548: 3, 553: 3, 554: 3, 556: 3, 583: 3, 593: 3, 601: 3, 606: 3, 609: 3, 611: 3, 626: 3, 635: 3, 648: 3, 649: 3, 650: 3, 656: 3, 669: 3, 670: 3, 674: 3, 679: 3, 691: 3, 718: 3, 729: 3, 735: 3, 740: 3, 754: 3, 762: 3, 770: 3, 772: 3, 780: 3, 782: 3, 786: 3, 796: 3, 819: 3, 824: 3, 829: 3, 841: 3, 862: 3, 869: 3, 888: 3, 889: 3, 906: 3, 916: 3, 922: 3, 926: 3, 940: 3, 951: 3, 962: 3, 964: 3, 968: 3, 975: 3, 978: 3, 981: 3, 994: 3, 996: 3, 997: 3, 998: 3, 1007: 3, 1008: 3, 1009: 3, 1017: 3, 1019: 3, 1022: 3, 1031: 3, 1033: 3, 1035: 3, 1038: 3, 1063: 3, 1069: 3, 1074: 3, 1076: 3, 1078: 3, 1081: 3, 1092: 3, 1104: 3, 1107: 3, 1115: 3, 1119: 3, 1122: 3, 1128: 3, 1148: 3, 1163: 3, 1172: 3, 1187: 3, 1195: 3, 7: 2, 13: 2, 17: 2, 18: 2, 28: 2, 36: 2, 37: 2, 39: 2, 41: 2, 46: 2, 48: 2, 49: 2, 50: 2, 54: 2, 56: 2, 64: 2, 66: 2, 73: 2, 77: 2, 81: 2, 90: 2, 138: 2, 141: 2, 143: 2, 147: 2, 164: 2, 176: 2, 179: 2, 180: 2, 184: 2, 185: 2, 189: 2, 193: 2, 195: 2, 203: 2, 210: 2, 214: 2, 218: 2, 221: 2, 222: 2, 229: 2, 230: 2, 238: 2, 243: 2, 244: 2, 249: 2, 273: 2, 274: 2, 276: 2, 278: 2, 281: 2, 283: 2, 286: 2, 299: 2, 304: 2, 309: 2, 316: 2, 317: 2, 331: 2, 354: 2, 358: 2, 361: 2, 369: 2, 372: 2, 379: 2, 383: 2, 387: 2, 391: 2, 397: 2, 417: 2, 436: 2, 443: 2, 444: 2, 455: 2, 456: 2, 458: 2, 465: 2, 466: 2, 487: 2, 493: 2, 501: 2, 503: 2, 514: 2, 534: 2, 535: 2, 537: 2, 541: 2, 547: 2, 555: 2, 569: 2, 571: 2, 572: 2, 575: 2, 584: 2, 588: 2, 589: 2, 590: 2, 595: 2, 596: 2, 597: 2, 600: 2, 602: 2, 613: 2, 620: 2, 627: 2, 632: 2, 642: 2, 645: 2, 664: 2, 666: 2, 667: 2, 671: 2, 682: 2, 683: 2, 690: 2, 695: 2, 698: 2, 702: 2, 704: 2, 713: 2, 720: 2, 721: 2, 722: 2, 726: 2, 730: 2, 742: 2, 743: 2, 758: 2, 778: 2, 779: 2, 811: 2, 818: 2, 822: 2, 823: 2, 825: 2, 837: 2, 840: 2, 849: 2, 852: 2, 855: 2, 860: 2, 863: 2, 907: 2, 911: 2, 913: 2, 920: 2, 928: 2, 936: 2, 941: 2, 945: 2, 957: 2, 988: 2, 1001: 2, 1003: 2, 1010: 2, 1012: 2, 1018: 2, 1030: 2, 1037: 2, 1041: 2, 1065: 2, 1070: 2, 1083: 2, 1089: 2, 1091: 2, 1094: 2, 1099: 2, 1101: 2, 1102: 2, 1103: 2, 1113: 2, 1118: 2, 1129: 2, 1133: 2, 1138: 2, 1143: 2, 1149: 2, 1150: 2, 1158: 2, 1160: 2, 1161: 2, 1166: 2, 1167: 2, 1168: 2, 1170: 2, 1179: 2, 1184: 2, 1185: 2, 1191: 2, 1196: 2, 1199: 2, 1203: 2, 1213: 2, 1214: 2, 0: 1, 9: 1, 20: 1, 27: 1, 29: 1, 31: 1, 32: 1, 35: 1, 45: 1, 52: 1, 53: 1, 55: 1, 57: 1, 58: 1, 65: 1, 70: 1, 74: 1, 79: 1, 82: 1, 83: 1, 91: 1, 94: 1, 96: 1, 112: 1, 113: 1, 116: 1, 117: 1, 125: 1, 129: 1, 134: 1, 140: 1, 149: 1, 151: 1, 161: 1, 170: 1, 172: 1, 187: 1, 192: 1, 194: 1, 197: 1, 200: 1, 201: 1, 202: 1, 204: 1, 212: 1, 213: 1, 215: 1, 236: 1, 239: 1, 240: 1, 241: 1, 242: 1, 245: 1, 247: 1, 248: 1, 254: 1, 255: 1, 256: 1, 257: 1, 258: 1, 259: 1, 263: 1, 265: 1, 268: 1, 270: 1, 272: 1, 289: 1, 293: 1, 297: 1, 313: 1, 321: 1, 336: 1, 337: 1, 350: 1, 359: 1, 360: 1, 365: 1, 366: 1, 371: 1, 388: 1, 390: 1, 400: 1, 408: 1, 411: 1, 414: 1, 416: 1, 418: 1, 425: 1, 427: 1, 432: 1, 433: 1, 435: 1, 441: 1, 442: 1, 445: 1, 446: 1, 447: 1, 449: 1, 454: 1, 457: 1, 459: 1, 461: 1, 470: 1, 478: 1, 482: 1, 483: 1, 508: 1, 516: 1, 527: 1, 528: 1, 529: 1, 540: 1, 542: 1, 543: 1, 557: 1, 560: 1, 562: 1, 567: 1, 574: 1, 576: 1, 578: 1, 581: 1, 587: 1, 591: 1, 592: 1, 599: 1, 603: 1, 604: 1, 605: 1, 618: 1, 623: 1, 624: 1, 630: 1, 636: 1, 638: 1, 639: 1, 641: 1, 643: 1, 659: 1, 660: 1, 661: 1, 663: 1, 668: 1, 675: 1, 678: 1, 680: 1, 689: 1, 692: 1, 707: 1, 712: 1, 714: 1, 716: 1, 717: 1, 725: 1, 727: 1, 734: 1, 736: 1, 738: 1, 739: 1, 746: 1, 748: 1, 750: 1, 751: 1, 755: 1, 756: 1, 757: 1, 759: 1, 760: 1, 765: 1, 768: 1, 776: 1, 777: 1, 783: 1, 787: 1, 795: 1, 803: 1, 826: 1, 832: 1, 854: 1, 864: 1, 868: 1, 872: 1, 877: 1, 878: 1, 879: 1, 883: 1, 897: 1, 898: 1, 901: 1, 904: 1, 912: 1, 917: 1, 919: 1, 923: 1, 925: 1, 929: 1, 930: 1, 933: 1, 934: 1, 935: 1, 939: 1, 943: 1, 944: 1, 946: 1, 947: 1, 948: 1, 949: 1, 950: 1, 952: 1, 953: 1, 955: 1, 959: 1, 969: 1, 976: 1, 980: 1, 993: 1, 995: 1, 1011: 1, 1013: 1, 1016: 1, 1020: 1, 1029: 1, 1036: 1, 1042: 1, 1043: 1, 1060: 1, 1071: 1, 1073: 1, 1077: 1, 1080: 1, 1084: 1, 1085: 1, 1098: 1, 1109: 1, 1116: 1, 1130: 1, 1137: 1, 1147: 1, 1152: 1, 1154: 1, 1162: 1, 1174: 1, 1175: 1, 1178: 1, 1182: 1, 1189: 1, 1197: 1, 1198: 1, 1206: 1, 1210: 1, 1211: 1, 1216: 1, 1217: 1})\n",
      "Counter({79: 14, 359: 13, 989: 11, 992: 11, 1079: 11, 44: 10, 1001: 10, 1140: 10, 362: 9, 990: 9, 28: 8, 29: 8, 494: 8, 731: 8, 994: 8, 1010: 8, 1020: 8, 1143: 8, 1152: 8, 72: 7, 73: 7, 249: 7, 360: 7, 492: 7, 499: 7, 520: 7, 531: 7, 575: 7, 993: 7, 1042: 7, 1048: 7, 1062: 7, 1080: 7, 42: 6, 70: 6, 118: 6, 273: 6, 356: 6, 358: 6, 463: 6, 467: 6, 482: 6, 551: 6, 554: 6, 971: 6, 1008: 6, 1021: 6, 1081: 6, 1153: 6, 1218: 6, 1221: 6, 3: 5, 27: 5, 43: 5, 57: 5, 63: 5, 76: 5, 84: 5, 117: 5, 121: 5, 174: 5, 241: 5, 257: 5, 337: 5, 355: 5, 461: 5, 462: 5, 493: 5, 543: 5, 552: 5, 576: 5, 663: 5, 945: 5, 946: 5, 949: 5, 974: 5, 980: 5, 1024: 5, 1039: 5, 1040: 5, 1136: 5, 1138: 5, 1160: 5, 1173: 5, 1187: 5, 1188: 5, 1268: 5, 20: 4, 26: 4, 49: 4, 50: 4, 61: 4, 78: 4, 138: 4, 177: 4, 185: 4, 192: 4, 193: 4, 232: 4, 245: 4, 248: 4, 267: 4, 280: 4, 320: 4, 323: 4, 332: 4, 350: 4, 354: 4, 361: 4, 388: 4, 414: 4, 416: 4, 435: 4, 464: 4, 471: 4, 481: 4, 489: 4, 495: 4, 508: 4, 509: 4, 527: 4, 555: 4, 574: 4, 577: 4, 583: 4, 595: 4, 649: 4, 667: 4, 719: 4, 722: 4, 728: 4, 756: 4, 950: 4, 979: 4, 985: 4, 998: 4, 1009: 4, 1058: 4, 1059: 4, 1061: 4, 1133: 4, 1148: 4, 1177: 4, 1178: 4, 1183: 4, 1185: 4, 1191: 4, 1213: 4, 1217: 4, 1237: 4, 1269: 4, 1: 3, 30: 3, 45: 3, 58: 3, 60: 3, 66: 3, 69: 3, 74: 3, 80: 3, 82: 3, 86: 3, 93: 3, 101: 3, 103: 3, 110: 3, 114: 3, 122: 3, 140: 3, 178: 3, 181: 3, 213: 3, 235: 3, 242: 3, 250: 3, 251: 3, 252: 3, 254: 3, 256: 3, 258: 3, 260: 3, 274: 3, 278: 3, 290: 3, 291: 3, 328: 3, 349: 3, 392: 3, 402: 3, 421: 3, 436: 3, 437: 3, 453: 3, 465: 3, 476: 3, 483: 3, 485: 3, 487: 3, 497: 3, 511: 3, 513: 3, 516: 3, 526: 3, 537: 3, 544: 3, 546: 3, 553: 3, 614: 3, 645: 3, 650: 3, 660: 3, 678: 3, 753: 3, 869: 3, 877: 3, 890: 3, 921: 3, 952: 3, 976: 3, 981: 3, 991: 3, 996: 3, 1000: 3, 1003: 3, 1004: 3, 1006: 3, 1007: 3, 1011: 3, 1013: 3, 1016: 3, 1037: 3, 1046: 3, 1047: 3, 1050: 3, 1066: 3, 1074: 3, 1090: 3, 1096: 3, 1109: 3, 1120: 3, 1134: 3, 1145: 3, 1147: 3, 1149: 3, 1156: 3, 1164: 3, 1171: 3, 1179: 3, 1199: 3, 1200: 3, 1219: 3, 1220: 3, 1230: 3, 1246: 3, 1251: 3, 2: 2, 4: 2, 5: 2, 6: 2, 33: 2, 34: 2, 40: 2, 47: 2, 51: 2, 55: 2, 59: 2, 64: 2, 67: 2, 68: 2, 71: 2, 77: 2, 81: 2, 83: 2, 85: 2, 87: 2, 91: 2, 98: 2, 102: 2, 106: 2, 108: 2, 109: 2, 113: 2, 116: 2, 119: 2, 128: 2, 130: 2, 147: 2, 152: 2, 159: 2, 179: 2, 184: 2, 186: 2, 188: 2, 226: 2, 227: 2, 246: 2, 277: 2, 281: 2, 289: 2, 304: 2, 321: 2, 324: 2, 325: 2, 339: 2, 340: 2, 345: 2, 346: 2, 347: 2, 353: 2, 357: 2, 368: 2, 376: 2, 389: 2, 394: 2, 404: 2, 407: 2, 408: 2, 412: 2, 415: 2, 419: 2, 423: 2, 441: 2, 454: 2, 466: 2, 468: 2, 472: 2, 474: 2, 486: 2, 500: 2, 501: 2, 502: 2, 503: 2, 506: 2, 512: 2, 514: 2, 523: 2, 530: 2, 545: 2, 547: 2, 548: 2, 550: 2, 559: 2, 560: 2, 568: 2, 570: 2, 573: 2, 578: 2, 597: 2, 640: 2, 644: 2, 652: 2, 654: 2, 656: 2, 658: 2, 659: 2, 661: 2, 669: 2, 674: 2, 675: 2, 677: 2, 679: 2, 694: 2, 700: 2, 703: 2, 718: 2, 732: 2, 733: 2, 741: 2, 758: 2, 797: 2, 808: 2, 819: 2, 831: 2, 865: 2, 867: 2, 878: 2, 891: 2, 944: 2, 947: 2, 951: 2, 953: 2, 970: 2, 984: 2, 986: 2, 997: 2, 1005: 2, 1012: 2, 1017: 2, 1018: 2, 1019: 2, 1022: 2, 1023: 2, 1025: 2, 1026: 2, 1032: 2, 1034: 2, 1051: 2, 1063: 2, 1067: 2, 1068: 2, 1073: 2, 1077: 2, 1084: 2, 1085: 2, 1088: 2, 1089: 2, 1093: 2, 1108: 2, 1118: 2, 1119: 2, 1135: 2, 1141: 2, 1142: 2, 1154: 2, 1155: 2, 1165: 2, 1169: 2, 1172: 2, 1176: 2, 1184: 2, 1186: 2, 1190: 2, 1194: 2, 1195: 2, 1214: 2, 1215: 2, 1216: 2, 1231: 2, 1232: 2, 1235: 2, 1236: 2, 1241: 2, 1248: 2, 7: 1, 8: 1, 14: 1, 17: 1, 31: 1, 32: 1, 36: 1, 37: 1, 38: 1, 41: 1, 46: 1, 48: 1, 52: 1, 53: 1, 56: 1, 88: 1, 89: 1, 92: 1, 94: 1, 96: 1, 97: 1, 104: 1, 112: 1, 115: 1, 123: 1, 124: 1, 129: 1, 135: 1, 139: 1, 141: 1, 145: 1, 146: 1, 148: 1, 153: 1, 156: 1, 157: 1, 162: 1, 163: 1, 165: 1, 168: 1, 171: 1, 172: 1, 175: 1, 176: 1, 182: 1, 183: 1, 187: 1, 189: 1, 191: 1, 194: 1, 207: 1, 212: 1, 217: 1, 218: 1, 219: 1, 228: 1, 233: 1, 236: 1, 247: 1, 253: 1, 255: 1, 262: 1, 264: 1, 265: 1, 268: 1, 272: 1, 279: 1, 292: 1, 293: 1, 296: 1, 297: 1, 298: 1, 300: 1, 309: 1, 313: 1, 322: 1, 327: 1, 329: 1, 330: 1, 331: 1, 333: 1, 348: 1, 351: 1, 352: 1, 363: 1, 366: 1, 369: 1, 374: 1, 375: 1, 378: 1, 384: 1, 385: 1, 386: 1, 390: 1, 393: 1, 395: 1, 398: 1, 406: 1, 409: 1, 413: 1, 418: 1, 420: 1, 425: 1, 432: 1, 434: 1, 446: 1, 457: 1, 458: 1, 473: 1, 475: 1, 477: 1, 480: 1, 484: 1, 488: 1, 490: 1, 491: 1, 496: 1, 505: 1, 510: 1, 515: 1, 517: 1, 519: 1, 522: 1, 524: 1, 525: 1, 528: 1, 542: 1, 557: 1, 558: 1, 567: 1, 569: 1, 572: 1, 584: 1, 596: 1, 599: 1, 616: 1, 619: 1, 639: 1, 642: 1, 643: 1, 648: 1, 657: 1, 664: 1, 666: 1, 668: 1, 673: 1, 676: 1, 681: 1, 693: 1, 696: 1, 697: 1, 699: 1, 704: 1, 706: 1, 707: 1, 720: 1, 721: 1, 726: 1, 735: 1, 738: 1, 739: 1, 748: 1, 757: 1, 759: 1, 770: 1, 773: 1, 779: 1, 781: 1, 783: 1, 784: 1, 787: 1, 791: 1, 793: 1, 800: 1, 814: 1, 816: 1, 820: 1, 825: 1, 830: 1, 832: 1, 833: 1, 836: 1, 845: 1, 850: 1, 851: 1, 868: 1, 871: 1, 873: 1, 875: 1, 876: 1, 882: 1, 893: 1, 895: 1, 904: 1, 905: 1, 906: 1, 907: 1, 918: 1, 919: 1, 922: 1, 929: 1, 932: 1, 934: 1, 940: 1, 941: 1, 943: 1, 948: 1, 960: 1, 961: 1, 963: 1, 965: 1, 966: 1, 967: 1, 968: 1, 973: 1, 975: 1, 983: 1, 987: 1, 995: 1, 999: 1, 1014: 1, 1015: 1, 1027: 1, 1029: 1, 1030: 1, 1031: 1, 1033: 1, 1035: 1, 1036: 1, 1041: 1, 1043: 1, 1044: 1, 1049: 1, 1055: 1, 1057: 1, 1064: 1, 1065: 1, 1069: 1, 1071: 1, 1072: 1, 1075: 1, 1076: 1, 1078: 1, 1087: 1, 1098: 1, 1099: 1, 1100: 1, 1110: 1, 1116: 1, 1117: 1, 1121: 1, 1122: 1, 1128: 1, 1129: 1, 1132: 1, 1139: 1, 1144: 1, 1146: 1, 1157: 1, 1158: 1, 1161: 1, 1163: 1, 1166: 1, 1168: 1, 1174: 1, 1180: 1, 1181: 1, 1182: 1, 1193: 1, 1196: 1, 1198: 1, 1201: 1, 1202: 1, 1203: 1, 1204: 1, 1205: 1, 1206: 1, 1211: 1, 1222: 1, 1223: 1, 1226: 1, 1227: 1, 1233: 1, 1242: 1, 1245: 1, 1247: 1, 1249: 1, 1267: 1})\n",
      "Counter({470: 12, 478: 12, 651: 11, 81: 10, 428: 10, 481: 10, 26: 9, 84: 9, 141: 9, 453: 9, 949: 9, 1190: 9, 24: 8, 75: 8, 80: 8, 117: 8, 429: 8, 445: 8, 456: 8, 461: 8, 479: 8, 482: 8, 636: 8, 15: 7, 25: 7, 30: 7, 31: 7, 48: 7, 72: 7, 93: 7, 116: 7, 127: 7, 455: 7, 483: 7, 485: 7, 489: 7, 495: 7, 844: 7, 965: 7, 1193: 7, 57: 6, 82: 6, 130: 6, 135: 6, 153: 6, 215: 6, 216: 6, 220: 6, 382: 6, 430: 6, 486: 6, 514: 6, 521: 6, 559: 6, 582: 6, 596: 6, 643: 6, 665: 6, 721: 6, 729: 6, 731: 6, 737: 6, 943: 6, 950: 6, 1177: 6, 1191: 6, 33: 5, 38: 5, 41: 5, 73: 5, 83: 5, 85: 5, 87: 5, 97: 5, 128: 5, 129: 5, 162: 5, 170: 5, 217: 5, 393: 5, 397: 5, 401: 5, 431: 5, 441: 5, 443: 5, 446: 5, 447: 5, 451: 5, 452: 5, 457: 5, 469: 5, 473: 5, 477: 5, 484: 5, 491: 5, 492: 5, 512: 5, 515: 5, 519: 5, 538: 5, 562: 5, 578: 5, 581: 5, 624: 5, 641: 5, 701: 5, 716: 5, 719: 5, 728: 5, 819: 5, 1092: 5, 1167: 5, 1185: 5, 36: 4, 39: 4, 66: 4, 69: 4, 71: 4, 86: 4, 88: 4, 91: 4, 104: 4, 109: 4, 112: 4, 136: 4, 142: 4, 151: 4, 155: 4, 169: 4, 214: 4, 325: 4, 412: 4, 423: 4, 427: 4, 432: 4, 433: 4, 437: 4, 440: 4, 444: 4, 450: 4, 454: 4, 460: 4, 464: 4, 471: 4, 476: 4, 511: 4, 516: 4, 517: 4, 525: 4, 526: 4, 528: 4, 540: 4, 547: 4, 553: 4, 558: 4, 571: 4, 572: 4, 576: 4, 580: 4, 583: 4, 588: 4, 603: 4, 627: 4, 654: 4, 670: 4, 695: 4, 710: 4, 718: 4, 730: 4, 735: 4, 787: 4, 793: 4, 794: 4, 795: 4, 857: 4, 902: 4, 919: 4, 933: 4, 939: 4, 941: 4, 946: 4, 953: 4, 956: 4, 962: 4, 963: 4, 1079: 4, 1093: 4, 1119: 4, 1175: 4, 0: 3, 13: 3, 20: 3, 22: 3, 27: 3, 28: 3, 42: 3, 45: 3, 46: 3, 49: 3, 58: 3, 59: 3, 62: 3, 67: 3, 76: 3, 77: 3, 96: 3, 100: 3, 118: 3, 139: 3, 147: 3, 152: 3, 158: 3, 221: 3, 302: 3, 390: 3, 395: 3, 398: 3, 410: 3, 416: 3, 436: 3, 439: 3, 442: 3, 458: 3, 459: 3, 462: 3, 466: 3, 472: 3, 474: 3, 499: 3, 504: 3, 513: 3, 522: 3, 524: 3, 527: 3, 529: 3, 534: 3, 552: 3, 557: 3, 560: 3, 566: 3, 567: 3, 568: 3, 577: 3, 594: 3, 595: 3, 600: 3, 601: 3, 609: 3, 618: 3, 626: 3, 629: 3, 634: 3, 640: 3, 644: 3, 648: 3, 649: 3, 650: 3, 652: 3, 702: 3, 707: 3, 712: 3, 714: 3, 717: 3, 720: 3, 722: 3, 724: 3, 727: 3, 738: 3, 827: 3, 853: 3, 887: 3, 901: 3, 905: 3, 920: 3, 922: 3, 925: 3, 935: 3, 940: 3, 948: 3, 951: 3, 952: 3, 954: 3, 958: 3, 959: 3, 964: 3, 973: 3, 975: 3, 976: 3, 1041: 3, 1045: 3, 1065: 3, 1069: 3, 1087: 3, 1088: 3, 1101: 3, 1146: 3, 1148: 3, 1161: 3, 1165: 3, 1168: 3, 1176: 3, 1179: 3, 1183: 3, 1192: 3, 1194: 3, 6: 2, 11: 2, 18: 2, 19: 2, 23: 2, 32: 2, 34: 2, 40: 2, 51: 2, 53: 2, 54: 2, 56: 2, 61: 2, 74: 2, 78: 2, 89: 2, 101: 2, 107: 2, 108: 2, 113: 2, 115: 2, 125: 2, 134: 2, 143: 2, 148: 2, 154: 2, 165: 2, 166: 2, 167: 2, 168: 2, 171: 2, 174: 2, 179: 2, 207: 2, 218: 2, 219: 2, 222: 2, 293: 2, 299: 2, 301: 2, 307: 2, 315: 2, 321: 2, 323: 2, 324: 2, 328: 2, 363: 2, 375: 2, 380: 2, 381: 2, 383: 2, 388: 2, 392: 2, 394: 2, 399: 2, 407: 2, 408: 2, 409: 2, 413: 2, 414: 2, 415: 2, 417: 2, 418: 2, 419: 2, 424: 2, 448: 2, 449: 2, 463: 2, 475: 2, 488: 2, 498: 2, 500: 2, 501: 2, 502: 2, 520: 2, 537: 2, 541: 2, 543: 2, 544: 2, 551: 2, 556: 2, 563: 2, 570: 2, 574: 2, 589: 2, 593: 2, 606: 2, 607: 2, 611: 2, 613: 2, 621: 2, 622: 2, 632: 2, 633: 2, 637: 2, 639: 2, 645: 2, 658: 2, 662: 2, 669: 2, 674: 2, 700: 2, 703: 2, 706: 2, 711: 2, 713: 2, 715: 2, 732: 2, 734: 2, 755: 2, 761: 2, 770: 2, 791: 2, 806: 2, 816: 2, 817: 2, 818: 2, 831: 2, 846: 2, 855: 2, 856: 2, 858: 2, 859: 2, 863: 2, 869: 2, 885: 2, 888: 2, 907: 2, 909: 2, 911: 2, 916: 2, 918: 2, 923: 2, 924: 2, 932: 2, 938: 2, 942: 2, 944: 2, 947: 2, 957: 2, 966: 2, 967: 2, 970: 2, 972: 2, 1011: 2, 1012: 2, 1022: 2, 1037: 2, 1064: 2, 1068: 2, 1078: 2, 1081: 2, 1085: 2, 1086: 2, 1091: 2, 1095: 2, 1117: 2, 1150: 2, 1151: 2, 1152: 2, 1155: 2, 1172: 2, 1178: 2, 1184: 2, 1187: 2, 1188: 2, 1: 1, 5: 1, 12: 1, 16: 1, 29: 1, 35: 1, 37: 1, 47: 1, 50: 1, 55: 1, 60: 1, 63: 1, 64: 1, 65: 1, 68: 1, 70: 1, 90: 1, 92: 1, 95: 1, 98: 1, 99: 1, 102: 1, 106: 1, 110: 1, 114: 1, 120: 1, 122: 1, 124: 1, 126: 1, 140: 1, 144: 1, 150: 1, 156: 1, 161: 1, 163: 1, 164: 1, 172: 1, 173: 1, 177: 1, 181: 1, 184: 1, 188: 1, 189: 1, 213: 1, 223: 1, 224: 1, 229: 1, 280: 1, 288: 1, 300: 1, 305: 1, 306: 1, 309: 1, 310: 1, 318: 1, 327: 1, 331: 1, 339: 1, 342: 1, 353: 1, 358: 1, 359: 1, 372: 1, 373: 1, 378: 1, 379: 1, 387: 1, 391: 1, 396: 1, 405: 1, 420: 1, 421: 1, 425: 1, 426: 1, 468: 1, 480: 1, 487: 1, 490: 1, 493: 1, 494: 1, 496: 1, 497: 1, 503: 1, 505: 1, 506: 1, 518: 1, 523: 1, 530: 1, 531: 1, 532: 1, 533: 1, 539: 1, 546: 1, 548: 1, 550: 1, 554: 1, 555: 1, 561: 1, 564: 1, 569: 1, 579: 1, 586: 1, 587: 1, 592: 1, 597: 1, 598: 1, 602: 1, 604: 1, 614: 1, 616: 1, 617: 1, 625: 1, 630: 1, 635: 1, 638: 1, 646: 1, 647: 1, 653: 1, 656: 1, 659: 1, 661: 1, 672: 1, 677: 1, 682: 1, 691: 1, 692: 1, 697: 1, 698: 1, 699: 1, 704: 1, 708: 1, 709: 1, 726: 1, 733: 1, 736: 1, 745: 1, 754: 1, 757: 1, 759: 1, 768: 1, 771: 1, 772: 1, 773: 1, 779: 1, 780: 1, 785: 1, 786: 1, 810: 1, 812: 1, 820: 1, 822: 1, 823: 1, 829: 1, 830: 1, 832: 1, 833: 1, 843: 1, 848: 1, 849: 1, 850: 1, 851: 1, 854: 1, 862: 1, 864: 1, 866: 1, 874: 1, 886: 1, 889: 1, 891: 1, 892: 1, 894: 1, 898: 1, 903: 1, 910: 1, 912: 1, 914: 1, 915: 1, 921: 1, 926: 1, 928: 1, 931: 1, 945: 1, 955: 1, 960: 1, 961: 1, 968: 1, 969: 1, 971: 1, 977: 1, 978: 1, 983: 1, 984: 1, 1005: 1, 1013: 1, 1017: 1, 1021: 1, 1025: 1, 1026: 1, 1027: 1, 1028: 1, 1033: 1, 1035: 1, 1038: 1, 1039: 1, 1043: 1, 1044: 1, 1047: 1, 1049: 1, 1050: 1, 1052: 1, 1060: 1, 1061: 1, 1062: 1, 1063: 1, 1066: 1, 1067: 1, 1070: 1, 1077: 1, 1082: 1, 1083: 1, 1084: 1, 1089: 1, 1097: 1, 1100: 1, 1102: 1, 1106: 1, 1107: 1, 1112: 1, 1116: 1, 1120: 1, 1127: 1, 1130: 1, 1134: 1, 1141: 1, 1147: 1, 1149: 1, 1154: 1, 1159: 1, 1162: 1, 1164: 1, 1166: 1, 1169: 1, 1171: 1, 1173: 1, 1181: 1, 1182: 1, 1186: 1, 1189: 1})\n",
      "Counter({120: 14, 145: 14, 50: 12, 129: 12, 142: 11, 160: 11, 124: 10, 143: 10, 166: 9, 8: 8, 43: 8, 99: 8, 101: 8, 102: 8, 110: 8, 111: 8, 140: 8, 158: 8, 67: 7, 100: 7, 103: 7, 119: 7, 125: 7, 144: 7, 147: 7, 164: 7, 29: 6, 36: 6, 80: 6, 115: 6, 121: 6, 123: 6, 130: 6, 136: 6, 137: 6, 152: 6, 155: 6, 161: 6, 165: 6, 35: 5, 39: 5, 52: 5, 66: 5, 71: 5, 83: 5, 93: 5, 108: 5, 117: 5, 126: 5, 127: 5, 131: 5, 139: 5, 156: 5, 159: 5, 168: 5, 193: 5, 9: 4, 33: 4, 45: 4, 47: 4, 51: 4, 53: 4, 55: 4, 69: 4, 70: 4, 95: 4, 118: 4, 128: 4, 141: 4, 148: 4, 457: 4, 12: 3, 20: 3, 21: 3, 22: 3, 23: 3, 31: 3, 32: 3, 34: 3, 37: 3, 40: 3, 46: 3, 48: 3, 49: 3, 56: 3, 58: 3, 68: 3, 74: 3, 78: 3, 85: 3, 91: 3, 94: 3, 96: 3, 98: 3, 132: 3, 146: 3, 149: 3, 153: 3, 162: 3, 167: 3, 195: 3, 196: 3, 198: 3, 298: 3, 304: 3, 309: 3, 333: 3, 460: 3, 2: 2, 27: 2, 30: 2, 38: 2, 42: 2, 54: 2, 59: 2, 75: 2, 77: 2, 89: 2, 109: 2, 112: 2, 113: 2, 122: 2, 135: 2, 138: 2, 150: 2, 151: 2, 154: 2, 169: 2, 216: 2, 217: 2, 223: 2, 311: 2, 314: 2, 337: 2, 353: 2, 355: 2, 459: 2, 1: 1, 3: 1, 6: 1, 13: 1, 14: 1, 41: 1, 44: 1, 63: 1, 65: 1, 72: 1, 73: 1, 76: 1, 79: 1, 81: 1, 82: 1, 86: 1, 90: 1, 104: 1, 106: 1, 107: 1, 114: 1, 116: 1, 133: 1, 178: 1, 183: 1, 188: 1, 189: 1, 192: 1, 194: 1, 197: 1, 200: 1, 224: 1, 225: 1, 235: 1, 253: 1, 254: 1, 285: 1, 287: 1, 288: 1, 289: 1, 302: 1, 303: 1, 308: 1, 310: 1, 317: 1, 332: 1, 365: 1, 371: 1, 373: 1, 375: 1, 384: 1, 389: 1, 390: 1, 392: 1, 393: 1, 398: 1, 408: 1, 456: 1, 458: 1})\n",
      "Counter({680: 22, 681: 20, 676: 19, 675: 17, 678: 16, 988: 16, 716: 15, 865: 15, 841: 14, 888: 14, 920: 14, 566: 13, 677: 13, 750: 13, 886: 13, 2081: 13, 2754: 13, 2904: 13, 691: 12, 1257: 12, 2173: 12, 81: 11, 543: 11, 544: 11, 686: 11, 1008: 11, 1028: 11, 1039: 11, 2720: 11, 2729: 11, 2752: 11, 65: 10, 674: 10, 688: 10, 708: 10, 735: 10, 743: 10, 857: 10, 916: 10, 2129: 10, 2372: 10, 2383: 10, 2755: 10, 2766: 10, 2872: 10, 193: 9, 571: 9, 619: 9, 640: 9, 706: 9, 712: 9, 728: 9, 742: 9, 773: 9, 775: 9, 779: 9, 830: 9, 860: 9, 864: 9, 900: 9, 1078: 9, 1163: 9, 1352: 9, 1626: 9, 2049: 9, 2090: 9, 2123: 9, 2178: 9, 2365: 9, 2743: 9, 2880: 9, 2881: 9, 75: 8, 82: 8, 90: 8, 250: 8, 554: 8, 666: 8, 673: 8, 717: 8, 727: 8, 732: 8, 747: 8, 818: 8, 823: 8, 836: 8, 837: 8, 855: 8, 861: 8, 887: 8, 912: 8, 1033: 8, 1118: 8, 1208: 8, 1328: 8, 1401: 8, 1739: 8, 1784: 8, 1874: 8, 2092: 8, 2122: 8, 2174: 8, 2181: 8, 2182: 8, 2184: 8, 2306: 8, 2610: 8, 2734: 8, 61: 7, 63: 7, 80: 7, 89: 7, 91: 7, 198: 7, 206: 7, 236: 7, 238: 7, 249: 7, 568: 7, 592: 7, 597: 7, 663: 7, 664: 7, 671: 7, 703: 7, 704: 7, 711: 7, 719: 7, 721: 7, 730: 7, 734: 7, 785: 7, 839: 7, 863: 7, 882: 7, 889: 7, 893: 7, 902: 7, 917: 7, 921: 7, 1034: 7, 1169: 7, 1195: 7, 1202: 7, 1256: 7, 1258: 7, 1259: 7, 1329: 7, 1403: 7, 1425: 7, 1619: 7, 1726: 7, 1727: 7, 1736: 7, 1749: 7, 1750: 7, 1782: 7, 1895: 7, 1955: 7, 2121: 7, 2124: 7, 2317: 7, 2361: 7, 2371: 7, 2381: 7, 2391: 7, 2613: 7, 2703: 7, 2704: 7, 2709: 7, 2711: 7, 2717: 7, 2731: 7, 2735: 7, 2756: 7, 2770: 7, 2772: 7, 2841: 7, 2852: 7, 2871: 7, 2905: 7, 46: 6, 52: 6, 67: 6, 77: 6, 83: 6, 200: 6, 204: 6, 230: 6, 235: 6, 261: 6, 268: 6, 527: 6, 547: 6, 620: 6, 629: 6, 679: 6, 690: 6, 699: 6, 702: 6, 705: 6, 710: 6, 714: 6, 745: 6, 764: 6, 780: 6, 783: 6, 800: 6, 804: 6, 806: 6, 814: 6, 821: 6, 832: 6, 835: 6, 843: 6, 845: 6, 854: 6, 858: 6, 862: 6, 913: 6, 914: 6, 1036: 6, 1100: 6, 1120: 6, 1153: 6, 1154: 6, 1159: 6, 1161: 6, 1181: 6, 1185: 6, 1191: 6, 1193: 6, 1194: 6, 1212: 6, 1241: 6, 1361: 6, 1365: 6, 1378: 6, 1405: 6, 1479: 6, 1659: 6, 1675: 6, 1683: 6, 1718: 6, 1729: 6, 1734: 6, 1857: 6, 1861: 6, 1872: 6, 1894: 6, 1952: 6, 2025: 6, 2030: 6, 2077: 6, 2089: 6, 2091: 6, 2128: 6, 2131: 6, 2140: 6, 2170: 6, 2260: 6, 2318: 6, 2360: 6, 2370: 6, 2374: 6, 2378: 6, 2380: 6, 2390: 6, 2425: 6, 2477: 6, 2539: 6, 2635: 6, 2669: 6, 2675: 6, 2702: 6, 2727: 6, 2757: 6, 2773: 6, 2849: 6, 2903: 6, 5: 5, 10: 5, 51: 5, 58: 5, 60: 5, 64: 5, 70: 5, 78: 5, 86: 5, 196: 5, 197: 5, 237: 5, 262: 5, 488: 5, 518: 5, 532: 5, 551: 5, 552: 5, 564: 5, 567: 5, 569: 5, 570: 5, 573: 5, 578: 5, 579: 5, 591: 5, 596: 5, 661: 5, 682: 5, 684: 5, 685: 5, 692: 5, 694: 5, 700: 5, 729: 5, 731: 5, 733: 5, 738: 5, 746: 5, 767: 5, 774: 5, 777: 5, 778: 5, 788: 5, 793: 5, 796: 5, 797: 5, 809: 5, 810: 5, 829: 5, 831: 5, 840: 5, 842: 5, 844: 5, 846: 5, 853: 5, 867: 5, 869: 5, 877: 5, 922: 5, 928: 5, 931: 5, 951: 5, 973: 5, 981: 5, 990: 5, 996: 5, 1001: 5, 1007: 5, 1026: 5, 1030: 5, 1042: 5, 1045: 5, 1056: 5, 1059: 5, 1079: 5, 1082: 5, 1104: 5, 1119: 5, 1121: 5, 1128: 5, 1151: 5, 1165: 5, 1166: 5, 1183: 5, 1187: 5, 1192: 5, 1246: 5, 1268: 5, 1269: 5, 1330: 5, 1339: 5, 1344: 5, 1354: 5, 1355: 5, 1364: 5, 1404: 5, 1408: 5, 1412: 5, 1445: 5, 1449: 5, 1450: 5, 1491: 5, 1505: 5, 1560: 5, 1583: 5, 1591: 5, 1623: 5, 1629: 5, 1686: 5, 1714: 5, 1745: 5, 1757: 5, 1772: 5, 1796: 5, 1802: 5, 1805: 5, 1806: 5, 1833: 5, 1835: 5, 1840: 5, 1850: 5, 1858: 5, 1862: 5, 1866: 5, 1868: 5, 1880: 5, 1885: 5, 1889: 5, 1905: 5, 1910: 5, 1968: 5, 1970: 5, 2018: 5, 2028: 5, 2029: 5, 2047: 5, 2068: 5, 2085: 5, 2086: 5, 2093: 5, 2117: 5, 2120: 5, 2125: 5, 2172: 5, 2183: 5, 2222: 5, 2324: 5, 2352: 5, 2359: 5, 2363: 5, 2367: 5, 2368: 5, 2369: 5, 2375: 5, 2376: 5, 2382: 5, 2499: 5, 2505: 5, 2536: 5, 2586: 5, 2587: 5, 2588: 5, 2590: 5, 2597: 5, 2598: 5, 2606: 5, 2614: 5, 2638: 5, 2664: 5, 2671: 5, 2692: 5, 2708: 5, 2715: 5, 2730: 5, 2740: 5, 2751: 5, 2753: 5, 2760: 5, 2765: 5, 2792: 5, 2793: 5, 2812: 5, 2813: 5, 2814: 5, 2818: 5, 2840: 5, 2889: 5, 21: 4, 43: 4, 54: 4, 55: 4, 66: 4, 74: 4, 76: 4, 79: 4, 87: 4, 98: 4, 99: 4, 104: 4, 148: 4, 199: 4, 202: 4, 217: 4, 240: 4, 267: 4, 483: 4, 487: 4, 514: 4, 542: 4, 545: 4, 553: 4, 558: 4, 572: 4, 575: 4, 576: 4, 577: 4, 594: 4, 611: 4, 612: 4, 627: 4, 628: 4, 630: 4, 632: 4, 636: 4, 653: 4, 658: 4, 668: 4, 670: 4, 683: 4, 687: 4, 693: 4, 701: 4, 707: 4, 709: 4, 722: 4, 724: 4, 726: 4, 737: 4, 755: 4, 761: 4, 762: 4, 765: 4, 768: 4, 772: 4, 784: 4, 825: 4, 827: 4, 849: 4, 850: 4, 852: 4, 866: 4, 872: 4, 884: 4, 885: 4, 890: 4, 894: 4, 897: 4, 899: 4, 906: 4, 909: 4, 915: 4, 919: 4, 924: 4, 926: 4, 927: 4, 929: 4, 937: 4, 948: 4, 949: 4, 950: 4, 959: 4, 971: 4, 974: 4, 975: 4, 980: 4, 987: 4, 992: 4, 997: 4, 1010: 4, 1012: 4, 1024: 4, 1032: 4, 1050: 4, 1052: 4, 1053: 4, 1073: 4, 1083: 4, 1084: 4, 1087: 4, 1099: 4, 1117: 4, 1126: 4, 1127: 4, 1140: 4, 1146: 4, 1150: 4, 1170: 4, 1171: 4, 1172: 4, 1175: 4, 1176: 4, 1180: 4, 1182: 4, 1200: 4, 1203: 4, 1204: 4, 1211: 4, 1213: 4, 1237: 4, 1239: 4, 1242: 4, 1266: 4, 1305: 4, 1327: 4, 1341: 4, 1343: 4, 1345: 4, 1356: 4, 1363: 4, 1366: 4, 1367: 4, 1369: 4, 1396: 4, 1399: 4, 1407: 4, 1452: 4, 1453: 4, 1464: 4, 1476: 4, 1482: 4, 1483: 4, 1513: 4, 1516: 4, 1544: 4, 1547: 4, 1549: 4, 1556: 4, 1563: 4, 1570: 4, 1613: 4, 1618: 4, 1634: 4, 1649: 4, 1652: 4, 1655: 4, 1656: 4, 1661: 4, 1662: 4, 1684: 4, 1685: 4, 1692: 4, 1705: 4, 1706: 4, 1707: 4, 1716: 4, 1719: 4, 1720: 4, 1730: 4, 1735: 4, 1746: 4, 1751: 4, 1756: 4, 1764: 4, 1769: 4, 1791: 4, 1795: 4, 1818: 4, 1823: 4, 1824: 4, 1825: 4, 1832: 4, 1837: 4, 1839: 4, 1851: 4, 1860: 4, 1864: 4, 1865: 4, 1870: 4, 1871: 4, 1877: 4, 1887: 4, 1899: 4, 1900: 4, 1903: 4, 1904: 4, 1906: 4, 1908: 4, 1919: 4, 1924: 4, 1926: 4, 1941: 4, 1957: 4, 1958: 4, 1972: 4, 1988: 4, 2010: 4, 2015: 4, 2016: 4, 2034: 4, 2044: 4, 2048: 4, 2059: 4, 2062: 4, 2067: 4, 2071: 4, 2078: 4, 2079: 4, 2083: 4, 2116: 4, 2144: 4, 2155: 4, 2160: 4, 2171: 4, 2176: 4, 2224: 4, 2237: 4, 2255: 4, 2289: 4, 2293: 4, 2303: 4, 2304: 4, 2311: 4, 2312: 4, 2314: 4, 2320: 4, 2349: 4, 2364: 4, 2366: 4, 2394: 4, 2413: 4, 2428: 4, 2433: 4, 2485: 4, 2498: 4, 2504: 4, 2511: 4, 2535: 4, 2573: 4, 2589: 4, 2605: 4, 2618: 4, 2621: 4, 2623: 4, 2628: 4, 2631: 4, 2636: 4, 2637: 4, 2650: 4, 2668: 4, 2684: 4, 2694: 4, 2695: 4, 2698: 4, 2705: 4, 2710: 4, 2721: 4, 2728: 4, 2736: 4, 2737: 4, 2738: 4, 2741: 4, 2746: 4, 2749: 4, 2759: 4, 2767: 4, 2768: 4, 2769: 4, 2779: 4, 2783: 4, 2794: 4, 2815: 4, 2819: 4, 2842: 4, 2863: 4, 2873: 4, 2894: 4, 2902: 4, 17: 3, 19: 3, 40: 3, 45: 3, 50: 3, 57: 3, 59: 3, 62: 3, 85: 3, 88: 3, 94: 3, 188: 3, 194: 3, 201: 3, 207: 3, 222: 3, 224: 3, 227: 3, 228: 3, 229: 3, 234: 3, 251: 3, 273: 3, 324: 3, 357: 3, 358: 3, 481: 3, 501: 3, 511: 3, 519: 3, 520: 3, 529: 3, 538: 3, 546: 3, 555: 3, 556: 3, 559: 3, 561: 3, 582: 3, 598: 3, 603: 3, 610: 3, 622: 3, 623: 3, 644: 3, 649: 3, 652: 3, 654: 3, 655: 3, 659: 3, 660: 3, 665: 3, 672: 3, 695: 3, 698: 3, 715: 3, 718: 3, 720: 3, 740: 3, 741: 3, 744: 3, 749: 3, 751: 3, 753: 3, 754: 3, 758: 3, 760: 3, 763: 3, 781: 3, 792: 3, 795: 3, 799: 3, 811: 3, 813: 3, 817: 3, 819: 3, 822: 3, 826: 3, 834: 3, 838: 3, 868: 3, 870: 3, 871: 3, 874: 3, 892: 3, 896: 3, 901: 3, 907: 3, 910: 3, 932: 3, 933: 3, 936: 3, 938: 3, 961: 3, 970: 3, 976: 3, 977: 3, 1004: 3, 1005: 3, 1006: 3, 1020: 3, 1023: 3, 1027: 3, 1029: 3, 1031: 3, 1038: 3, 1043: 3, 1047: 3, 1054: 3, 1060: 3, 1075: 3, 1076: 3, 1085: 3, 1096: 3, 1111: 3, 1116: 3, 1129: 3, 1132: 3, 1138: 3, 1144: 3, 1147: 3, 1148: 3, 1156: 3, 1162: 3, 1164: 3, 1174: 3, 1178: 3, 1186: 3, 1207: 3, 1209: 3, 1214: 3, 1217: 3, 1218: 3, 1233: 3, 1234: 3, 1235: 3, 1236: 3, 1238: 3, 1240: 3, 1244: 3, 1247: 3, 1271: 3, 1296: 3, 1298: 3, 1310: 3, 1332: 3, 1337: 3, 1346: 3, 1347: 3, 1348: 3, 1370: 3, 1374: 3, 1377: 3, 1379: 3, 1385: 3, 1397: 3, 1398: 3, 1400: 3, 1402: 3, 1413: 3, 1424: 3, 1440: 3, 1444: 3, 1454: 3, 1456: 3, 1457: 3, 1472: 3, 1474: 3, 1484: 3, 1485: 3, 1486: 3, 1490: 3, 1493: 3, 1495: 3, 1502: 3, 1504: 3, 1514: 3, 1525: 3, 1527: 3, 1529: 3, 1534: 3, 1536: 3, 1537: 3, 1540: 3, 1545: 3, 1550: 3, 1553: 3, 1561: 3, 1566: 3, 1569: 3, 1579: 3, 1582: 3, 1584: 3, 1588: 3, 1589: 3, 1592: 3, 1617: 3, 1624: 3, 1651: 3, 1657: 3, 1660: 3, 1664: 3, 1666: 3, 1670: 3, 1674: 3, 1677: 3, 1678: 3, 1701: 3, 1703: 3, 1704: 3, 1711: 3, 1741: 3, 1742: 3, 1743: 3, 1744: 3, 1747: 3, 1748: 3, 1752: 3, 1755: 3, 1759: 3, 1760: 3, 1770: 3, 1773: 3, 1775: 3, 1777: 3, 1778: 3, 1779: 3, 1793: 3, 1798: 3, 1810: 3, 1817: 3, 1820: 3, 1828: 3, 1829: 3, 1830: 3, 1838: 3, 1841: 3, 1853: 3, 1859: 3, 1863: 3, 1875: 3, 1876: 3, 1879: 3, 1890: 3, 1909: 3, 1917: 3, 1918: 3, 1921: 3, 1925: 3, 1927: 3, 1930: 3, 1936: 3, 1939: 3, 1946: 3, 1962: 3, 1963: 3, 1964: 3, 1966: 3, 1967: 3, 1969: 3, 1973: 3, 1974: 3, 1976: 3, 1979: 3, 1980: 3, 1993: 3, 1994: 3, 2000: 3, 2009: 3, 2011: 3, 2020: 3, 2024: 3, 2050: 3, 2053: 3, 2055: 3, 2060: 3, 2061: 3, 2063: 3, 2073: 3, 2096: 3, 2097: 3, 2101: 3, 2112: 3, 2113: 3, 2118: 3, 2126: 3, 2127: 3, 2130: 3, 2133: 3, 2156: 3, 2177: 3, 2199: 3, 2204: 3, 2207: 3, 2212: 3, 2223: 3, 2228: 3, 2229: 3, 2233: 3, 2234: 3, 2236: 3, 2249: 3, 2256: 3, 2288: 3, 2307: 3, 2313: 3, 2321: 3, 2332: 3, 2333: 3, 2335: 3, 2343: 3, 2347: 3, 2350: 3, 2351: 3, 2353: 3, 2373: 3, 2384: 3, 2387: 3, 2388: 3, 2389: 3, 2397: 3, 2415: 3, 2418: 3, 2420: 3, 2423: 3, 2424: 3, 2426: 3, 2434: 3, 2486: 3, 2489: 3, 2490: 3, 2497: 3, 2500: 3, 2501: 3, 2503: 3, 2507: 3, 2508: 3, 2513: 3, 2523: 3, 2534: 3, 2544: 3, 2545: 3, 2581: 3, 2592: 3, 2594: 3, 2599: 3, 2607: 3, 2609: 3, 2620: 3, 2639: 3, 2651: 3, 2667: 3, 2670: 3, 2688: 3, 2690: 3, 2691: 3, 2693: 3, 2696: 3, 2712: 3, 2713: 3, 2714: 3, 2718: 3, 2722: 3, 2739: 3, 2742: 3, 2748: 3, 2758: 3, 2762: 3, 2764: 3, 2771: 3, 2774: 3, 2775: 3, 2776: 3, 2777: 3, 2778: 3, 2780: 3, 2781: 3, 2784: 3, 2786: 3, 2854: 3, 2860: 3, 2884: 3, 2895: 3, 2: 2, 3: 2, 4: 2, 11: 2, 12: 2, 13: 2, 14: 2, 16: 2, 18: 2, 20: 2, 29: 2, 39: 2, 42: 2, 44: 2, 47: 2, 48: 2, 53: 2, 69: 2, 71: 2, 72: 2, 73: 2, 84: 2, 93: 2, 95: 2, 97: 2, 100: 2, 103: 2, 147: 2, 153: 2, 187: 2, 191: 2, 205: 2, 210: 2, 213: 2, 218: 2, 231: 2, 232: 2, 233: 2, 239: 2, 241: 2, 242: 2, 252: 2, 257: 2, 260: 2, 263: 2, 265: 2, 274: 2, 276: 2, 298: 2, 325: 2, 345: 2, 346: 2, 347: 2, 351: 2, 353: 2, 423: 2, 433: 2, 477: 2, 480: 2, 484: 2, 494: 2, 513: 2, 516: 2, 521: 2, 523: 2, 526: 2, 530: 2, 540: 2, 549: 2, 560: 2, 565: 2, 574: 2, 580: 2, 583: 2, 587: 2, 588: 2, 589: 2, 600: 2, 602: 2, 604: 2, 605: 2, 606: 2, 613: 2, 617: 2, 618: 2, 621: 2, 626: 2, 639: 2, 651: 2, 656: 2, 657: 2, 667: 2, 669: 2, 689: 2, 713: 2, 723: 2, 725: 2, 752: 2, 759: 2, 770: 2, 771: 2, 776: 2, 782: 2, 787: 2, 789: 2, 794: 2, 801: 2, 805: 2, 812: 2, 815: 2, 816: 2, 820: 2, 824: 2, 851: 2, 878: 2, 879: 2, 880: 2, 883: 2, 891: 2, 895: 2, 911: 2, 918: 2, 925: 2, 930: 2, 934: 2, 939: 2, 940: 2, 942: 2, 947: 2, 953: 2, 960: 2, 967: 2, 984: 2, 998: 2, 999: 2, 1000: 2, 1002: 2, 1003: 2, 1022: 2, 1025: 2, 1035: 2, 1037: 2, 1040: 2, 1044: 2, 1055: 2, 1057: 2, 1061: 2, 1063: 2, 1064: 2, 1071: 2, 1077: 2, 1081: 2, 1091: 2, 1093: 2, 1094: 2, 1095: 2, 1103: 2, 1115: 2, 1123: 2, 1125: 2, 1131: 2, 1134: 2, 1135: 2, 1136: 2, 1137: 2, 1143: 2, 1152: 2, 1155: 2, 1160: 2, 1173: 2, 1177: 2, 1184: 2, 1198: 2, 1199: 2, 1205: 2, 1206: 2, 1210: 2, 1220: 2, 1221: 2, 1227: 2, 1232: 2, 1248: 2, 1251: 2, 1267: 2, 1272: 2, 1273: 2, 1275: 2, 1278: 2, 1280: 2, 1281: 2, 1290: 2, 1294: 2, 1304: 2, 1306: 2, 1315: 2, 1318: 2, 1321: 2, 1325: 2, 1326: 2, 1331: 2, 1338: 2, 1340: 2, 1349: 2, 1359: 2, 1362: 2, 1368: 2, 1371: 2, 1375: 2, 1388: 2, 1389: 2, 1423: 2, 1429: 2, 1434: 2, 1436: 2, 1443: 2, 1447: 2, 1459: 2, 1462: 2, 1463: 2, 1467: 2, 1469: 2, 1480: 2, 1487: 2, 1488: 2, 1496: 2, 1497: 2, 1498: 2, 1506: 2, 1508: 2, 1511: 2, 1523: 2, 1526: 2, 1533: 2, 1538: 2, 1539: 2, 1543: 2, 1548: 2, 1551: 2, 1552: 2, 1555: 2, 1557: 2, 1559: 2, 1565: 2, 1571: 2, 1574: 2, 1580: 2, 1581: 2, 1590: 2, 1601: 2, 1604: 2, 1608: 2, 1627: 2, 1628: 2, 1635: 2, 1638: 2, 1639: 2, 1646: 2, 1650: 2, 1653: 2, 1667: 2, 1668: 2, 1669: 2, 1673: 2, 1679: 2, 1680: 2, 1681: 2, 1682: 2, 1689: 2, 1690: 2, 1691: 2, 1699: 2, 1710: 2, 1712: 2, 1737: 2, 1762: 2, 1771: 2, 1774: 2, 1776: 2, 1781: 2, 1785: 2, 1790: 2, 1794: 2, 1797: 2, 1799: 2, 1801: 2, 1808: 2, 1809: 2, 1811: 2, 1813: 2, 1816: 2, 1819: 2, 1822: 2, 1826: 2, 1827: 2, 1845: 2, 1847: 2, 1855: 2, 1867: 2, 1869: 2, 1881: 2, 1886: 2, 1892: 2, 1896: 2, 1898: 2, 1901: 2, 1907: 2, 1911: 2, 1912: 2, 1913: 2, 1915: 2, 1916: 2, 1922: 2, 1923: 2, 1933: 2, 1935: 2, 1938: 2, 1942: 2, 1948: 2, 1949: 2, 1956: 2, 1959: 2, 1960: 2, 1961: 2, 1971: 2, 1978: 2, 1981: 2, 1984: 2, 1987: 2, 1989: 2, 1996: 2, 1997: 2, 2014: 2, 2022: 2, 2026: 2, 2033: 2, 2038: 2, 2042: 2, 2046: 2, 2051: 2, 2054: 2, 2058: 2, 2066: 2, 2072: 2, 2074: 2, 2080: 2, 2082: 2, 2100: 2, 2104: 2, 2107: 2, 2108: 2, 2132: 2, 2134: 2, 2139: 2, 2142: 2, 2146: 2, 2148: 2, 2150: 2, 2161: 2, 2163: 2, 2164: 2, 2167: 2, 2175: 2, 2180: 2, 2186: 2, 2191: 2, 2192: 2, 2197: 2, 2201: 2, 2205: 2, 2213: 2, 2215: 2, 2241: 2, 2242: 2, 2244: 2, 2259: 2, 2267: 2, 2286: 2, 2287: 2, 2291: 2, 2292: 2, 2298: 2, 2309: 2, 2310: 2, 2315: 2, 2316: 2, 2319: 2, 2322: 2, 2323: 2, 2328: 2, 2331: 2, 2337: 2, 2340: 2, 2341: 2, 2344: 2, 2348: 2, 2356: 2, 2362: 2, 2377: 2, 2392: 2, 2393: 2, 2395: 2, 2399: 2, 2414: 2, 2421: 2, 2432: 2, 2435: 2, 2466: 2, 2473: 2, 2484: 2, 2506: 2, 2509: 2, 2510: 2, 2516: 2, 2522: 2, 2538: 2, 2540: 2, 2546: 2, 2551: 2, 2552: 2, 2566: 2, 2574: 2, 2575: 2, 2582: 2, 2583: 2, 2584: 2, 2585: 2, 2591: 2, 2600: 2, 2601: 2, 2603: 2, 2611: 2, 2616: 2, 2619: 2, 2627: 2, 2629: 2, 2632: 2, 2633: 2, 2634: 2, 2642: 2, 2644: 2, 2647: 2, 2659: 2, 2661: 2, 2665: 2, 2673: 2, 2674: 2, 2676: 2, 2683: 2, 2685: 2, 2701: 2, 2719: 2, 2723: 2, 2724: 2, 2725: 2, 2732: 2, 2745: 2, 2747: 2, 2761: 2, 2763: 2, 2800: 2, 2811: 2, 2816: 2, 2831: 2, 2839: 2, 2845: 2, 2847: 2, 2848: 2, 2858: 2, 2862: 2, 2865: 2, 2874: 2, 2882: 2, 2883: 2, 2890: 2, 2893: 2, 2896: 2, 2898: 2, 2899: 2, 32: 1, 33: 1, 34: 1, 37: 1, 38: 1, 49: 1, 56: 1, 68: 1, 96: 1, 101: 1, 114: 1, 132: 1, 133: 1, 136: 1, 137: 1, 144: 1, 149: 1, 152: 1, 155: 1, 158: 1, 160: 1, 173: 1, 175: 1, 182: 1, 189: 1, 192: 1, 195: 1, 203: 1, 209: 1, 212: 1, 214: 1, 216: 1, 219: 1, 221: 1, 223: 1, 225: 1, 245: 1, 247: 1, 253: 1, 255: 1, 256: 1, 258: 1, 266: 1, 269: 1, 270: 1, 271: 1, 272: 1, 280: 1, 281: 1, 282: 1, 319: 1, 327: 1, 331: 1, 348: 1, 355: 1, 356: 1, 359: 1, 360: 1, 369: 1, 383: 1, 384: 1, 392: 1, 399: 1, 405: 1, 407: 1, 409: 1, 410: 1, 425: 1, 436: 1, 441: 1, 463: 1, 467: 1, 472: 1, 473: 1, 486: 1, 493: 1, 504: 1, 512: 1, 517: 1, 522: 1, 524: 1, 537: 1, 539: 1, 541: 1, 548: 1, 550: 1, 557: 1, 562: 1, 563: 1, 581: 1, 584: 1, 585: 1, 586: 1, 595: 1, 599: 1, 608: 1, 609: 1, 614: 1, 624: 1, 625: 1, 631: 1, 634: 1, 635: 1, 638: 1, 643: 1, 645: 1, 647: 1, 650: 1, 662: 1, 697: 1, 736: 1, 739: 1, 756: 1, 769: 1, 786: 1, 802: 1, 803: 1, 807: 1, 808: 1, 828: 1, 833: 1, 847: 1, 859: 1, 876: 1, 898: 1, 903: 1, 904: 1, 905: 1, 908: 1, 923: 1, 941: 1, 943: 1, 955: 1, 956: 1, 962: 1, 964: 1, 966: 1, 978: 1, 979: 1, 982: 1, 986: 1, 993: 1, 994: 1, 995: 1, 1009: 1, 1011: 1, 1015: 1, 1019: 1, 1021: 1, 1041: 1, 1046: 1, 1048: 1, 1062: 1, 1069: 1, 1070: 1, 1089: 1, 1092: 1, 1109: 1, 1110: 1, 1112: 1, 1122: 1, 1130: 1, 1139: 1, 1142: 1, 1145: 1, 1149: 1, 1157: 1, 1158: 1, 1168: 1, 1190: 1, 1196: 1, 1197: 1, 1201: 1, 1216: 1, 1219: 1, 1223: 1, 1226: 1, 1228: 1, 1229: 1, 1230: 1, 1231: 1, 1249: 1, 1254: 1, 1260: 1, 1261: 1, 1262: 1, 1264: 1, 1265: 1, 1276: 1, 1277: 1, 1284: 1, 1285: 1, 1287: 1, 1288: 1, 1289: 1, 1293: 1, 1295: 1, 1299: 1, 1300: 1, 1302: 1, 1303: 1, 1307: 1, 1309: 1, 1311: 1, 1312: 1, 1313: 1, 1314: 1, 1316: 1, 1317: 1, 1333: 1, 1335: 1, 1336: 1, 1350: 1, 1351: 1, 1353: 1, 1357: 1, 1358: 1, 1372: 1, 1373: 1, 1376: 1, 1381: 1, 1387: 1, 1390: 1, 1391: 1, 1393: 1, 1394: 1, 1406: 1, 1409: 1, 1410: 1, 1411: 1, 1416: 1, 1421: 1, 1422: 1, 1426: 1, 1431: 1, 1433: 1, 1435: 1, 1437: 1, 1438: 1, 1442: 1, 1451: 1, 1455: 1, 1458: 1, 1460: 1, 1461: 1, 1466: 1, 1471: 1, 1473: 1, 1475: 1, 1477: 1, 1478: 1, 1481: 1, 1489: 1, 1492: 1, 1501: 1, 1503: 1, 1507: 1, 1510: 1, 1515: 1, 1521: 1, 1522: 1, 1524: 1, 1530: 1, 1532: 1, 1535: 1, 1541: 1, 1546: 1, 1558: 1, 1567: 1, 1573: 1, 1577: 1, 1585: 1, 1586: 1, 1587: 1, 1593: 1, 1597: 1, 1598: 1, 1599: 1, 1600: 1, 1605: 1, 1606: 1, 1607: 1, 1609: 1, 1610: 1, 1611: 1, 1612: 1, 1615: 1, 1621: 1, 1622: 1, 1625: 1, 1631: 1, 1632: 1, 1636: 1, 1640: 1, 1641: 1, 1642: 1, 1643: 1, 1644: 1, 1645: 1, 1647: 1, 1648: 1, 1654: 1, 1665: 1, 1672: 1, 1676: 1, 1688: 1, 1693: 1, 1696: 1, 1698: 1, 1700: 1, 1702: 1, 1713: 1, 1715: 1, 1717: 1, 1722: 1, 1724: 1, 1728: 1, 1731: 1, 1733: 1, 1753: 1, 1754: 1, 1761: 1, 1765: 1, 1766: 1, 1767: 1, 1783: 1, 1786: 1, 1787: 1, 1788: 1, 1789: 1, 1800: 1, 1803: 1, 1804: 1, 1821: 1, 1834: 1, 1842: 1, 1849: 1, 1852: 1, 1856: 1, 1878: 1, 1884: 1, 1891: 1, 1893: 1, 1897: 1, 1902: 1, 1914: 1, 1920: 1, 1928: 1, 1929: 1, 1937: 1, 1943: 1, 1944: 1, 1945: 1, 1947: 1, 1950: 1, 1951: 1, 1953: 1, 1954: 1, 1965: 1, 1975: 1, 1977: 1, 1982: 1, 1985: 1, 1986: 1, 1992: 1, 1995: 1, 1998: 1, 1999: 1, 2001: 1, 2004: 1, 2006: 1, 2007: 1, 2008: 1, 2012: 1, 2013: 1, 2017: 1, 2023: 1, 2027: 1, 2031: 1, 2032: 1, 2036: 1, 2037: 1, 2039: 1, 2041: 1, 2043: 1, 2045: 1, 2056: 1, 2084: 1, 2087: 1, 2094: 1, 2098: 1, 2099: 1, 2102: 1, 2103: 1, 2105: 1, 2110: 1, 2114: 1, 2119: 1, 2135: 1, 2136: 1, 2137: 1, 2141: 1, 2143: 1, 2147: 1, 2151: 1, 2152: 1, 2154: 1, 2158: 1, 2162: 1, 2179: 1, 2185: 1, 2187: 1, 2196: 1, 2200: 1, 2202: 1, 2203: 1, 2208: 1, 2210: 1, 2211: 1, 2214: 1, 2225: 1, 2226: 1, 2230: 1, 2231: 1, 2235: 1, 2240: 1, 2247: 1, 2251: 1, 2252: 1, 2253: 1, 2254: 1, 2261: 1, 2262: 1, 2265: 1, 2273: 1, 2275: 1, 2276: 1, 2285: 1, 2290: 1, 2294: 1, 2297: 1, 2301: 1, 2302: 1, 2325: 1, 2326: 1, 2327: 1, 2329: 1, 2336: 1, 2339: 1, 2342: 1, 2346: 1, 2379: 1, 2385: 1, 2386: 1, 2396: 1, 2398: 1, 2400: 1, 2403: 1, 2404: 1, 2405: 1, 2407: 1, 2408: 1, 2409: 1, 2411: 1, 2416: 1, 2422: 1, 2429: 1, 2436: 1, 2438: 1, 2445: 1, 2446: 1, 2451: 1, 2456: 1, 2457: 1, 2458: 1, 2465: 1, 2469: 1, 2475: 1, 2476: 1, 2478: 1, 2479: 1, 2480: 1, 2481: 1, 2487: 1, 2491: 1, 2492: 1, 2502: 1, 2512: 1, 2514: 1, 2515: 1, 2517: 1, 2519: 1, 2525: 1, 2526: 1, 2530: 1, 2532: 1, 2533: 1, 2548: 1, 2549: 1, 2572: 1, 2577: 1, 2578: 1, 2580: 1, 2593: 1, 2596: 1, 2608: 1, 2615: 1, 2624: 1, 2626: 1, 2640: 1, 2641: 1, 2646: 1, 2653: 1, 2654: 1, 2657: 1, 2660: 1, 2663: 1, 2666: 1, 2672: 1, 2677: 1, 2678: 1, 2681: 1, 2682: 1, 2697: 1, 2699: 1, 2700: 1, 2706: 1, 2716: 1, 2733: 1, 2785: 1, 2787: 1, 2790: 1, 2791: 1, 2797: 1, 2798: 1, 2801: 1, 2803: 1, 2804: 1, 2810: 1, 2820: 1, 2821: 1, 2824: 1, 2825: 1, 2833: 1, 2843: 1, 2851: 1, 2853: 1, 2861: 1, 2864: 1, 2875: 1, 2877: 1, 2878: 1, 2885: 1, 2886: 1, 2897: 1, 2900: 1, 2901: 1})\n",
      "Counter({557: 25, 91: 15, 568: 12, 558: 11, 31: 10, 432: 10, 610: 10, 40: 9, 567: 9, 569: 9, 575: 9, 600: 9, 39: 8, 42: 8, 45: 8, 51: 8, 60: 8, 63: 8, 64: 8, 136: 8, 155: 8, 456: 8, 563: 8, 605: 8, 32: 7, 44: 7, 50: 7, 84: 7, 86: 7, 92: 7, 137: 7, 455: 7, 464: 7, 492: 7, 549: 7, 573: 7, 15: 6, 33: 6, 41: 6, 46: 6, 58: 6, 62: 6, 74: 6, 78: 6, 272: 6, 428: 6, 462: 6, 560: 6, 589: 6, 592: 6, 594: 6, 606: 6, 36: 5, 37: 5, 47: 5, 72: 5, 75: 5, 85: 5, 94: 5, 135: 5, 175: 5, 274: 5, 425: 5, 430: 5, 431: 5, 454: 5, 472: 5, 551: 5, 552: 5, 576: 5, 582: 5, 590: 5, 595: 5, 598: 5, 599: 5, 603: 5, 604: 5, 611: 5, 638: 5, 23: 4, 25: 4, 34: 4, 43: 4, 48: 4, 52: 4, 53: 4, 59: 4, 70: 4, 76: 4, 88: 4, 89: 4, 116: 4, 125: 4, 146: 4, 176: 4, 273: 4, 350: 4, 433: 4, 444: 4, 463: 4, 473: 4, 482: 4, 484: 4, 519: 4, 534: 4, 550: 4, 555: 4, 559: 4, 565: 4, 570: 4, 579: 4, 584: 4, 591: 4, 602: 4, 671: 4, 1: 3, 22: 3, 24: 3, 35: 3, 49: 3, 65: 3, 66: 3, 71: 3, 77: 3, 81: 3, 87: 3, 93: 3, 95: 3, 97: 3, 98: 3, 103: 3, 127: 3, 131: 3, 147: 3, 148: 3, 151: 3, 162: 3, 171: 3, 179: 3, 205: 3, 271: 3, 278: 3, 284: 3, 289: 3, 424: 3, 435: 3, 437: 3, 441: 3, 448: 3, 452: 3, 461: 3, 465: 3, 468: 3, 470: 3, 491: 3, 516: 3, 525: 3, 556: 3, 561: 3, 562: 3, 566: 3, 574: 3, 587: 3, 588: 3, 593: 3, 596: 3, 609: 3, 637: 3, 639: 3, 657: 3, 658: 3, 694: 3, 9: 2, 11: 2, 14: 2, 21: 2, 38: 2, 54: 2, 90: 2, 96: 2, 99: 2, 101: 2, 104: 2, 123: 2, 139: 2, 142: 2, 144: 2, 153: 2, 160: 2, 161: 2, 164: 2, 166: 2, 177: 2, 178: 2, 192: 2, 222: 2, 228: 2, 232: 2, 266: 2, 268: 2, 269: 2, 285: 2, 301: 2, 351: 2, 365: 2, 366: 2, 369: 2, 391: 2, 413: 2, 416: 2, 418: 2, 419: 2, 421: 2, 426: 2, 434: 2, 436: 2, 460: 2, 466: 2, 479: 2, 480: 2, 481: 2, 483: 2, 485: 2, 493: 2, 494: 2, 498: 2, 502: 2, 503: 2, 507: 2, 532: 2, 533: 2, 538: 2, 543: 2, 544: 2, 548: 2, 553: 2, 554: 2, 564: 2, 571: 2, 572: 2, 581: 2, 583: 2, 585: 2, 586: 2, 597: 2, 607: 2, 608: 2, 612: 2, 614: 2, 615: 2, 616: 2, 618: 2, 622: 2, 623: 2, 624: 2, 628: 2, 640: 2, 645: 2, 660: 2, 669: 2, 2: 1, 6: 1, 10: 1, 12: 1, 16: 1, 17: 1, 18: 1, 26: 1, 27: 1, 28: 1, 30: 1, 56: 1, 61: 1, 67: 1, 73: 1, 80: 1, 83: 1, 100: 1, 105: 1, 106: 1, 107: 1, 108: 1, 111: 1, 124: 1, 126: 1, 129: 1, 130: 1, 132: 1, 138: 1, 143: 1, 145: 1, 154: 1, 156: 1, 159: 1, 163: 1, 167: 1, 173: 1, 181: 1, 183: 1, 184: 1, 198: 1, 206: 1, 209: 1, 220: 1, 223: 1, 224: 1, 225: 1, 227: 1, 233: 1, 240: 1, 260: 1, 261: 1, 263: 1, 264: 1, 275: 1, 277: 1, 279: 1, 286: 1, 288: 1, 294: 1, 295: 1, 296: 1, 298: 1, 299: 1, 300: 1, 304: 1, 308: 1, 312: 1, 334: 1, 343: 1, 363: 1, 393: 1, 407: 1, 410: 1, 414: 1, 420: 1, 423: 1, 429: 1, 439: 1, 442: 1, 443: 1, 445: 1, 449: 1, 450: 1, 453: 1, 467: 1, 469: 1, 474: 1, 497: 1, 505: 1, 509: 1, 512: 1, 513: 1, 515: 1, 517: 1, 518: 1, 521: 1, 522: 1, 524: 1, 529: 1, 536: 1, 542: 1, 545: 1, 547: 1, 577: 1, 578: 1, 613: 1, 617: 1, 619: 1, 620: 1, 634: 1, 635: 1, 636: 1, 641: 1, 642: 1, 644: 1, 655: 1, 659: 1, 670: 1, 692: 1, 693: 1})\n",
      "Counter({52: 8, 3: 7, 23: 7, 40: 7, 50: 7, 51: 7, 36: 6, 48: 6, 49: 6, 53: 6, 2: 5, 27: 5, 31: 5, 46: 5, 55: 5, 22: 4, 45: 4, 54: 4, 56: 4, 95: 4, 229: 4, 308: 4, 1: 3, 26: 3, 28: 3, 39: 3, 42: 3, 111: 3, 131: 3, 184: 3, 25: 2, 29: 2, 32: 2, 37: 2, 38: 2, 47: 2, 62: 2, 100: 2, 178: 2, 307: 2, 401: 2, 0: 1, 4: 1, 14: 1, 16: 1, 24: 1, 30: 1, 35: 1, 41: 1, 44: 1, 67: 1, 82: 1, 88: 1, 89: 1, 90: 1, 93: 1, 96: 1, 108: 1, 109: 1, 114: 1, 117: 1, 118: 1, 130: 1, 132: 1, 134: 1, 150: 1, 152: 1, 154: 1, 156: 1, 164: 1, 167: 1, 170: 1, 172: 1, 181: 1, 189: 1, 192: 1, 196: 1, 218: 1, 225: 1, 227: 1, 228: 1, 230: 1, 264: 1, 265: 1, 287: 1, 299: 1, 309: 1, 318: 1})\n",
      "Counter({597: 16, 47: 13, 476: 13, 519: 13, 485: 12, 583: 12, 295: 11, 513: 11, 551: 11, 423: 10, 510: 10, 512: 10, 581: 10, 379: 9, 477: 9, 495: 9, 507: 9, 540: 9, 14: 8, 306: 8, 390: 8, 424: 8, 480: 8, 589: 8, 596: 8, 48: 7, 296: 7, 330: 7, 346: 7, 359: 7, 364: 7, 409: 7, 426: 7, 454: 7, 462: 7, 468: 7, 489: 7, 518: 7, 542: 7, 548: 7, 561: 7, 602: 7, 25: 6, 30: 6, 31: 6, 262: 6, 264: 6, 286: 6, 290: 6, 311: 6, 329: 6, 366: 6, 368: 6, 385: 6, 412: 6, 425: 6, 433: 6, 434: 6, 486: 6, 490: 6, 494: 6, 504: 6, 509: 6, 511: 6, 515: 6, 541: 6, 553: 6, 569: 6, 580: 6, 591: 6, 33: 5, 46: 5, 56: 5, 240: 5, 241: 5, 263: 5, 269: 5, 280: 5, 283: 5, 297: 5, 300: 5, 315: 5, 316: 5, 318: 5, 325: 5, 326: 5, 343: 5, 355: 5, 362: 5, 363: 5, 365: 5, 367: 5, 369: 5, 378: 5, 392: 5, 393: 5, 395: 5, 396: 5, 410: 5, 417: 5, 419: 5, 470: 5, 472: 5, 481: 5, 484: 5, 487: 5, 488: 5, 497: 5, 499: 5, 503: 5, 508: 5, 521: 5, 529: 5, 532: 5, 545: 5, 549: 5, 568: 5, 576: 5, 582: 5, 586: 5, 594: 5, 598: 5, 603: 5, 4: 4, 28: 4, 32: 4, 44: 4, 45: 4, 54: 4, 70: 4, 131: 4, 251: 4, 268: 4, 272: 4, 285: 4, 299: 4, 301: 4, 302: 4, 314: 4, 344: 4, 348: 4, 353: 4, 357: 4, 358: 4, 374: 4, 383: 4, 387: 4, 389: 4, 391: 4, 415: 4, 431: 4, 442: 4, 455: 4, 459: 4, 464: 4, 483: 4, 492: 4, 506: 4, 514: 4, 520: 4, 526: 4, 528: 4, 535: 4, 543: 4, 552: 4, 554: 4, 567: 4, 584: 4, 585: 4, 600: 4, 601: 4, 15: 3, 16: 3, 17: 3, 19: 3, 39: 3, 42: 3, 55: 3, 67: 3, 143: 3, 144: 3, 238: 3, 239: 3, 260: 3, 271: 3, 281: 3, 282: 3, 284: 3, 288: 3, 291: 3, 292: 3, 294: 3, 298: 3, 305: 3, 313: 3, 320: 3, 322: 3, 323: 3, 324: 3, 332: 3, 336: 3, 345: 3, 347: 3, 356: 3, 361: 3, 373: 3, 377: 3, 380: 3, 381: 3, 384: 3, 398: 3, 401: 3, 413: 3, 420: 3, 422: 3, 428: 3, 429: 3, 432: 3, 445: 3, 447: 3, 450: 3, 452: 3, 453: 3, 457: 3, 458: 3, 460: 3, 463: 3, 466: 3, 473: 3, 475: 3, 478: 3, 482: 3, 491: 3, 498: 3, 500: 3, 505: 3, 527: 3, 534: 3, 547: 3, 555: 3, 556: 3, 559: 3, 563: 3, 570: 3, 574: 3, 578: 3, 588: 3, 592: 3, 593: 3, 599: 3, 5: 2, 9: 2, 20: 2, 23: 2, 24: 2, 26: 2, 38: 2, 40: 2, 41: 2, 43: 2, 51: 2, 57: 2, 64: 2, 81: 2, 132: 2, 134: 2, 140: 2, 210: 2, 214: 2, 228: 2, 233: 2, 234: 2, 236: 2, 243: 2, 257: 2, 258: 2, 259: 2, 261: 2, 270: 2, 279: 2, 287: 2, 289: 2, 303: 2, 307: 2, 310: 2, 319: 2, 331: 2, 334: 2, 341: 2, 342: 2, 349: 2, 351: 2, 352: 2, 360: 2, 388: 2, 394: 2, 397: 2, 402: 2, 403: 2, 406: 2, 411: 2, 414: 2, 416: 2, 421: 2, 427: 2, 446: 2, 449: 2, 456: 2, 479: 2, 493: 2, 502: 2, 531: 2, 536: 2, 537: 2, 539: 2, 550: 2, 557: 2, 558: 2, 560: 2, 562: 2, 564: 2, 565: 2, 566: 2, 571: 2, 577: 2, 587: 2, 590: 2, 1: 1, 10: 1, 11: 1, 13: 1, 18: 1, 22: 1, 27: 1, 29: 1, 34: 1, 35: 1, 36: 1, 37: 1, 52: 1, 53: 1, 62: 1, 63: 1, 65: 1, 69: 1, 84: 1, 88: 1, 101: 1, 104: 1, 113: 1, 139: 1, 141: 1, 145: 1, 151: 1, 152: 1, 175: 1, 186: 1, 193: 1, 209: 1, 216: 1, 217: 1, 222: 1, 229: 1, 231: 1, 242: 1, 246: 1, 250: 1, 254: 1, 267: 1, 275: 1, 277: 1, 278: 1, 293: 1, 304: 1, 312: 1, 317: 1, 321: 1, 327: 1, 328: 1, 333: 1, 338: 1, 339: 1, 350: 1, 354: 1, 370: 1, 371: 1, 382: 1, 407: 1, 408: 1, 418: 1, 430: 1, 435: 1, 436: 1, 438: 1, 440: 1, 441: 1, 465: 1, 469: 1, 474: 1, 496: 1, 516: 1, 522: 1, 523: 1, 525: 1, 530: 1, 538: 1, 544: 1, 546: 1, 572: 1, 575: 1, 579: 1, 604: 1})\n",
      "Counter({37: 9, 41: 9, 64: 9, 102: 7, 24: 6, 65: 6, 538: 6, 23: 5, 40: 5, 3: 4, 32: 4, 43: 4, 44: 4, 63: 4, 80: 4, 93: 4, 474: 4, 540: 4, 543: 4, 28: 3, 30: 3, 36: 3, 38: 3, 42: 3, 53: 3, 71: 3, 78: 3, 79: 3, 84: 3, 85: 3, 88: 3, 91: 3, 481: 3, 534: 3, 537: 3, 544: 3, 580: 3, 581: 3, 582: 3, 1: 2, 2: 2, 26: 2, 27: 2, 29: 2, 33: 2, 39: 2, 45: 2, 46: 2, 54: 2, 66: 2, 72: 2, 75: 2, 76: 2, 77: 2, 81: 2, 110: 2, 111: 2, 230: 2, 260: 2, 267: 2, 471: 2, 484: 2, 493: 2, 495: 2, 539: 2, 542: 2, 545: 2, 561: 2, 571: 2, 575: 2, 577: 2, 6: 1, 11: 1, 20: 1, 25: 1, 31: 1, 34: 1, 49: 1, 58: 1, 68: 1, 69: 1, 70: 1, 73: 1, 74: 1, 82: 1, 83: 1, 89: 1, 90: 1, 94: 1, 95: 1, 97: 1, 101: 1, 105: 1, 128: 1, 136: 1, 140: 1, 145: 1, 150: 1, 178: 1, 179: 1, 180: 1, 189: 1, 195: 1, 217: 1, 248: 1, 271: 1, 282: 1, 329: 1, 337: 1, 353: 1, 364: 1, 378: 1, 415: 1, 454: 1, 457: 1, 462: 1, 463: 1, 475: 1, 476: 1, 479: 1, 482: 1, 483: 1, 494: 1, 523: 1, 529: 1, 531: 1, 535: 1, 554: 1, 560: 1, 567: 1, 568: 1, 572: 1, 573: 1, 574: 1, 576: 1, 579: 1, 583: 1})\n",
      "Counter({4: 7, 603: 7, 606: 7, 16: 6, 17: 6, 26: 6, 172: 6, 298: 6, 3: 5, 168: 5, 175: 5, 176: 5, 205: 5, 275: 5, 605: 5, 5: 4, 95: 4, 159: 4, 171: 4, 182: 4, 188: 4, 269: 4, 325: 4, 327: 4, 594: 4, 598: 4, 599: 4, 10: 3, 13: 3, 14: 3, 15: 3, 27: 3, 130: 3, 131: 3, 135: 3, 152: 3, 154: 3, 170: 3, 174: 3, 185: 3, 186: 3, 192: 3, 214: 3, 299: 3, 306: 3, 425: 3, 595: 3, 596: 3, 597: 3, 602: 3, 604: 3, 6: 2, 7: 2, 9: 2, 20: 2, 24: 2, 36: 2, 54: 2, 85: 2, 100: 2, 102: 2, 148: 2, 189: 2, 194: 2, 196: 2, 215: 2, 219: 2, 223: 2, 277: 2, 280: 2, 283: 2, 294: 2, 296: 2, 322: 2, 326: 2, 364: 2, 368: 2, 383: 2, 409: 2, 419: 2, 426: 2, 590: 2, 600: 2, 0: 1, 2: 1, 8: 1, 11: 1, 12: 1, 18: 1, 21: 1, 22: 1, 23: 1, 37: 1, 38: 1, 39: 1, 41: 1, 43: 1, 44: 1, 53: 1, 55: 1, 56: 1, 69: 1, 81: 1, 83: 1, 84: 1, 86: 1, 96: 1, 103: 1, 105: 1, 106: 1, 107: 1, 108: 1, 127: 1, 129: 1, 132: 1, 142: 1, 145: 1, 146: 1, 147: 1, 153: 1, 160: 1, 165: 1, 167: 1, 169: 1, 177: 1, 179: 1, 180: 1, 181: 1, 184: 1, 187: 1, 191: 1, 193: 1, 198: 1, 202: 1, 208: 1, 213: 1, 222: 1, 225: 1, 229: 1, 230: 1, 235: 1, 236: 1, 255: 1, 259: 1, 266: 1, 272: 1, 274: 1, 276: 1, 284: 1, 287: 1, 289: 1, 290: 1, 293: 1, 297: 1, 301: 1, 302: 1, 308: 1, 309: 1, 311: 1, 314: 1, 316: 1, 317: 1, 331: 1, 336: 1, 358: 1, 367: 1, 369: 1, 393: 1, 396: 1, 401: 1, 402: 1, 415: 1, 429: 1, 438: 1, 442: 1, 448: 1, 449: 1, 517: 1, 529: 1, 538: 1, 549: 1, 574: 1, 585: 1, 592: 1, 593: 1})\n",
      "Counter({66: 7, 83: 7, 97: 7, 40: 6, 86: 6, 129: 6, 46: 5, 64: 5, 65: 5, 213: 5, 7: 4, 25: 4, 26: 4, 35: 4, 39: 4, 44: 4, 47: 4, 52: 4, 59: 4, 77: 4, 84: 4, 85: 4, 87: 4, 88: 4, 91: 4, 92: 4, 114: 4, 128: 4, 187: 4, 207: 4, 228: 4, 298: 4, 371: 4, 13: 3, 23: 3, 38: 3, 45: 3, 54: 3, 68: 3, 74: 3, 90: 3, 93: 3, 98: 3, 112: 3, 117: 3, 118: 3, 130: 3, 158: 3, 198: 3, 210: 3, 227: 3, 230: 3, 320: 3, 321: 3, 328: 3, 331: 3, 333: 3, 370: 3, 3: 2, 16: 2, 29: 2, 30: 2, 32: 2, 33: 2, 34: 2, 41: 2, 42: 2, 43: 2, 48: 2, 55: 2, 57: 2, 67: 2, 71: 2, 75: 2, 76: 2, 80: 2, 100: 2, 109: 2, 110: 2, 113: 2, 116: 2, 125: 2, 127: 2, 136: 2, 137: 2, 148: 2, 152: 2, 155: 2, 175: 2, 178: 2, 190: 2, 193: 2, 194: 2, 196: 2, 203: 2, 204: 2, 206: 2, 209: 2, 215: 2, 219: 2, 221: 2, 225: 2, 229: 2, 251: 2, 267: 2, 291: 2, 293: 2, 297: 2, 300: 2, 303: 2, 327: 2, 330: 2, 340: 2, 341: 2, 346: 2, 347: 2, 348: 2, 349: 2, 372: 2, 1: 1, 2: 1, 8: 1, 10: 1, 18: 1, 19: 1, 24: 1, 28: 1, 31: 1, 36: 1, 49: 1, 50: 1, 53: 1, 56: 1, 58: 1, 60: 1, 61: 1, 62: 1, 70: 1, 72: 1, 73: 1, 81: 1, 94: 1, 95: 1, 101: 1, 102: 1, 103: 1, 105: 1, 106: 1, 115: 1, 121: 1, 122: 1, 124: 1, 132: 1, 133: 1, 134: 1, 140: 1, 141: 1, 143: 1, 144: 1, 145: 1, 146: 1, 147: 1, 154: 1, 156: 1, 157: 1, 162: 1, 167: 1, 173: 1, 174: 1, 182: 1, 183: 1, 191: 1, 199: 1, 208: 1, 211: 1, 214: 1, 222: 1, 224: 1, 226: 1, 232: 1, 233: 1, 235: 1, 238: 1, 239: 1, 249: 1, 250: 1, 274: 1, 278: 1, 290: 1, 294: 1, 295: 1, 296: 1, 308: 1, 329: 1, 332: 1, 334: 1, 335: 1, 342: 1, 352: 1, 354: 1})\n",
      "Counter({603: 17, 50: 13, 96: 13, 248: 12, 331: 12, 240: 11, 249: 11, 120: 10, 247: 10, 388: 10, 548: 10, 731: 10, 19: 9, 112: 9, 161: 9, 170: 9, 252: 9, 303: 9, 516: 9, 566: 9, 32: 8, 37: 8, 39: 8, 49: 8, 97: 8, 111: 8, 116: 8, 131: 8, 141: 8, 158: 8, 202: 8, 244: 8, 253: 8, 279: 8, 344: 8, 377: 8, 392: 8, 502: 8, 630: 8, 1: 7, 7: 7, 33: 7, 38: 7, 59: 7, 85: 7, 92: 7, 93: 7, 110: 7, 119: 7, 130: 7, 133: 7, 148: 7, 211: 7, 224: 7, 232: 7, 246: 7, 262: 7, 267: 7, 294: 7, 297: 7, 300: 7, 336: 7, 497: 7, 501: 7, 565: 7, 732: 7, 733: 7, 14: 6, 27: 6, 41: 6, 45: 6, 53: 6, 78: 6, 81: 6, 98: 6, 103: 6, 105: 6, 113: 6, 121: 6, 125: 6, 135: 6, 138: 6, 147: 6, 150: 6, 175: 6, 205: 6, 219: 6, 234: 6, 251: 6, 257: 6, 259: 6, 260: 6, 270: 6, 289: 6, 293: 6, 295: 6, 298: 6, 299: 6, 310: 6, 328: 6, 335: 6, 384: 6, 387: 6, 418: 6, 422: 6, 459: 6, 465: 6, 485: 6, 513: 6, 520: 6, 562: 6, 563: 6, 604: 6, 664: 6, 13: 5, 15: 5, 20: 5, 28: 5, 29: 5, 47: 5, 51: 5, 56: 5, 61: 5, 68: 5, 99: 5, 100: 5, 101: 5, 102: 5, 106: 5, 117: 5, 122: 5, 126: 5, 142: 5, 145: 5, 152: 5, 153: 5, 157: 5, 162: 5, 168: 5, 169: 5, 177: 5, 178: 5, 179: 5, 203: 5, 206: 5, 222: 5, 225: 5, 229: 5, 231: 5, 243: 5, 258: 5, 265: 5, 268: 5, 296: 5, 307: 5, 312: 5, 315: 5, 321: 5, 330: 5, 355: 5, 433: 5, 434: 5, 493: 5, 503: 5, 507: 5, 525: 5, 547: 5, 561: 5, 572: 5, 602: 5, 627: 5, 636: 5, 644: 5, 648: 5, 674: 5, 686: 5, 6: 4, 8: 4, 16: 4, 22: 4, 26: 4, 35: 4, 36: 4, 40: 4, 42: 4, 44: 4, 48: 4, 54: 4, 55: 4, 58: 4, 71: 4, 75: 4, 76: 4, 91: 4, 94: 4, 124: 4, 127: 4, 128: 4, 129: 4, 132: 4, 136: 4, 143: 4, 144: 4, 156: 4, 159: 4, 160: 4, 163: 4, 166: 4, 171: 4, 192: 4, 197: 4, 204: 4, 207: 4, 210: 4, 217: 4, 223: 4, 227: 4, 242: 4, 250: 4, 263: 4, 276: 4, 278: 4, 282: 4, 283: 4, 287: 4, 288: 4, 301: 4, 305: 4, 319: 4, 327: 4, 329: 4, 338: 4, 361: 4, 370: 4, 386: 4, 400: 4, 402: 4, 426: 4, 428: 4, 430: 4, 438: 4, 439: 4, 454: 4, 466: 4, 471: 4, 484: 4, 490: 4, 508: 4, 514: 4, 532: 4, 534: 4, 538: 4, 539: 4, 553: 4, 560: 4, 564: 4, 571: 4, 574: 4, 579: 4, 596: 4, 628: 4, 629: 4, 633: 4, 635: 4, 637: 4, 643: 4, 649: 4, 652: 4, 663: 4, 678: 4, 681: 4, 682: 4, 2: 3, 24: 3, 57: 3, 66: 3, 69: 3, 73: 3, 77: 3, 79: 3, 84: 3, 88: 3, 89: 3, 114: 3, 115: 3, 118: 3, 123: 3, 134: 3, 137: 3, 149: 3, 180: 3, 181: 3, 184: 3, 193: 3, 195: 3, 196: 3, 198: 3, 201: 3, 209: 3, 218: 3, 220: 3, 221: 3, 226: 3, 239: 3, 241: 3, 245: 3, 256: 3, 272: 3, 290: 3, 304: 3, 308: 3, 313: 3, 314: 3, 318: 3, 322: 3, 332: 3, 334: 3, 339: 3, 341: 3, 343: 3, 351: 3, 354: 3, 356: 3, 362: 3, 375: 3, 399: 3, 401: 3, 411: 3, 416: 3, 423: 3, 429: 3, 436: 3, 442: 3, 443: 3, 448: 3, 450: 3, 452: 3, 453: 3, 455: 3, 463: 3, 478: 3, 481: 3, 498: 3, 504: 3, 506: 3, 509: 3, 510: 3, 512: 3, 515: 3, 522: 3, 527: 3, 529: 3, 530: 3, 536: 3, 550: 3, 551: 3, 557: 3, 580: 3, 582: 3, 597: 3, 601: 3, 608: 3, 611: 3, 640: 3, 657: 3, 659: 3, 660: 3, 665: 3, 670: 3, 675: 3, 692: 3, 695: 3, 726: 3, 727: 3, 730: 3, 0: 2, 23: 2, 30: 2, 31: 2, 43: 2, 52: 2, 60: 2, 62: 2, 65: 2, 67: 2, 70: 2, 72: 2, 74: 2, 80: 2, 82: 2, 86: 2, 87: 2, 95: 2, 107: 2, 108: 2, 155: 2, 164: 2, 167: 2, 174: 2, 182: 2, 183: 2, 186: 2, 187: 2, 188: 2, 191: 2, 194: 2, 200: 2, 212: 2, 228: 2, 236: 2, 254: 2, 255: 2, 264: 2, 273: 2, 277: 2, 281: 2, 284: 2, 285: 2, 291: 2, 302: 2, 309: 2, 320: 2, 340: 2, 342: 2, 348: 2, 353: 2, 359: 2, 366: 2, 372: 2, 373: 2, 374: 2, 385: 2, 389: 2, 396: 2, 407: 2, 413: 2, 417: 2, 427: 2, 432: 2, 444: 2, 445: 2, 451: 2, 457: 2, 458: 2, 462: 2, 464: 2, 467: 2, 475: 2, 477: 2, 479: 2, 483: 2, 488: 2, 489: 2, 491: 2, 492: 2, 494: 2, 495: 2, 496: 2, 499: 2, 500: 2, 517: 2, 519: 2, 523: 2, 528: 2, 531: 2, 533: 2, 535: 2, 537: 2, 540: 2, 544: 2, 545: 2, 546: 2, 554: 2, 556: 2, 569: 2, 577: 2, 578: 2, 581: 2, 590: 2, 593: 2, 598: 2, 606: 2, 607: 2, 609: 2, 610: 2, 612: 2, 626: 2, 638: 2, 639: 2, 671: 2, 679: 2, 683: 2, 687: 2, 693: 2, 697: 2, 698: 2, 700: 2, 702: 2, 712: 2, 719: 2, 720: 2, 721: 2, 728: 2, 4: 1, 5: 1, 9: 1, 10: 1, 11: 1, 12: 1, 17: 1, 21: 1, 25: 1, 46: 1, 63: 1, 64: 1, 83: 1, 90: 1, 104: 1, 109: 1, 139: 1, 140: 1, 146: 1, 151: 1, 154: 1, 165: 1, 176: 1, 208: 1, 214: 1, 230: 1, 233: 1, 238: 1, 261: 1, 266: 1, 271: 1, 274: 1, 280: 1, 292: 1, 311: 1, 317: 1, 324: 1, 326: 1, 333: 1, 347: 1, 349: 1, 350: 1, 363: 1, 365: 1, 367: 1, 368: 1, 369: 1, 371: 1, 376: 1, 379: 1, 381: 1, 383: 1, 395: 1, 397: 1, 403: 1, 404: 1, 406: 1, 409: 1, 412: 1, 414: 1, 415: 1, 419: 1, 421: 1, 425: 1, 431: 1, 435: 1, 447: 1, 449: 1, 460: 1, 461: 1, 468: 1, 470: 1, 472: 1, 480: 1, 482: 1, 487: 1, 505: 1, 511: 1, 518: 1, 521: 1, 524: 1, 541: 1, 549: 1, 552: 1, 555: 1, 558: 1, 559: 1, 567: 1, 570: 1, 573: 1, 575: 1, 576: 1, 584: 1, 594: 1, 599: 1, 613: 1, 620: 1, 621: 1, 632: 1, 634: 1, 641: 1, 642: 1, 646: 1, 650: 1, 651: 1, 653: 1, 656: 1, 658: 1, 661: 1, 666: 1, 667: 1, 676: 1, 677: 1, 680: 1, 684: 1, 685: 1, 691: 1, 694: 1, 696: 1, 718: 1, 722: 1, 725: 1, 729: 1})\n",
      "Counter({1473: 49, 1474: 27, 1472: 20, 1480: 16, 1504: 11, 1506: 11, 1475: 10, 1547: 9, 1548: 8, 1481: 7, 1505: 7, 1526: 7, 1530: 7, 1549: 7, 1478: 6, 1482: 6, 1483: 6, 1490: 6, 1525: 6, 868: 5, 1476: 5, 1485: 5, 1515: 5, 511: 4, 867: 4, 874: 4, 1260: 4, 1400: 4, 1477: 4, 1486: 4, 1493: 4, 1508: 4, 1524: 4, 1528: 4, 57: 3, 726: 3, 816: 3, 908: 3, 1097: 3, 1423: 3, 1436: 3, 1453: 3, 1489: 3, 1492: 3, 1495: 3, 1500: 3, 1509: 3, 1510: 3, 1514: 3, 1517: 3, 1527: 3, 1532: 3, 1545: 3, 1: 2, 2: 2, 58: 2, 313: 2, 373: 2, 380: 2, 387: 2, 388: 2, 389: 2, 494: 2, 531: 2, 536: 2, 547: 2, 553: 2, 579: 2, 706: 2, 815: 2, 884: 2, 907: 2, 929: 2, 930: 2, 960: 2, 961: 2, 1006: 2, 1014: 2, 1015: 2, 1016: 2, 1017: 2, 1033: 2, 1038: 2, 1096: 2, 1122: 2, 1160: 2, 1161: 2, 1169: 2, 1197: 2, 1208: 2, 1281: 2, 1347: 2, 1422: 2, 1455: 2, 1484: 2, 1487: 2, 1491: 2, 1496: 2, 1497: 2, 1498: 2, 1503: 2, 1511: 2, 1529: 2, 1531: 2, 1533: 2, 1536: 2, 1537: 2, 3: 1, 5: 1, 6: 1, 9: 1, 10: 1, 15: 1, 21: 1, 39: 1, 47: 1, 56: 1, 59: 1, 73: 1, 99: 1, 120: 1, 132: 1, 146: 1, 162: 1, 164: 1, 165: 1, 166: 1, 175: 1, 176: 1, 178: 1, 179: 1, 182: 1, 193: 1, 211: 1, 337: 1, 342: 1, 349: 1, 351: 1, 352: 1, 363: 1, 378: 1, 382: 1, 383: 1, 385: 1, 386: 1, 390: 1, 391: 1, 392: 1, 393: 1, 412: 1, 416: 1, 426: 1, 429: 1, 430: 1, 433: 1, 456: 1, 479: 1, 480: 1, 490: 1, 495: 1, 501: 1, 503: 1, 513: 1, 530: 1, 532: 1, 533: 1, 535: 1, 538: 1, 539: 1, 546: 1, 551: 1, 578: 1, 611: 1, 641: 1, 673: 1, 754: 1, 777: 1, 783: 1, 790: 1, 793: 1, 807: 1, 808: 1, 817: 1, 866: 1, 869: 1, 875: 1, 881: 1, 885: 1, 886: 1, 887: 1, 898: 1, 899: 1, 913: 1, 927: 1, 928: 1, 936: 1, 955: 1, 973: 1, 977: 1, 978: 1, 1004: 1, 1023: 1, 1025: 1, 1034: 1, 1039: 1, 1040: 1, 1046: 1, 1047: 1, 1050: 1, 1052: 1, 1078: 1, 1095: 1, 1098: 1, 1099: 1, 1100: 1, 1104: 1, 1109: 1, 1154: 1, 1159: 1, 1168: 1, 1198: 1, 1201: 1, 1209: 1, 1257: 1, 1259: 1, 1261: 1, 1270: 1, 1287: 1, 1306: 1, 1307: 1, 1316: 1, 1348: 1, 1351: 1, 1352: 1, 1365: 1, 1378: 1, 1379: 1, 1381: 1, 1397: 1, 1398: 1, 1425: 1, 1433: 1, 1435: 1, 1437: 1, 1440: 1, 1441: 1, 1448: 1, 1452: 1, 1456: 1, 1457: 1, 1461: 1, 1467: 1, 1470: 1, 1471: 1, 1494: 1, 1499: 1, 1501: 1, 1502: 1, 1507: 1, 1513: 1, 1534: 1, 1535: 1, 1538: 1, 1539: 1, 1540: 1, 1541: 1, 1543: 1, 1544: 1, 1546: 1})\n",
      "Counter({1695: 11, 1134: 9, 441: 8, 2: 7, 1400: 7, 1410: 7, 1686: 7, 89: 6, 1403: 6, 1696: 6, 3: 5, 1390: 5, 1396: 5, 1428: 5, 1548: 5, 1123: 4, 1132: 4, 1143: 4, 1150: 4, 1398: 4, 1401: 4, 1684: 4, 1685: 4, 1871: 4, 1: 3, 373: 3, 436: 3, 1109: 3, 1115: 3, 1384: 3, 1393: 3, 1397: 3, 1399: 3, 1412: 3, 1444: 3, 1461: 3, 1507: 3, 1543: 3, 1549: 3, 1617: 3, 1688: 3, 1694: 3, 1700: 3, 1701: 3, 1756: 3, 1760: 3, 1761: 3, 1829: 3, 1869: 3, 183: 2, 372: 2, 412: 2, 416: 2, 484: 2, 575: 2, 639: 2, 708: 2, 737: 2, 743: 2, 784: 2, 791: 2, 910: 2, 913: 2, 953: 2, 1078: 2, 1118: 2, 1124: 2, 1125: 2, 1130: 2, 1140: 2, 1141: 2, 1266: 2, 1382: 2, 1386: 2, 1389: 2, 1394: 2, 1395: 2, 1413: 2, 1418: 2, 1455: 2, 1460: 2, 1468: 2, 1480: 2, 1506: 2, 1524: 2, 1545: 2, 1554: 2, 1587: 2, 1598: 2, 1683: 2, 1699: 2, 1702: 2, 1704: 2, 1712: 2, 1757: 2, 1758: 2, 1763: 2, 1772: 2, 1833: 2, 1865: 2, 0: 1, 5: 1, 13: 1, 18: 1, 25: 1, 32: 1, 40: 1, 41: 1, 54: 1, 57: 1, 58: 1, 60: 1, 61: 1, 70: 1, 72: 1, 80: 1, 104: 1, 174: 1, 178: 1, 179: 1, 182: 1, 189: 1, 190: 1, 193: 1, 202: 1, 256: 1, 265: 1, 273: 1, 284: 1, 285: 1, 298: 1, 310: 1, 315: 1, 337: 1, 346: 1, 367: 1, 369: 1, 407: 1, 411: 1, 414: 1, 430: 1, 432: 1, 434: 1, 435: 1, 437: 1, 440: 1, 442: 1, 445: 1, 497: 1, 500: 1, 529: 1, 547: 1, 550: 1, 579: 1, 581: 1, 583: 1, 587: 1, 592: 1, 596: 1, 599: 1, 602: 1, 608: 1, 610: 1, 627: 1, 653: 1, 670: 1, 689: 1, 697: 1, 714: 1, 718: 1, 736: 1, 782: 1, 787: 1, 788: 1, 790: 1, 792: 1, 795: 1, 817: 1, 819: 1, 862: 1, 902: 1, 906: 1, 926: 1, 950: 1, 954: 1, 955: 1, 956: 1, 963: 1, 1030: 1, 1031: 1, 1068: 1, 1071: 1, 1072: 1, 1073: 1, 1080: 1, 1087: 1, 1092: 1, 1102: 1, 1117: 1, 1120: 1, 1121: 1, 1126: 1, 1127: 1, 1128: 1, 1129: 1, 1131: 1, 1133: 1, 1135: 1, 1136: 1, 1138: 1, 1139: 1, 1144: 1, 1145: 1, 1146: 1, 1149: 1, 1175: 1, 1222: 1, 1226: 1, 1258: 1, 1270: 1, 1271: 1, 1272: 1, 1274: 1, 1275: 1, 1283: 1, 1288: 1, 1292: 1, 1293: 1, 1353: 1, 1368: 1, 1385: 1, 1387: 1, 1391: 1, 1392: 1, 1417: 1, 1425: 1, 1427: 1, 1429: 1, 1430: 1, 1435: 1, 1441: 1, 1458: 1, 1479: 1, 1481: 1, 1482: 1, 1487: 1, 1502: 1, 1503: 1, 1510: 1, 1527: 1, 1539: 1, 1544: 1, 1546: 1, 1547: 1, 1551: 1, 1559: 1, 1586: 1, 1600: 1, 1602: 1, 1604: 1, 1605: 1, 1607: 1, 1609: 1, 1614: 1, 1616: 1, 1618: 1, 1622: 1, 1623: 1, 1630: 1, 1632: 1, 1647: 1, 1690: 1, 1691: 1, 1692: 1, 1693: 1, 1697: 1, 1713: 1, 1715: 1, 1717: 1, 1740: 1, 1741: 1, 1742: 1, 1748: 1, 1750: 1, 1751: 1, 1753: 1, 1762: 1, 1776: 1, 1780: 1, 1781: 1, 1785: 1, 1786: 1, 1787: 1, 1788: 1, 1791: 1, 1817: 1, 1818: 1, 1819: 1, 1832: 1, 1835: 1, 1836: 1, 1839: 1, 1858: 1, 1859: 1, 1863: 1, 1867: 1, 1870: 1})\n",
      "Counter({345: 15, 1134: 11, 1892: 11, 1924: 11, 697: 10, 1485: 10, 24: 9, 44: 9, 1925: 9, 1135: 8, 1889: 8, 1906: 8, 1: 7, 19: 7, 45: 7, 1155: 7, 1156: 7, 23: 6, 40: 6, 42: 6, 58: 6, 25: 5, 37: 5, 39: 5, 43: 5, 50: 5, 57: 5, 1031: 5, 1159: 5, 1161: 5, 1835: 5, 1836: 5, 1841: 5, 1893: 5, 1922: 5, 1926: 5, 21: 4, 22: 4, 26: 4, 53: 4, 72: 4, 87: 4, 91: 4, 116: 4, 118: 4, 120: 4, 173: 4, 902: 4, 933: 4, 1167: 4, 1168: 4, 1175: 4, 1356: 4, 1607: 4, 1671: 4, 1792: 4, 1898: 4, 1909: 4, 1927: 4, 2: 3, 3: 3, 8: 3, 10: 3, 11: 3, 15: 3, 18: 3, 20: 3, 41: 3, 48: 3, 59: 3, 60: 3, 106: 3, 108: 3, 153: 3, 170: 3, 171: 3, 232: 3, 271: 3, 293: 3, 295: 3, 970: 3, 971: 3, 1032: 3, 1176: 3, 1207: 3, 1232: 3, 1300: 3, 1357: 3, 1582: 3, 1628: 3, 1670: 3, 1775: 3, 1798: 3, 1834: 3, 1879: 3, 1880: 3, 1890: 3, 1891: 3, 1911: 3, 1913: 3, 1931: 3, 2030: 3, 2066: 3, 4: 2, 17: 2, 27: 2, 30: 2, 31: 2, 32: 2, 36: 2, 38: 2, 49: 2, 52: 2, 54: 2, 64: 2, 68: 2, 71: 2, 76: 2, 88: 2, 90: 2, 100: 2, 104: 2, 105: 2, 119: 2, 129: 2, 130: 2, 140: 2, 174: 2, 245: 2, 259: 2, 261: 2, 263: 2, 275: 2, 276: 2, 279: 2, 284: 2, 290: 2, 296: 2, 297: 2, 303: 2, 313: 2, 344: 2, 433: 2, 522: 2, 555: 2, 630: 2, 712: 2, 733: 2, 744: 2, 812: 2, 813: 2, 816: 2, 854: 2, 855: 2, 925: 2, 927: 2, 934: 2, 1033: 2, 1034: 2, 1044: 2, 1060: 2, 1080: 2, 1133: 2, 1136: 2, 1141: 2, 1144: 2, 1147: 2, 1154: 2, 1157: 2, 1158: 2, 1173: 2, 1177: 2, 1241: 2, 1250: 2, 1339: 2, 1347: 2, 1354: 2, 1362: 2, 1364: 2, 1463: 2, 1478: 2, 1495: 2, 1497: 2, 1498: 2, 1555: 2, 1631: 2, 1664: 2, 1665: 2, 1678: 2, 1759: 2, 1784: 2, 1791: 2, 1793: 2, 1795: 2, 1806: 2, 1815: 2, 1833: 2, 1842: 2, 1869: 2, 1870: 2, 1894: 2, 1921: 2, 1923: 2, 1932: 2, 1934: 2, 1943: 2, 1955: 2, 1974: 2, 1976: 2, 2016: 2, 2026: 2, 2027: 2, 2052: 2, 5: 1, 6: 1, 9: 1, 14: 1, 16: 1, 28: 1, 29: 1, 46: 1, 47: 1, 61: 1, 66: 1, 69: 1, 70: 1, 85: 1, 89: 1, 92: 1, 101: 1, 102: 1, 103: 1, 110: 1, 112: 1, 117: 1, 121: 1, 132: 1, 133: 1, 137: 1, 138: 1, 139: 1, 148: 1, 165: 1, 175: 1, 178: 1, 179: 1, 183: 1, 190: 1, 205: 1, 223: 1, 224: 1, 225: 1, 233: 1, 244: 1, 246: 1, 247: 1, 252: 1, 256: 1, 267: 1, 274: 1, 281: 1, 282: 1, 285: 1, 286: 1, 289: 1, 291: 1, 294: 1, 298: 1, 299: 1, 302: 1, 307: 1, 310: 1, 314: 1, 322: 1, 325: 1, 346: 1, 347: 1, 350: 1, 357: 1, 368: 1, 410: 1, 417: 1, 424: 1, 427: 1, 436: 1, 445: 1, 455: 1, 457: 1, 472: 1, 492: 1, 497: 1, 508: 1, 509: 1, 512: 1, 513: 1, 518: 1, 521: 1, 547: 1, 565: 1, 572: 1, 577: 1, 579: 1, 598: 1, 619: 1, 667: 1, 678: 1, 688: 1, 691: 1, 695: 1, 698: 1, 700: 1, 705: 1, 714: 1, 716: 1, 721: 1, 723: 1, 730: 1, 731: 1, 732: 1, 734: 1, 735: 1, 736: 1, 814: 1, 829: 1, 830: 1, 838: 1, 851: 1, 853: 1, 857: 1, 863: 1, 870: 1, 871: 1, 879: 1, 882: 1, 935: 1, 937: 1, 940: 1, 958: 1, 969: 1, 980: 1, 982: 1, 1015: 1, 1024: 1, 1025: 1, 1059: 1, 1068: 1, 1069: 1, 1075: 1, 1078: 1, 1079: 1, 1098: 1, 1130: 1, 1137: 1, 1140: 1, 1143: 1, 1149: 1, 1150: 1, 1151: 1, 1152: 1, 1162: 1, 1170: 1, 1178: 1, 1189: 1, 1198: 1, 1214: 1, 1225: 1, 1228: 1, 1233: 1, 1248: 1, 1260: 1, 1265: 1, 1276: 1, 1287: 1, 1318: 1, 1332: 1, 1333: 1, 1358: 1, 1359: 1, 1363: 1, 1371: 1, 1373: 1, 1374: 1, 1438: 1, 1454: 1, 1457: 1, 1460: 1, 1469: 1, 1471: 1, 1474: 1, 1477: 1, 1486: 1, 1488: 1, 1496: 1, 1499: 1, 1502: 1, 1512: 1, 1516: 1, 1523: 1, 1525: 1, 1528: 1, 1543: 1, 1549: 1, 1553: 1, 1558: 1, 1567: 1, 1583: 1, 1615: 1, 1627: 1, 1642: 1, 1643: 1, 1644: 1, 1663: 1, 1666: 1, 1668: 1, 1690: 1, 1701: 1, 1702: 1, 1703: 1, 1774: 1, 1776: 1, 1782: 1, 1785: 1, 1794: 1, 1796: 1, 1804: 1, 1805: 1, 1816: 1, 1817: 1, 1838: 1, 1839: 1, 1843: 1, 1849: 1, 1856: 1, 1862: 1, 1863: 1, 1867: 1, 1868: 1, 1872: 1, 1873: 1, 1874: 1, 1875: 1, 1883: 1, 1886: 1, 1887: 1, 1888: 1, 1895: 1, 1896: 1, 1899: 1, 1902: 1, 1907: 1, 1910: 1, 1914: 1, 1918: 1, 1930: 1, 1933: 1, 1935: 1, 1936: 1, 1945: 1, 1963: 1, 1972: 1, 1979: 1, 1990: 1, 1991: 1, 2015: 1, 2021: 1, 2028: 1, 2034: 1, 2038: 1, 2057: 1, 2058: 1, 2064: 1})\n",
      "Top bits:\n",
      "https://twitch.tv/videos/1834739811?t=44180s \t 49 occurrences\n",
      "https://twitch.tv/videos/1834739811?t=44210s \t 27 occurrences\n",
      "https://twitch.tv/videos/1847840402?t=16700s \t 25 occurrences\n",
      "https://twitch.tv/videos/1848700210?t=20390s \t 22 occurrences\n",
      "https://twitch.tv/videos/1859767111?t=13520s \t 20 occurrences\n",
      "https://twitch.tv/videos/1859767111?t=15770s \t 20 occurrences\n",
      "https://twitch.tv/videos/1859767111?t=17060s \t 20 occurrences\n",
      "https://twitch.tv/videos/1848700210?t=20420s \t 20 occurrences\n",
      "https://twitch.tv/videos/1834739811?t=44150s \t 20 occurrences\n",
      "https://twitch.tv/videos/1848700210?t=20270s \t 19 occurrences\n",
      "https://twitch.tv/videos/1859767111?t=28640s \t 18 occurrences\n",
      "https://twitch.tv/videos/1855375880?t=27110s \t 18 occurrences\n",
      "https://twitch.tv/videos/1848700210?t=20240s \t 17 occurrences\n",
      "https://twitch.tv/videos/1840123074?t=18080s \t 17 occurrences\n",
      "https://twitch.tv/videos/1859767111?t=16490s \t 16 occurrences\n",
      "https://twitch.tv/videos/1853646266?t=16550s \t 16 occurrences\n",
      "https://twitch.tv/videos/1848700210?t=20330s \t 16 occurrences\n",
      "https://twitch.tv/videos/1848700210?t=29630s \t 16 occurrences\n",
      "https://twitch.tv/videos/1844475336?t=17900s \t 16 occurrences\n",
      "https://twitch.tv/videos/1834739811?t=44390s \t 16 occurrences\n",
      "https://twitch.tv/videos/1859767111?t=6860s \t 15 occurrences\n",
      "https://twitch.tv/videos/1859767111?t=17030s \t 15 occurrences\n",
      "https://twitch.tv/videos/1848700210?t=21470s \t 15 occurrences\n",
      "https://twitch.tv/videos/1848700210?t=25940s \t 15 occurrences\n",
      "https://twitch.tv/videos/1847840402?t=2720s \t 15 occurrences\n",
      "https://twitch.tv/videos/1833040344?t=10340s \t 15 occurrences\n",
      "https://twitch.tv/videos/1859767111?t=3410s \t 14 occurrences\n",
      "https://twitch.tv/videos/1859767111?t=10790s \t 14 occurrences\n",
      "https://twitch.tv/videos/1859767111?t=23990s \t 14 occurrences\n",
      "https://twitch.tv/videos/1855375880?t=11150s \t 14 occurrences\n",
      "https://twitch.tv/videos/1854591288?t=25550s \t 14 occurrences\n",
      "https://twitch.tv/videos/1852752863?t=2360s \t 14 occurrences\n",
      "https://twitch.tv/videos/1851189815?t=3590s \t 14 occurrences\n",
      "https://twitch.tv/videos/1851189815?t=4340s \t 14 occurrences\n",
      "https://twitch.tv/videos/1848700210?t=25220s \t 14 occurrences\n",
      "https://twitch.tv/videos/1848700210?t=26630s \t 14 occurrences\n",
      "https://twitch.tv/videos/1848700210?t=27590s \t 14 occurrences\n",
      "https://twitch.tv/videos/1859767111?t=1010s \t 13 occurrences\n",
      "https://twitch.tv/videos/1859767111?t=14780s \t 13 occurrences\n",
      "https://twitch.tv/videos/1859767111?t=15230s \t 13 occurrences\n",
      "https://twitch.tv/videos/1859767111?t=15260s \t 13 occurrences\n",
      "https://twitch.tv/videos/1859767111?t=15800s \t 13 occurrences\n",
      "https://twitch.tv/videos/1858124467?t=1070s \t 13 occurrences\n",
      "https://twitch.tv/videos/1858124467?t=3890s \t 13 occurrences\n",
      "https://twitch.tv/videos/1852752863?t=10760s \t 13 occurrences\n",
      "https://twitch.tv/videos/1848700210?t=16970s \t 13 occurrences\n",
      "https://twitch.tv/videos/1848700210?t=20300s \t 13 occurrences\n",
      "https://twitch.tv/videos/1848700210?t=22490s \t 13 occurrences\n",
      "https://twitch.tv/videos/1848700210?t=26570s \t 13 occurrences\n",
      "https://twitch.tv/videos/1848700210?t=62420s \t 13 occurrences\n",
      "https://twitch.tv/videos/1848700210?t=82610s \t 13 occurrences\n",
      "https://twitch.tv/videos/1848700210?t=87110s \t 13 occurrences\n",
      "https://twitch.tv/videos/1844475336?t=1400s \t 13 occurrences\n",
      "https://twitch.tv/videos/1844475336?t=14270s \t 13 occurrences\n",
      "https://twitch.tv/videos/1844475336?t=15560s \t 13 occurrences\n",
      "https://twitch.tv/videos/1840123074?t=1490s \t 13 occurrences\n",
      "https://twitch.tv/videos/1840123074?t=2870s \t 13 occurrences\n",
      "https://twitch.tv/videos/1859767111?t=7610s \t 12 occurrences\n",
      "https://twitch.tv/videos/1859767111?t=11480s \t 12 occurrences\n",
      "https://twitch.tv/videos/1859767111?t=15860s \t 12 occurrences\n",
      "https://twitch.tv/videos/1859767111?t=16550s \t 12 occurrences\n",
      "https://twitch.tv/videos/1858124467?t=1580s \t 12 occurrences\n",
      "https://twitch.tv/videos/1855375880?t=14090s \t 12 occurrences\n",
      "https://twitch.tv/videos/1855375880?t=32060s \t 12 occurrences\n",
      "https://twitch.tv/videos/1854591288?t=8840s \t 12 occurrences\n",
      "https://twitch.tv/videos/1852057833?t=14090s \t 12 occurrences\n",
      "https://twitch.tv/videos/1852057833?t=14330s \t 12 occurrences\n",
      "https://twitch.tv/videos/1851189815?t=1490s \t 12 occurrences\n",
      "https://twitch.tv/videos/1851189815?t=3860s \t 12 occurrences\n",
      "https://twitch.tv/videos/1848700210?t=20720s \t 12 occurrences\n",
      "https://twitch.tv/videos/1848700210?t=37700s \t 12 occurrences\n",
      "https://twitch.tv/videos/1848700210?t=65180s \t 12 occurrences\n",
      "https://twitch.tv/videos/1847840402?t=17030s \t 12 occurrences\n",
      "https://twitch.tv/videos/1844475336?t=14540s \t 12 occurrences\n",
      "https://twitch.tv/videos/1844475336?t=17480s \t 12 occurrences\n",
      "https://twitch.tv/videos/1840123074?t=7430s \t 12 occurrences\n",
      "https://twitch.tv/videos/1840123074?t=9920s \t 12 occurrences\n",
      "https://twitch.tv/videos/1859767111?t=3470s \t 11 occurrences\n",
      "https://twitch.tv/videos/1859767111?t=7040s \t 11 occurrences\n",
      "https://twitch.tv/videos/1859767111?t=7850s \t 11 occurrences\n",
      "https://twitch.tv/videos/1859767111?t=10310s \t 11 occurrences\n",
      "https://twitch.tv/videos/1859767111?t=14690s \t 11 occurrences\n",
      "https://twitch.tv/videos/1859767111?t=15710s \t 11 occurrences\n",
      "https://twitch.tv/videos/1859767111?t=15740s \t 11 occurrences\n",
      "https://twitch.tv/videos/1859767111?t=15830s \t 11 occurrences\n",
      "https://twitch.tv/videos/1859767111?t=16280s \t 11 occurrences\n",
      "https://twitch.tv/videos/1859767111?t=17120s \t 11 occurrences\n",
      "https://twitch.tv/videos/1859767111?t=20030s \t 11 occurrences\n",
      "https://twitch.tv/videos/1858124467?t=1160s \t 11 occurrences\n",
      "https://twitch.tv/videos/1852752863?t=29660s \t 11 occurrences\n",
      "https://twitch.tv/videos/1852752863?t=29750s \t 11 occurrences\n",
      "https://twitch.tv/videos/1852752863?t=32360s \t 11 occurrences\n",
      "https://twitch.tv/videos/1852057833?t=19520s \t 11 occurrences\n",
      "https://twitch.tv/videos/1851189815?t=4250s \t 11 occurrences\n",
      "https://twitch.tv/videos/1851189815?t=4790s \t 11 occurrences\n",
      "https://twitch.tv/videos/1848700210?t=2420s \t 11 occurrences\n",
      "https://twitch.tv/videos/1848700210?t=16280s \t 11 occurrences\n",
      "https://twitch.tv/videos/1848700210?t=16310s \t 11 occurrences\n",
      "https://twitch.tv/videos/1848700210?t=20570s \t 11 occurrences\n",
      "https://twitch.tv/videos/1848700210?t=30230s \t 11 occurrences\n"
     ]
    }
   ],
   "source": [
    "plt.style.use(\"seaborn-v0_8-dark\")\n",
    "# Plots, best bits etc.\n",
    "categories = {\n",
    "    \"any\": [\"\"],\n",
    "    \"funny\": [\"LUL\", \"ICANT\", \"KEKW\"],\n",
    "    \"sarcastic\": [\"ICANT\"],\n",
    "    \"pogged\": [\"Pog\", \"POGCRAZY\", \"LETSGO\"],\n",
    "    \"scary\": [\"monkaS\"],\n",
    "    \"+2\": [\"+2\"],\n",
    "    \"-2\": [\"-2\"],\n",
    "    \"controversial\": [\"+2\", \"-2\"],\n",
    "    \"end\": [\"ty ty ty\"],\n",
    "    \"horny\": [\"COCKA\"],\n",
    "    \"shocking\": [\"Cereal\"],\n",
    "    \"bat\": [\"BatChest\"],\n",
    "}\n",
    "\n",
    "game = \"\"\n",
    "category = \"any\"\n",
    "\n",
    "keywords = categories[category]\n",
    "bucket_width = 30\n",
    "overall_counter = Counter()\n",
    "for k, v in sorted(result.items(), key=lambda kv: kv[0], reverse=True):\n",
    "    video_id = v[0].video_id\n",
    "    cmap = plt.get_cmap('Dark2')\n",
    "    c = Counter(c.contentOffsetSeconds // bucket_width for c in v if any(k in c.message for k in keywords) and (game in c.game or c.game == \"UNKNOWN\"))\n",
    "    print(c)\n",
    "    overall_counter += {(bit[0], video_id): bit[1] for bit in c.items()}\n",
    "    continue\n",
    "    keys = sorted(c.keys())\n",
    "    x = [k * bucket_width / 60 for k in keys]\n",
    "    y = [c[k] for k in keys]\n",
    "    chapters_here = chapters[video_id]\n",
    "    fig, ax = plt.subplots(1, 1)\n",
    "    plt.title(k[:len('YYYY-MM-DD')])\n",
    "    plt.plot(x, y)\n",
    "    sns.despine()\n",
    "    ymax = ax.get_ylim()[1]\n",
    "    for i, chapter in enumerate(chapters_here):\n",
    "        chapter_start_min = chapter['positionMilliseconds'] / 1000 / 60\n",
    "        chapter_end_min = chapters_here[i + 1]['positionMilliseconds'] / 1000 / 60 if i + 1 < len(chapters_here) else max(x)\n",
    "        if chapter_end_min - chapter_start_min < 10:\n",
    "            continue\n",
    "        plt.axvspan(chapter_start_min, chapter_end_min, alpha=0.5, color=cmap(i), zorder=-10)\n",
    "        plt.text(chapter_start_min + 1, ymax - 1, chapter['description'], fontsize=8, verticalalignment='top')\n",
    "print(f\"Top bits:\")\n",
    "for bit in overall_counter.most_common(100):\n",
    "    print(f\"https://twitch.tv/videos/{bit[0][1]}?t={bit[0][0] * bucket_width - 10}s \\t {bit[1]} occurrences\")"
   ]
  },
  {
   "cell_type": "code",
   "execution_count": null,
   "metadata": {},
   "outputs": [],
   "source": []
  },
  {
   "cell_type": "code",
   "execution_count": null,
   "metadata": {},
   "outputs": [
    {
     "data": {
      "text/plain": [
       "dict_keys(['_classic_test_patch', 'seaborn-v0_8-notebook', 'seaborn-v0_8-pastel', 'seaborn-v0_8-bright', 'seaborn-v0_8-paper', 'fivethirtyeight', '_mpl-gallery-nogrid', 'seaborn-v0_8-muted', 'seaborn-v0_8-dark-palette', 'classic', 'seaborn-v0_8-white', 'seaborn-v0_8-colorblind', 'fast', 'seaborn-v0_8-deep', '_mpl-gallery', 'seaborn-v0_8', 'grayscale', 'ggplot', 'seaborn-v0_8-darkgrid', 'seaborn-v0_8-poster', 'seaborn-v0_8-dark', 'Solarize_Light2', 'bmh', 'seaborn-v0_8-ticks', 'seaborn-v0_8-talk', 'tableau-colorblind10', 'seaborn-v0_8-whitegrid', 'dark_background'])"
      ]
     },
     "execution_count": 13,
     "metadata": {},
     "output_type": "execute_result"
    }
   ],
   "source": [
    "plt.style.library.keys()"
   ]
  },
  {
   "cell_type": "code",
   "execution_count": null,
   "metadata": {},
   "outputs": [],
   "source": []
  },
  {
   "cell_type": "code",
   "execution_count": null,
   "metadata": {},
   "outputs": [],
   "source": []
  }
 ],
 "metadata": {
  "kernelspec": {
   "display_name": "Python 3",
   "language": "python",
   "name": "python3"
  },
  "language_info": {
   "codemirror_mode": {
    "name": "ipython",
    "version": 3
   },
   "file_extension": ".py",
   "mimetype": "text/x-python",
   "name": "python",
   "nbconvert_exporter": "python",
   "pygments_lexer": "ipython3",
   "version": "3.11.3"
  },
  "orig_nbformat": 4
 },
 "nbformat": 4,
 "nbformat_minor": 2
}
